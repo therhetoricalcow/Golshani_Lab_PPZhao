{
  "nbformat": 4,
  "nbformat_minor": 0,
  "metadata": {
    "colab": {
      "name": "V4StripeRemoval_PIMPIN.ipynb",
      "provenance": [],
      "collapsed_sections": [],
      "toc_visible": true,
      "machine_shape": "hm"
    },
    "kernelspec": {
      "name": "python3",
      "display_name": "Python 3"
    },
    "accelerator": "GPU"
  },
  "cells": [
    {
      "cell_type": "code",
      "metadata": {
        "id": "f3jwe-Wi92QC"
      },
      "source": [
        "import numpy as np\n",
        "from numpy import matlib\n",
        "import os\n",
        "import cv2\n",
        "import scipy.signal as signal\n",
        "import scipy\n",
        "from google.colab.patches import cv2_imshow\n"
      ],
      "execution_count": null,
      "outputs": []
    },
    {
      "cell_type": "code",
      "metadata": {
        "id": "C3KrwWBQ75wr"
      },
      "source": [
        "def lowpass_order(f_pass, f_stop, dpass_dB, dstop_dB, fsamp = 2):\n",
        "    \"\"\"\n",
        "    Optimal FIR (equal ripple) Lowpass Order Determination\n",
        "    \n",
        "    Text reference: Ifeachor, Digital Signal Processing a Practical Approach, \n",
        "    second edition, Prentice Hall, 2002.\n",
        "    Journal paper reference: Herriman et al., Practical Design Rules for Optimum\n",
        "    Finite Imulse Response Digitl Filters, Bell Syst. Tech. J., vol 52, pp. \n",
        "    769-799, July-Aug., 1973.IEEE, 1973.\n",
        "    \"\"\"\n",
        "    dpass = 1 - 10**(-dpass_dB/20)\n",
        "    dstop = 10**(-dstop_dB/20)\n",
        "    Df = (f_stop - f_pass)/fsamp\n",
        "    a1 = 5.309e-3\n",
        "    a2 = 7.114e-2\n",
        "    a3 = -4.761e-1\n",
        "    a4 = -2.66e-3\n",
        "    a5 = -5.941e-1\n",
        "    a6 = -4.278e-1\n",
        "    \n",
        "    Dinf = np.log10(dstop)*(a1*np.log10(dpass)**2 + a2*np.log10(dpass) + a3) \\\n",
        "           + (a4*np.log10(dpass)**2 + a5*np.log10(dpass) + a6)\n",
        "    f = 11.01217 + 0.51244*(np.log10(dpass) - np.log10(dstop))\n",
        "    N = Dinf/Df - f*Df + 1\n",
        "    ff = 2*np.array([0, f_pass, f_stop, fsamp/2])/fsamp\n",
        "    aa = np.array([1, 1, 0, 0])\n",
        "    wts = np.array([1.0, dpass/dstop])\n",
        "    return int(N), ff, aa, wts"
      ],
      "execution_count": null,
      "outputs": []
    },
    {
      "cell_type": "code",
      "metadata": {
        "id": "ae-wMjIC7Q_h"
      },
      "source": [
        "def fir_remez_lpf(f_pass, f_stop, d_pass, d_stop, fs = 20.0, N_bump=5, status = True):\n",
        "    \"\"\"\n",
        "    Design an FIR lowpass filter using remez with order\n",
        "    determination. The filter order is determined based on \n",
        "    f_pass Hz, fstop Hz, and the desired passband ripple \n",
        "    d_pass dB and stopband attenuation d_stop dB all \n",
        "    relative to a sampling rate of fs Hz.\n",
        "\n",
        "    Mark Wickert October 2016, updated October 2018\n",
        "    \"\"\"\n",
        "    n, ff, aa, wts = lowpass_order(f_pass, f_stop, d_pass, d_stop, fsamp=fs)\n",
        "    # Bump up the order by N_bump to bring down the final d_pass & d_stop\n",
        "    N_taps = n\n",
        "    N_taps += N_bump\n",
        "    b = signal.remez(N_taps, ff, aa[0::2], wts,Hz=2)\n",
        "    #if status:\n",
        "        #print('Remez filter taps = %d.' % N_taps)\n",
        "    return b"
      ],
      "execution_count": null,
      "outputs": []
    },
    {
      "cell_type": "code",
      "metadata": {
        "id": "cZsk3X78-SOX"
      },
      "source": [
        "from google.colab import drive\n",
        "drive.mount('/content/gdrive', force_remount=True)"
      ],
      "execution_count": null,
      "outputs": []
    },
    {
      "cell_type": "code",
      "metadata": {
        "id": "tqKF8Kkb-oZq",
        "colab": {
          "base_uri": "https://localhost:8080/",
          "height": 510
        },
        "outputId": "cdf0f187-1b11-483a-ec3a-b56cd0b42e9a"
      },
      "source": [
        "import shutil\n",
        "import os\n",
        "path = '/content/gdrive/My Drive/H8_M55_S48 PP213-1' ## Add path to videos with mcam data here\n",
        "os.chdir('/content/gdrive/My Drive/')\n",
        "shutil.make_archive('H8_M55_S48 PP213-1_ZIPPED','zip',path)"
      ],
      "execution_count": null,
      "outputs": [
        {
          "output_type": "error",
          "ename": "ValueError",
          "evalue": "ignored",
          "traceback": [
            "\u001b[0;31m---------------------------------------------------------------------------\u001b[0m",
            "\u001b[0;31mFileNotFoundError\u001b[0m                         Traceback (most recent call last)",
            "\u001b[0;32m/usr/lib/python3.6/zipfile.py\u001b[0m in \u001b[0;36mwrite\u001b[0;34m(self, filename, arcname, compress_type)\u001b[0m\n\u001b[1;32m   1645\u001b[0m             \u001b[0;32mwith\u001b[0m \u001b[0mopen\u001b[0m\u001b[0;34m(\u001b[0m\u001b[0mfilename\u001b[0m\u001b[0;34m,\u001b[0m \u001b[0;34m\"rb\"\u001b[0m\u001b[0;34m)\u001b[0m \u001b[0;32mas\u001b[0m \u001b[0msrc\u001b[0m\u001b[0;34m,\u001b[0m \u001b[0mself\u001b[0m\u001b[0;34m.\u001b[0m\u001b[0mopen\u001b[0m\u001b[0;34m(\u001b[0m\u001b[0mzinfo\u001b[0m\u001b[0;34m,\u001b[0m \u001b[0;34m'w'\u001b[0m\u001b[0;34m)\u001b[0m \u001b[0;32mas\u001b[0m \u001b[0mdest\u001b[0m\u001b[0;34m:\u001b[0m\u001b[0;34m\u001b[0m\u001b[0;34m\u001b[0m\u001b[0m\n\u001b[0;32m-> 1646\u001b[0;31m                 \u001b[0mshutil\u001b[0m\u001b[0;34m.\u001b[0m\u001b[0mcopyfileobj\u001b[0m\u001b[0;34m(\u001b[0m\u001b[0msrc\u001b[0m\u001b[0;34m,\u001b[0m \u001b[0mdest\u001b[0m\u001b[0;34m,\u001b[0m \u001b[0;36m1024\u001b[0m\u001b[0;34m*\u001b[0m\u001b[0;36m8\u001b[0m\u001b[0;34m)\u001b[0m\u001b[0;34m\u001b[0m\u001b[0;34m\u001b[0m\u001b[0m\n\u001b[0m\u001b[1;32m   1647\u001b[0m \u001b[0;34m\u001b[0m\u001b[0m\n",
            "\u001b[0;32m/usr/lib/python3.6/shutil.py\u001b[0m in \u001b[0;36mcopyfileobj\u001b[0;34m(fsrc, fdst, length)\u001b[0m\n\u001b[1;32m     81\u001b[0m             \u001b[0;32mbreak\u001b[0m\u001b[0;34m\u001b[0m\u001b[0;34m\u001b[0m\u001b[0m\n\u001b[0;32m---> 82\u001b[0;31m         \u001b[0mfdst\u001b[0m\u001b[0;34m.\u001b[0m\u001b[0mwrite\u001b[0m\u001b[0;34m(\u001b[0m\u001b[0mbuf\u001b[0m\u001b[0;34m)\u001b[0m\u001b[0;34m\u001b[0m\u001b[0;34m\u001b[0m\u001b[0m\n\u001b[0m\u001b[1;32m     83\u001b[0m \u001b[0;34m\u001b[0m\u001b[0m\n",
            "\u001b[0;32m/usr/lib/python3.6/zipfile.py\u001b[0m in \u001b[0;36mwrite\u001b[0;34m(self, data)\u001b[0m\n\u001b[1;32m   1014\u001b[0m             \u001b[0mself\u001b[0m\u001b[0;34m.\u001b[0m\u001b[0m_compress_size\u001b[0m \u001b[0;34m+=\u001b[0m \u001b[0mlen\u001b[0m\u001b[0;34m(\u001b[0m\u001b[0mdata\u001b[0m\u001b[0;34m)\u001b[0m\u001b[0;34m\u001b[0m\u001b[0;34m\u001b[0m\u001b[0m\n\u001b[0;32m-> 1015\u001b[0;31m         \u001b[0mself\u001b[0m\u001b[0;34m.\u001b[0m\u001b[0m_fileobj\u001b[0m\u001b[0;34m.\u001b[0m\u001b[0mwrite\u001b[0m\u001b[0;34m(\u001b[0m\u001b[0mdata\u001b[0m\u001b[0;34m)\u001b[0m\u001b[0;34m\u001b[0m\u001b[0;34m\u001b[0m\u001b[0m\n\u001b[0m\u001b[1;32m   1016\u001b[0m         \u001b[0;32mreturn\u001b[0m \u001b[0mnbytes\u001b[0m\u001b[0;34m\u001b[0m\u001b[0;34m\u001b[0m\u001b[0m\n",
            "\u001b[0;31mFileNotFoundError\u001b[0m: [Errno 2] No such file or directory",
            "\nDuring handling of the above exception, another exception occurred:\n",
            "\u001b[0;31mFileNotFoundError\u001b[0m                         Traceback (most recent call last)",
            "\u001b[0;32m/usr/lib/python3.6/shutil.py\u001b[0m in \u001b[0;36m_make_zipfile\u001b[0;34m(base_name, base_dir, verbose, dry_run, logger)\u001b[0m\n\u001b[1;32m    703\u001b[0m                     \u001b[0;32mif\u001b[0m \u001b[0mos\u001b[0m\u001b[0;34m.\u001b[0m\u001b[0mpath\u001b[0m\u001b[0;34m.\u001b[0m\u001b[0misfile\u001b[0m\u001b[0;34m(\u001b[0m\u001b[0mpath\u001b[0m\u001b[0;34m)\u001b[0m\u001b[0;34m:\u001b[0m\u001b[0;34m\u001b[0m\u001b[0;34m\u001b[0m\u001b[0m\n\u001b[0;32m--> 704\u001b[0;31m                         \u001b[0mzf\u001b[0m\u001b[0;34m.\u001b[0m\u001b[0mwrite\u001b[0m\u001b[0;34m(\u001b[0m\u001b[0mpath\u001b[0m\u001b[0;34m,\u001b[0m \u001b[0mpath\u001b[0m\u001b[0;34m)\u001b[0m\u001b[0;34m\u001b[0m\u001b[0;34m\u001b[0m\u001b[0m\n\u001b[0m\u001b[1;32m    705\u001b[0m                         \u001b[0;32mif\u001b[0m \u001b[0mlogger\u001b[0m \u001b[0;32mis\u001b[0m \u001b[0;32mnot\u001b[0m \u001b[0;32mNone\u001b[0m\u001b[0;34m:\u001b[0m\u001b[0;34m\u001b[0m\u001b[0;34m\u001b[0m\u001b[0m\n",
            "\u001b[0;32m/usr/lib/python3.6/zipfile.py\u001b[0m in \u001b[0;36mwrite\u001b[0;34m(self, filename, arcname, compress_type)\u001b[0m\n\u001b[1;32m   1645\u001b[0m             \u001b[0;32mwith\u001b[0m \u001b[0mopen\u001b[0m\u001b[0;34m(\u001b[0m\u001b[0mfilename\u001b[0m\u001b[0;34m,\u001b[0m \u001b[0;34m\"rb\"\u001b[0m\u001b[0;34m)\u001b[0m \u001b[0;32mas\u001b[0m \u001b[0msrc\u001b[0m\u001b[0;34m,\u001b[0m \u001b[0mself\u001b[0m\u001b[0;34m.\u001b[0m\u001b[0mopen\u001b[0m\u001b[0;34m(\u001b[0m\u001b[0mzinfo\u001b[0m\u001b[0;34m,\u001b[0m \u001b[0;34m'w'\u001b[0m\u001b[0;34m)\u001b[0m \u001b[0;32mas\u001b[0m \u001b[0mdest\u001b[0m\u001b[0;34m:\u001b[0m\u001b[0;34m\u001b[0m\u001b[0;34m\u001b[0m\u001b[0m\n\u001b[0;32m-> 1646\u001b[0;31m                 \u001b[0mshutil\u001b[0m\u001b[0;34m.\u001b[0m\u001b[0mcopyfileobj\u001b[0m\u001b[0;34m(\u001b[0m\u001b[0msrc\u001b[0m\u001b[0;34m,\u001b[0m \u001b[0mdest\u001b[0m\u001b[0;34m,\u001b[0m \u001b[0;36m1024\u001b[0m\u001b[0;34m*\u001b[0m\u001b[0;36m8\u001b[0m\u001b[0;34m)\u001b[0m\u001b[0;34m\u001b[0m\u001b[0;34m\u001b[0m\u001b[0m\n\u001b[0m\u001b[1;32m   1647\u001b[0m \u001b[0;34m\u001b[0m\u001b[0m\n",
            "\u001b[0;32m/usr/lib/python3.6/zipfile.py\u001b[0m in \u001b[0;36mclose\u001b[0;34m(self)\u001b[0m\n\u001b[1;32m   1052\u001b[0m             \u001b[0mself\u001b[0m\u001b[0;34m.\u001b[0m\u001b[0m_zipfile\u001b[0m\u001b[0;34m.\u001b[0m\u001b[0mstart_dir\u001b[0m \u001b[0;34m=\u001b[0m \u001b[0mself\u001b[0m\u001b[0;34m.\u001b[0m\u001b[0m_fileobj\u001b[0m\u001b[0;34m.\u001b[0m\u001b[0mtell\u001b[0m\u001b[0;34m(\u001b[0m\u001b[0;34m)\u001b[0m\u001b[0;34m\u001b[0m\u001b[0;34m\u001b[0m\u001b[0m\n\u001b[0;32m-> 1053\u001b[0;31m             \u001b[0mself\u001b[0m\u001b[0;34m.\u001b[0m\u001b[0m_fileobj\u001b[0m\u001b[0;34m.\u001b[0m\u001b[0mseek\u001b[0m\u001b[0;34m(\u001b[0m\u001b[0mself\u001b[0m\u001b[0;34m.\u001b[0m\u001b[0m_zinfo\u001b[0m\u001b[0;34m.\u001b[0m\u001b[0mheader_offset\u001b[0m\u001b[0;34m)\u001b[0m\u001b[0;34m\u001b[0m\u001b[0;34m\u001b[0m\u001b[0m\n\u001b[0m\u001b[1;32m   1054\u001b[0m             \u001b[0mself\u001b[0m\u001b[0;34m.\u001b[0m\u001b[0m_fileobj\u001b[0m\u001b[0;34m.\u001b[0m\u001b[0mwrite\u001b[0m\u001b[0;34m(\u001b[0m\u001b[0mself\u001b[0m\u001b[0;34m.\u001b[0m\u001b[0m_zinfo\u001b[0m\u001b[0;34m.\u001b[0m\u001b[0mFileHeader\u001b[0m\u001b[0;34m(\u001b[0m\u001b[0mself\u001b[0m\u001b[0;34m.\u001b[0m\u001b[0m_zip64\u001b[0m\u001b[0;34m)\u001b[0m\u001b[0;34m)\u001b[0m\u001b[0;34m\u001b[0m\u001b[0;34m\u001b[0m\u001b[0m\n",
            "\u001b[0;31mFileNotFoundError\u001b[0m: [Errno 2] No such file or directory",
            "\nDuring handling of the above exception, another exception occurred:\n",
            "\u001b[0;31mValueError\u001b[0m                                Traceback (most recent call last)",
            "\u001b[0;32m<ipython-input-3-cac3d17bbed5>\u001b[0m in \u001b[0;36m<module>\u001b[0;34m()\u001b[0m\n\u001b[1;32m      3\u001b[0m \u001b[0mpath\u001b[0m \u001b[0;34m=\u001b[0m \u001b[0;34m'/content/gdrive/My Drive/H8_M55_S48 PP213-1'\u001b[0m \u001b[0;31m## Add path to videos with mcam data here\u001b[0m\u001b[0;34m\u001b[0m\u001b[0;34m\u001b[0m\u001b[0m\n\u001b[1;32m      4\u001b[0m \u001b[0mos\u001b[0m\u001b[0;34m.\u001b[0m\u001b[0mchdir\u001b[0m\u001b[0;34m(\u001b[0m\u001b[0;34m'/content/gdrive/My Drive/'\u001b[0m\u001b[0;34m)\u001b[0m\u001b[0;34m\u001b[0m\u001b[0;34m\u001b[0m\u001b[0m\n\u001b[0;32m----> 5\u001b[0;31m \u001b[0mshutil\u001b[0m\u001b[0;34m.\u001b[0m\u001b[0mmake_archive\u001b[0m\u001b[0;34m(\u001b[0m\u001b[0;34m'H8_M55_S48 PP213-1_ZIPPED'\u001b[0m\u001b[0;34m,\u001b[0m\u001b[0;34m'zip'\u001b[0m\u001b[0;34m,\u001b[0m\u001b[0mpath\u001b[0m\u001b[0;34m)\u001b[0m\u001b[0;34m\u001b[0m\u001b[0;34m\u001b[0m\u001b[0m\n\u001b[0m",
            "\u001b[0;32m/usr/lib/python3.6/shutil.py\u001b[0m in \u001b[0;36mmake_archive\u001b[0;34m(base_name, format, root_dir, base_dir, verbose, dry_run, owner, group, logger)\u001b[0m\n\u001b[1;32m    804\u001b[0m \u001b[0;34m\u001b[0m\u001b[0m\n\u001b[1;32m    805\u001b[0m     \u001b[0;32mtry\u001b[0m\u001b[0;34m:\u001b[0m\u001b[0;34m\u001b[0m\u001b[0;34m\u001b[0m\u001b[0m\n\u001b[0;32m--> 806\u001b[0;31m         \u001b[0mfilename\u001b[0m \u001b[0;34m=\u001b[0m \u001b[0mfunc\u001b[0m\u001b[0;34m(\u001b[0m\u001b[0mbase_name\u001b[0m\u001b[0;34m,\u001b[0m \u001b[0mbase_dir\u001b[0m\u001b[0;34m,\u001b[0m \u001b[0;34m**\u001b[0m\u001b[0mkwargs\u001b[0m\u001b[0;34m)\u001b[0m\u001b[0;34m\u001b[0m\u001b[0;34m\u001b[0m\u001b[0m\n\u001b[0m\u001b[1;32m    807\u001b[0m     \u001b[0;32mfinally\u001b[0m\u001b[0;34m:\u001b[0m\u001b[0;34m\u001b[0m\u001b[0;34m\u001b[0m\u001b[0m\n\u001b[1;32m    808\u001b[0m         \u001b[0;32mif\u001b[0m \u001b[0mroot_dir\u001b[0m \u001b[0;32mis\u001b[0m \u001b[0;32mnot\u001b[0m \u001b[0;32mNone\u001b[0m\u001b[0;34m:\u001b[0m\u001b[0;34m\u001b[0m\u001b[0;34m\u001b[0m\u001b[0m\n",
            "\u001b[0;32m/usr/lib/python3.6/shutil.py\u001b[0m in \u001b[0;36m_make_zipfile\u001b[0;34m(base_name, base_dir, verbose, dry_run, logger)\u001b[0m\n\u001b[1;32m    704\u001b[0m                         \u001b[0mzf\u001b[0m\u001b[0;34m.\u001b[0m\u001b[0mwrite\u001b[0m\u001b[0;34m(\u001b[0m\u001b[0mpath\u001b[0m\u001b[0;34m,\u001b[0m \u001b[0mpath\u001b[0m\u001b[0;34m)\u001b[0m\u001b[0;34m\u001b[0m\u001b[0;34m\u001b[0m\u001b[0m\n\u001b[1;32m    705\u001b[0m                         \u001b[0;32mif\u001b[0m \u001b[0mlogger\u001b[0m \u001b[0;32mis\u001b[0m \u001b[0;32mnot\u001b[0m \u001b[0;32mNone\u001b[0m\u001b[0;34m:\u001b[0m\u001b[0;34m\u001b[0m\u001b[0;34m\u001b[0m\u001b[0m\n\u001b[0;32m--> 706\u001b[0;31m                             \u001b[0mlogger\u001b[0m\u001b[0;34m.\u001b[0m\u001b[0minfo\u001b[0m\u001b[0;34m(\u001b[0m\u001b[0;34m\"adding '%s'\"\u001b[0m\u001b[0;34m,\u001b[0m \u001b[0mpath\u001b[0m\u001b[0;34m)\u001b[0m\u001b[0;34m\u001b[0m\u001b[0;34m\u001b[0m\u001b[0m\n\u001b[0m\u001b[1;32m    707\u001b[0m \u001b[0;34m\u001b[0m\u001b[0m\n\u001b[1;32m    708\u001b[0m     \u001b[0;32mreturn\u001b[0m \u001b[0mzip_filename\u001b[0m\u001b[0;34m\u001b[0m\u001b[0;34m\u001b[0m\u001b[0m\n",
            "\u001b[0;32m/usr/lib/python3.6/zipfile.py\u001b[0m in \u001b[0;36m__exit__\u001b[0;34m(self, type, value, traceback)\u001b[0m\n\u001b[1;32m   1172\u001b[0m \u001b[0;34m\u001b[0m\u001b[0m\n\u001b[1;32m   1173\u001b[0m     \u001b[0;32mdef\u001b[0m \u001b[0m__exit__\u001b[0m\u001b[0;34m(\u001b[0m\u001b[0mself\u001b[0m\u001b[0;34m,\u001b[0m \u001b[0mtype\u001b[0m\u001b[0;34m,\u001b[0m \u001b[0mvalue\u001b[0m\u001b[0;34m,\u001b[0m \u001b[0mtraceback\u001b[0m\u001b[0;34m)\u001b[0m\u001b[0;34m:\u001b[0m\u001b[0;34m\u001b[0m\u001b[0;34m\u001b[0m\u001b[0m\n\u001b[0;32m-> 1174\u001b[0;31m         \u001b[0mself\u001b[0m\u001b[0;34m.\u001b[0m\u001b[0mclose\u001b[0m\u001b[0;34m(\u001b[0m\u001b[0;34m)\u001b[0m\u001b[0;34m\u001b[0m\u001b[0;34m\u001b[0m\u001b[0m\n\u001b[0m\u001b[1;32m   1175\u001b[0m \u001b[0;34m\u001b[0m\u001b[0m\n\u001b[1;32m   1176\u001b[0m     \u001b[0;32mdef\u001b[0m \u001b[0m__repr__\u001b[0m\u001b[0;34m(\u001b[0m\u001b[0mself\u001b[0m\u001b[0;34m)\u001b[0m\u001b[0;34m:\u001b[0m\u001b[0;34m\u001b[0m\u001b[0;34m\u001b[0m\u001b[0m\n",
            "\u001b[0;32m/usr/lib/python3.6/zipfile.py\u001b[0m in \u001b[0;36mclose\u001b[0;34m(self)\u001b[0m\n\u001b[1;32m   1693\u001b[0m \u001b[0;34m\u001b[0m\u001b[0m\n\u001b[1;32m   1694\u001b[0m         \u001b[0;32mif\u001b[0m \u001b[0mself\u001b[0m\u001b[0;34m.\u001b[0m\u001b[0m_writing\u001b[0m\u001b[0;34m:\u001b[0m\u001b[0;34m\u001b[0m\u001b[0;34m\u001b[0m\u001b[0m\n\u001b[0;32m-> 1695\u001b[0;31m             raise ValueError(\"Can't close the ZIP file while there is \"\n\u001b[0m\u001b[1;32m   1696\u001b[0m                              \u001b[0;34m\"an open writing handle on it. \"\u001b[0m\u001b[0;34m\u001b[0m\u001b[0;34m\u001b[0m\u001b[0m\n\u001b[1;32m   1697\u001b[0m                              \"Close the writing handle before closing the zip.\")\n",
            "\u001b[0;31mValueError\u001b[0m: Can't close the ZIP file while there is an open writing handle on it. Close the writing handle before closing the zip."
          ]
        }
      ]
    },
    {
      "cell_type": "code",
      "metadata": {
        "id": "X_L5tAsG_s0V"
      },
      "source": [
        "os.chdir('/content/gdrive/My Drive/')\n",
        "shutil.make_archive('H8_M55_S48 PP213-1','zip',path)"
      ],
      "execution_count": null,
      "outputs": []
    },
    {
      "cell_type": "markdown",
      "metadata": {
        "id": "f3W3gKPD-gXG"
      },
      "source": [
        "Paths and Directories"
      ]
    },
    {
      "cell_type": "code",
      "metadata": {
        "id": "2U4M_vgw-THO"
      },
      "source": [
        "##Paths and Directories\n",
        "import shutil\n",
        "path = '/content/gdrive/My Drive/H8_M55_S48 PP213-1' ## Add path to videos with mcam data here\n",
        "savepath = path + '/Cleaned_msCam'\n",
        "cleaned_path = '/root/Cleaned_Data'\n",
        "path_to_setting_and_notes = path +'/settings_and_notes.dat'\n",
        "path_to_timestamp = path +'/timestamp.dat'\n",
        "# if len(os.listdir(savepath)) == 0:\n",
        "try:\n",
        "  os.mkdir(cleaned_path)\n",
        "  os.mkdir(cleaned_path + '/msCam')\n",
        "  os.mkdir(cleaned_path + '/Cleaned_msCam')\n",
        "  os.mkdir(savepath)\n",
        "  shutil.copyfile(path_to_setting_and_notes, savepath + '/settings_and_notes.dat')\n",
        "  shutil.copyfile(path_to_timestamp, savepath + '/timestamp.dat')\n",
        " \n",
        "except:\n",
        "  shutil.rmtree(cleaned_path)\n",
        "  os.mkdir(cleaned_path)\n",
        "  os.mkdir(cleaned_path + '/msCam')\n",
        "  os.mkdir(cleaned_path + '/Cleaned_msCam')\n",
        "  try:\n",
        "    os.mkdir(savepath)\n",
        "  except:\n",
        "    pass\n",
        "  shutil.copyfile(path_to_setting_and_notes, savepath + '/settings_and_notes.dat')\n",
        "  shutil.copyfile(path_to_timestamp, savepath + '/timestamp.dat')\n",
        "# else:\n",
        "#   print('Setting and Timestamp Files inside the folder!')\n"
      ],
      "execution_count": null,
      "outputs": []
    },
    {
      "cell_type": "code",
      "metadata": {
        "id": "H-dkkTz5NQj5"
      },
      "source": [
        "import re\n",
        "##Function for Alphanumerically ordering file list\n",
        "def sorted_nicely( l ):\n",
        "    \"\"\" Sorts the given iterable in the way that is expected.\n",
        " \n",
        "    Required arguments:\n",
        "    l -- The iterable to be sorted.\n",
        " \n",
        "    \"\"\"\n",
        "    convert = lambda text: int(text) if text.isdigit() else text\n",
        "    alphanum_key = lambda key: [convert(c) for c in re.split('([0-9]+)', key)]\n",
        "    return sorted(l, key = alphanum_key)"
      ],
      "execution_count": null,
      "outputs": []
    },
    {
      "cell_type": "code",
      "metadata": {
        "id": "hYZRnHazKYvT",
        "colab": {
          "base_uri": "https://localhost:8080/",
          "height": 374
        },
        "outputId": "c866b420-9a78-445c-df36-43e619a24b9b"
      },
      "source": [
        "###Exports the Cleaned Videos to the Specified Drive Folder\n",
        "filelist = os.listdir(path)\n",
        "filelist = sorted_nicely(filelist)\n",
        "filelist = [x for x in filelist if x.startswith('msCam')] \n",
        "for infile in sorted_nicely(filelist):\n",
        "  if(str(infile).startswith('msCam')):\n",
        "    shutil.copy2(path + '/' + str(infile), cleaned_path + '/msCam/' + str(infile))\n",
        "    print('Cleaning:' + str(infile))\n",
        "    video = cv2.VideoCapture(cleaned_path + '/msCam/' + str(infile))\n",
        "    fps = video.get(cv2.CAP_PROP_FPS)\n",
        "    cleaned_video = cleaned_path + '/Cleaned_msCam' + '/' + str(infile)\n",
        "    cap1 = cv2.VideoWriter(cleaned_video,cv2.VideoWriter_fourcc('M','J','P','G'),fps,(int(video.get(cv2.CAP_PROP_FRAME_WIDTH)),int(video.get(cv2.CAP_PROP_FRAME_HEIGHT))))\n",
        "    \n",
        "    while(video.isOpened()):\n",
        "      ret,frame = video.read()\n",
        "      if(ret):\n",
        "        ####Method 1\n",
        "        d = fir_remez_lpf(0.01,1,1,50)\n",
        "        b = np.mean(frame,1)\n",
        "        bs = scipy.signal.filtfilt(d,1,b,axis = 0)\n",
        "        ttemp = bs - b\n",
        "        ttemp = np.reshape(ttemp,(ttemp.shape[0],1,ttemp.shape[1]))\n",
        "        ttempp = np.tile(ttemp,(1,frame.shape[1],1))\n",
        "        iimg = (frame) + ttempp\n",
        "\n",
        "        ####Not Necessarily Needed\n",
        "        c = np.mean(iimg,0)\n",
        "        cs = scipy.signal.filtfilt(d,1,c,axis = 0)\n",
        "        ttemp = cs - c\n",
        "        ttemp = np.reshape(ttemp,(1,ttemp.shape[0],ttemp.shape[1]))\n",
        "        ttempp = np.tile(ttemp,(frame.shape[0],1,1))\n",
        "        frame_C = (iimg) + ttempp\n",
        "        frame_C = frame_C-(np.mean(frame_C[:]-90))\n",
        "        frame_fft_C = np.fft.fftshift(np.fft.fft2(np.fft.fftshift(frame_C)))\n",
        "        #cv2_imshow(np.abs(frame_C))\n",
        "        ##Method 2\n",
        "        frame_fft = np.fft.fftshift(np.fft.fft2(np.fft.fftshift(frame)))\n",
        "        frame_fft[260-2:260+2,404-2:404+2]=0\n",
        "        frame_fft[348-2:348+2,404-2:404+2]=0\n",
        "\n",
        "        frame_fft[239-1:239+1,404-2:404+2]=0\n",
        "        frame_fft[369-1:369+1,404-2:404+2]=0\n",
        "\n",
        "        frame_fft[282-2:282+2,404-2:404+2]=0\n",
        "        frame_fft[326-2:326+2,404-2:404+2]=0\n",
        "\n",
        "        frame_fft[0:59,404-5:404+5]=0\n",
        "        frame_fft[607-60+1:607,404-5:404+5]=0\n",
        "\n",
        "        frame_c2=np.fft.fftshift(np.fft.ifft2(np.fft.fftshift(frame_fft)))\n",
        "        # cv2_imshow(np.abs(frame_c2).astype(np.uint8))\n",
        "        cap1.write((frame_C).astype(np.uint8))\n",
        "      else:\n",
        "        video.release()\n",
        "        cap1.release()\n",
        "    shutil.copyfile(cleaned_video,savepath + '/' + str(infile))\n",
        "    print('Wrote Cleaned File to Gdrive')\n",
        "cv2.destroyAllWindows()"
      ],
      "execution_count": null,
      "outputs": [
        {
          "output_type": "error",
          "ename": "OSError",
          "evalue": "ignored",
          "traceback": [
            "\u001b[0;31m---------------------------------------------------------------------------\u001b[0m",
            "\u001b[0;31mOSError\u001b[0m                                   Traceback (most recent call last)",
            "\u001b[0;32m<ipython-input-9-77c1c5c3d820>\u001b[0m in \u001b[0;36m<module>\u001b[0;34m()\u001b[0m\n\u001b[1;32m      5\u001b[0m \u001b[0;32mfor\u001b[0m \u001b[0minfile\u001b[0m \u001b[0;32min\u001b[0m \u001b[0msorted_nicely\u001b[0m\u001b[0;34m(\u001b[0m\u001b[0mfilelist\u001b[0m\u001b[0;34m)\u001b[0m\u001b[0;34m:\u001b[0m\u001b[0;34m\u001b[0m\u001b[0;34m\u001b[0m\u001b[0m\n\u001b[1;32m      6\u001b[0m   \u001b[0;32mif\u001b[0m\u001b[0;34m(\u001b[0m\u001b[0mstr\u001b[0m\u001b[0;34m(\u001b[0m\u001b[0minfile\u001b[0m\u001b[0;34m)\u001b[0m\u001b[0;34m.\u001b[0m\u001b[0mstartswith\u001b[0m\u001b[0;34m(\u001b[0m\u001b[0;34m'msCam'\u001b[0m\u001b[0;34m)\u001b[0m\u001b[0;34m)\u001b[0m\u001b[0;34m:\u001b[0m\u001b[0;34m\u001b[0m\u001b[0;34m\u001b[0m\u001b[0m\n\u001b[0;32m----> 7\u001b[0;31m     \u001b[0mshutil\u001b[0m\u001b[0;34m.\u001b[0m\u001b[0mcopy2\u001b[0m\u001b[0;34m(\u001b[0m\u001b[0mpath\u001b[0m \u001b[0;34m+\u001b[0m \u001b[0;34m'/'\u001b[0m \u001b[0;34m+\u001b[0m \u001b[0mstr\u001b[0m\u001b[0;34m(\u001b[0m\u001b[0minfile\u001b[0m\u001b[0;34m)\u001b[0m\u001b[0;34m,\u001b[0m \u001b[0mcleaned_path\u001b[0m \u001b[0;34m+\u001b[0m \u001b[0;34m'/msCam/'\u001b[0m \u001b[0;34m+\u001b[0m \u001b[0mstr\u001b[0m\u001b[0;34m(\u001b[0m\u001b[0minfile\u001b[0m\u001b[0;34m)\u001b[0m\u001b[0;34m)\u001b[0m\u001b[0;34m\u001b[0m\u001b[0;34m\u001b[0m\u001b[0m\n\u001b[0m\u001b[1;32m      8\u001b[0m     \u001b[0mprint\u001b[0m\u001b[0;34m(\u001b[0m\u001b[0;34m'Cleaning:'\u001b[0m \u001b[0;34m+\u001b[0m \u001b[0mstr\u001b[0m\u001b[0;34m(\u001b[0m\u001b[0minfile\u001b[0m\u001b[0;34m)\u001b[0m\u001b[0;34m)\u001b[0m\u001b[0;34m\u001b[0m\u001b[0;34m\u001b[0m\u001b[0m\n\u001b[1;32m      9\u001b[0m     \u001b[0mvideo\u001b[0m \u001b[0;34m=\u001b[0m \u001b[0mcv2\u001b[0m\u001b[0;34m.\u001b[0m\u001b[0mVideoCapture\u001b[0m\u001b[0;34m(\u001b[0m\u001b[0mcleaned_path\u001b[0m \u001b[0;34m+\u001b[0m \u001b[0;34m'/msCam/'\u001b[0m \u001b[0;34m+\u001b[0m \u001b[0mstr\u001b[0m\u001b[0;34m(\u001b[0m\u001b[0minfile\u001b[0m\u001b[0;34m)\u001b[0m\u001b[0;34m)\u001b[0m\u001b[0;34m\u001b[0m\u001b[0;34m\u001b[0m\u001b[0m\n",
            "\u001b[0;32m/usr/lib/python3.6/shutil.py\u001b[0m in \u001b[0;36mcopy2\u001b[0;34m(src, dst, follow_symlinks)\u001b[0m\n\u001b[1;32m    261\u001b[0m     \u001b[0;32mif\u001b[0m \u001b[0mos\u001b[0m\u001b[0;34m.\u001b[0m\u001b[0mpath\u001b[0m\u001b[0;34m.\u001b[0m\u001b[0misdir\u001b[0m\u001b[0;34m(\u001b[0m\u001b[0mdst\u001b[0m\u001b[0;34m)\u001b[0m\u001b[0;34m:\u001b[0m\u001b[0;34m\u001b[0m\u001b[0;34m\u001b[0m\u001b[0m\n\u001b[1;32m    262\u001b[0m         \u001b[0mdst\u001b[0m \u001b[0;34m=\u001b[0m \u001b[0mos\u001b[0m\u001b[0;34m.\u001b[0m\u001b[0mpath\u001b[0m\u001b[0;34m.\u001b[0m\u001b[0mjoin\u001b[0m\u001b[0;34m(\u001b[0m\u001b[0mdst\u001b[0m\u001b[0;34m,\u001b[0m \u001b[0mos\u001b[0m\u001b[0;34m.\u001b[0m\u001b[0mpath\u001b[0m\u001b[0;34m.\u001b[0m\u001b[0mbasename\u001b[0m\u001b[0;34m(\u001b[0m\u001b[0msrc\u001b[0m\u001b[0;34m)\u001b[0m\u001b[0;34m)\u001b[0m\u001b[0;34m\u001b[0m\u001b[0;34m\u001b[0m\u001b[0m\n\u001b[0;32m--> 263\u001b[0;31m     \u001b[0mcopyfile\u001b[0m\u001b[0;34m(\u001b[0m\u001b[0msrc\u001b[0m\u001b[0;34m,\u001b[0m \u001b[0mdst\u001b[0m\u001b[0;34m,\u001b[0m \u001b[0mfollow_symlinks\u001b[0m\u001b[0;34m=\u001b[0m\u001b[0mfollow_symlinks\u001b[0m\u001b[0;34m)\u001b[0m\u001b[0;34m\u001b[0m\u001b[0;34m\u001b[0m\u001b[0m\n\u001b[0m\u001b[1;32m    264\u001b[0m     \u001b[0mcopystat\u001b[0m\u001b[0;34m(\u001b[0m\u001b[0msrc\u001b[0m\u001b[0;34m,\u001b[0m \u001b[0mdst\u001b[0m\u001b[0;34m,\u001b[0m \u001b[0mfollow_symlinks\u001b[0m\u001b[0;34m=\u001b[0m\u001b[0mfollow_symlinks\u001b[0m\u001b[0;34m)\u001b[0m\u001b[0;34m\u001b[0m\u001b[0;34m\u001b[0m\u001b[0m\n\u001b[1;32m    265\u001b[0m     \u001b[0;32mreturn\u001b[0m \u001b[0mdst\u001b[0m\u001b[0;34m\u001b[0m\u001b[0;34m\u001b[0m\u001b[0m\n",
            "\u001b[0;32m/usr/lib/python3.6/shutil.py\u001b[0m in \u001b[0;36mcopyfile\u001b[0;34m(src, dst, follow_symlinks)\u001b[0m\n\u001b[1;32m    120\u001b[0m         \u001b[0;32mwith\u001b[0m \u001b[0mopen\u001b[0m\u001b[0;34m(\u001b[0m\u001b[0msrc\u001b[0m\u001b[0;34m,\u001b[0m \u001b[0;34m'rb'\u001b[0m\u001b[0;34m)\u001b[0m \u001b[0;32mas\u001b[0m \u001b[0mfsrc\u001b[0m\u001b[0;34m:\u001b[0m\u001b[0;34m\u001b[0m\u001b[0;34m\u001b[0m\u001b[0m\n\u001b[1;32m    121\u001b[0m             \u001b[0;32mwith\u001b[0m \u001b[0mopen\u001b[0m\u001b[0;34m(\u001b[0m\u001b[0mdst\u001b[0m\u001b[0;34m,\u001b[0m \u001b[0;34m'wb'\u001b[0m\u001b[0;34m)\u001b[0m \u001b[0;32mas\u001b[0m \u001b[0mfdst\u001b[0m\u001b[0;34m:\u001b[0m\u001b[0;34m\u001b[0m\u001b[0;34m\u001b[0m\u001b[0m\n\u001b[0;32m--> 122\u001b[0;31m                 \u001b[0mcopyfileobj\u001b[0m\u001b[0;34m(\u001b[0m\u001b[0mfsrc\u001b[0m\u001b[0;34m,\u001b[0m \u001b[0mfdst\u001b[0m\u001b[0;34m)\u001b[0m\u001b[0;34m\u001b[0m\u001b[0;34m\u001b[0m\u001b[0m\n\u001b[0m\u001b[1;32m    123\u001b[0m     \u001b[0;32mreturn\u001b[0m \u001b[0mdst\u001b[0m\u001b[0;34m\u001b[0m\u001b[0;34m\u001b[0m\u001b[0m\n\u001b[1;32m    124\u001b[0m \u001b[0;34m\u001b[0m\u001b[0m\n",
            "\u001b[0;32m/usr/lib/python3.6/shutil.py\u001b[0m in \u001b[0;36mcopyfileobj\u001b[0;34m(fsrc, fdst, length)\u001b[0m\n\u001b[1;32m     77\u001b[0m     \u001b[0;34m\"\"\"copy data from file-like object fsrc to file-like object fdst\"\"\"\u001b[0m\u001b[0;34m\u001b[0m\u001b[0;34m\u001b[0m\u001b[0m\n\u001b[1;32m     78\u001b[0m     \u001b[0;32mwhile\u001b[0m \u001b[0;36m1\u001b[0m\u001b[0;34m:\u001b[0m\u001b[0;34m\u001b[0m\u001b[0;34m\u001b[0m\u001b[0m\n\u001b[0;32m---> 79\u001b[0;31m         \u001b[0mbuf\u001b[0m \u001b[0;34m=\u001b[0m \u001b[0mfsrc\u001b[0m\u001b[0;34m.\u001b[0m\u001b[0mread\u001b[0m\u001b[0;34m(\u001b[0m\u001b[0mlength\u001b[0m\u001b[0;34m)\u001b[0m\u001b[0;34m\u001b[0m\u001b[0;34m\u001b[0m\u001b[0m\n\u001b[0m\u001b[1;32m     80\u001b[0m         \u001b[0;32mif\u001b[0m \u001b[0;32mnot\u001b[0m \u001b[0mbuf\u001b[0m\u001b[0;34m:\u001b[0m\u001b[0;34m\u001b[0m\u001b[0;34m\u001b[0m\u001b[0m\n\u001b[1;32m     81\u001b[0m             \u001b[0;32mbreak\u001b[0m\u001b[0;34m\u001b[0m\u001b[0;34m\u001b[0m\u001b[0m\n",
            "\u001b[0;31mOSError\u001b[0m: [Errno 5] Input/output error"
          ]
        }
      ]
    },
    {
      "cell_type": "markdown",
      "metadata": {
        "id": "gyIdubdngL1x"
      },
      "source": [
        "### **PIMPIN Portion**"
      ]
    },
    {
      "cell_type": "code",
      "metadata": {
        "id": "ji4nZY8Kfq0h",
        "colab": {
          "base_uri": "https://localhost:8080/",
          "height": 34
        },
        "outputId": "cd89f513-f562-4e49-f118-4f40cc8edc43"
      },
      "source": [
        "path_to_analyze = savepath\n",
        "analyze_behavior = True\n",
        "path_to_DLC_model = '' # Change yours here. Should be a zip file containing your full, trained model\n",
        "spatial_downsampling = 2 # Drastically speeds up processing. 2-3 recommended\n",
        "isnonrigid = False\n",
        "# alert_gmail = '' # You can leave your Gmail adress to be notified when your analysis is done\n",
        "# alert_gmail_password = '' # Password to your Gmail account\n",
        "try:\n",
        "  os.mkdir(path_to_results)\n",
        "except:\n",
        "  pass\n",
        "print('Parameters saved. Ready to start analyzing')"
      ],
      "execution_count": null,
      "outputs": [
        {
          "output_type": "stream",
          "text": [
            "Parameters saved. Ready to start analyzing\n"
          ],
          "name": "stdout"
        }
      ]
    },
    {
      "cell_type": "markdown",
      "metadata": {
        "id": "ObI15dnVHiKj"
      },
      "source": [
        "### **Install and Import Dependencies**"
      ]
    },
    {
      "cell_type": "code",
      "metadata": {
        "id": "uTzLPJuPgs2K",
        "colab": {
          "base_uri": "https://localhost:8080/",
          "height": 102
        },
        "outputId": "1f79990f-b5d8-4966-dc1b-da4d36d481e0"
      },
      "source": [
        "from datetime import datetime\n",
        "import scipy.io as sio\n",
        "import re\n",
        "import os\n",
        "import h5py\n",
        "import csv\n",
        "import tensorflow as tf\n",
        "import time\n",
        "import logging\n",
        "import zipfile\n",
        "import matplotlib.pyplot as plt\n",
        "import matplotlib as mpl\n",
        "mpl.style.use('default')\n",
        "import numpy as np\n",
        "from moviepy.editor import *\n",
        "import smtplib"
      ],
      "execution_count": null,
      "outputs": [
        {
          "output_type": "stream",
          "text": [
            "Imageio: 'ffmpeg-linux64-v3.3.1' was not found on your computer; downloading it now.\n",
            "Try 1. Download from https://github.com/imageio/imageio-binaries/raw/master/ffmpeg/ffmpeg-linux64-v3.3.1 (43.8 MB)\n",
            "Downloading: 8192/45929032 bytes (0.0%)\b\b\b\b\b\b\b\b\b\b\b\b\b\b\b\b\b\b\b\b\b\b\b\b\b\b1048576/45929032 bytes (2.3%)\b\b\b\b\b\b\b\b\b\b\b\b\b\b\b\b\b\b\b\b\b\b\b\b\b\b\b\b\b3915776/45929032 bytes (8.5%)\b\b\b\b\b\b\b\b\b\b\b\b\b\b\b\b\b\b\b\b\b\b\b\b\b\b\b\b\b8208384/45929032 bytes (17.9%)\b\b\b\b\b\b\b\b\b\b\b\b\b\b\b\b\b\b\b\b\b\b\b\b\b\b\b\b\b\b12394496/45929032 bytes (27.0%)\b\b\b\b\b\b\b\b\b\b\b\b\b\b\b\b\b\b\b\b\b\b\b\b\b\b\b\b\b\b\b16637952/45929032 bytes (36.2%)\b\b\b\b\b\b\b\b\b\b\b\b\b\b\b\b\b\b\b\b\b\b\b\b\b\b\b\b\b\b\b20840448/45929032 bytes (45.4%)\b\b\b\b\b\b\b\b\b\b\b\b\b\b\b\b\b\b\b\b\b\b\b\b\b\b\b\b\b\b\b25124864/45929032 bytes (54.7%)\b\b\b\b\b\b\b\b\b\b\b\b\b\b\b\b\b\b\b\b\b\b\b\b\b\b\b\b\b\b\b29122560/45929032 bytes (63.4%)\b\b\b\b\b\b\b\b\b\b\b\b\b\b\b\b\b\b\b\b\b\b\b\b\b\b\b\b\b\b\b33366016/45929032 bytes (72.6%)\b\b\b\b\b\b\b\b\b\b\b\b\b\b\b\b\b\b\b\b\b\b\b\b\b\b\b\b\b\b\b37552128/45929032 bytes (81.8%)\b\b\b\b\b\b\b\b\b\b\b\b\b\b\b\b\b\b\b\b\b\b\b\b\b\b\b\b\b\b\b41787392/45929032 bytes (91.0%)\b\b\b\b\b\b\b\b\b\b\b\b\b\b\b\b\b\b\b\b\b\b\b\b\b\b\b\b\b\b\b45929032/45929032 bytes (100.0%)\n",
            "  Done\n",
            "File saved as /root/.imageio/ffmpeg/ffmpeg-linux64-v3.3.1.\n"
          ],
          "name": "stdout"
        }
      ]
    },
    {
      "cell_type": "code",
      "metadata": {
        "id": "X4m6LJDyHvuD",
        "colab": {
          "base_uri": "https://localhost:8080/",
          "height": 1000
        },
        "outputId": "9ba92234-8680-475e-8eb7-1b457e266dc9"
      },
      "source": [
        "# Install CaImAn\n",
        "#!git clone https://github.com/flatironinstitute/CaImAn.git\n",
        "!git clone https://github.com/etterguillaume/CaImAn.git\n",
        "%cd '/content/CaImAn/'\n",
        "!pip install -e .\n",
        "\n",
        "!pip install tifffile\n",
        "!pip install ipyparallel\n",
        "!pip install peakutils\n",
        "\n",
        "%cd '/content/CaImAn/'\n",
        "!python caimanmanager.py install --inplace\n",
        "\n",
        "!export MKL_NUM_THREADS=1\n",
        "!export OPENBLAS_NUM_THREADS=1\n",
        "\n",
        "# This is for GPU accelaration\n",
        "!pip install pycuda\n",
        "!pip install scikit-cuda\n",
        "\n",
        "import caiman as cm\n",
        "from caiman.source_extraction import cnmf\n",
        "from caiman.utils.visualization import inspect_correlation_pnr\n",
        "from caiman.motion_correction import MotionCorrect\n",
        "from caiman.source_extraction.cnmf import params as params\n",
        "import peakutils"
      ],
      "execution_count": null,
      "outputs": [
        {
          "output_type": "stream",
          "text": [
            "Cloning into 'CaImAn'...\n",
            "remote: Enumerating objects: 18836, done.\u001b[K\n",
            "remote: Total 18836 (delta 0), reused 0 (delta 0), pack-reused 18836\u001b[K\n",
            "Receiving objects: 100% (18836/18836), 459.78 MiB | 29.55 MiB/s, done.\n",
            "Resolving deltas: 100% (12561/12561), done.\n",
            "Checking out files: 100% (276/276), done.\n",
            "/content/CaImAn\n",
            "Obtaining file:///content/CaImAn\n",
            "Installing collected packages: caiman\n",
            "  Running setup.py develop for caiman\n",
            "Successfully installed caiman\n",
            "Requirement already satisfied: tifffile in /usr/local/lib/python3.6/dist-packages (2020.9.3)\n",
            "Requirement already satisfied: numpy>=1.15.1 in /usr/local/lib/python3.6/dist-packages (from tifffile) (1.18.5)\n",
            "Collecting ipyparallel\n",
            "\u001b[?25l  Downloading https://files.pythonhosted.org/packages/3b/e9/03a9189eb39276396309faf28bf833b4328befe4513bbf375b811a36a076/ipyparallel-6.3.0-py3-none-any.whl (199kB)\n",
            "\u001b[K     |████████████████████████████████| 204kB 9.0MB/s \n",
            "\u001b[?25hRequirement already satisfied: pyzmq>=13 in /usr/local/lib/python3.6/dist-packages (from ipyparallel) (19.0.2)\n",
            "Requirement already satisfied: ipython-genutils in /usr/local/lib/python3.6/dist-packages (from ipyparallel) (0.2.0)\n",
            "Requirement already satisfied: decorator in /usr/local/lib/python3.6/dist-packages (from ipyparallel) (4.4.2)\n",
            "Requirement already satisfied: jupyter-client in /usr/local/lib/python3.6/dist-packages (from ipyparallel) (5.3.5)\n",
            "Requirement already satisfied: ipython>=4 in /usr/local/lib/python3.6/dist-packages (from ipyparallel) (5.5.0)\n",
            "Requirement already satisfied: traitlets>=4.3 in /usr/local/lib/python3.6/dist-packages (from ipyparallel) (4.3.3)\n",
            "Requirement already satisfied: tornado>=4 in /usr/local/lib/python3.6/dist-packages (from ipyparallel) (5.1.1)\n",
            "Requirement already satisfied: ipykernel>=4.4 in /usr/local/lib/python3.6/dist-packages (from ipyparallel) (4.10.1)\n",
            "Requirement already satisfied: python-dateutil>=2.1 in /usr/local/lib/python3.6/dist-packages (from ipyparallel) (2.8.1)\n",
            "Requirement already satisfied: jupyter-core>=4.6.0 in /usr/local/lib/python3.6/dist-packages (from jupyter-client->ipyparallel) (4.6.3)\n",
            "Requirement already satisfied: setuptools>=18.5 in /usr/local/lib/python3.6/dist-packages (from ipython>=4->ipyparallel) (50.3.0)\n",
            "Requirement already satisfied: simplegeneric>0.8 in /usr/local/lib/python3.6/dist-packages (from ipython>=4->ipyparallel) (0.8.1)\n",
            "Requirement already satisfied: prompt-toolkit<2.0.0,>=1.0.4 in /usr/local/lib/python3.6/dist-packages (from ipython>=4->ipyparallel) (1.0.18)\n",
            "Requirement already satisfied: pexpect; sys_platform != \"win32\" in /usr/local/lib/python3.6/dist-packages (from ipython>=4->ipyparallel) (4.8.0)\n",
            "Requirement already satisfied: pygments in /usr/local/lib/python3.6/dist-packages (from ipython>=4->ipyparallel) (2.6.1)\n",
            "Requirement already satisfied: pickleshare in /usr/local/lib/python3.6/dist-packages (from ipython>=4->ipyparallel) (0.7.5)\n",
            "Requirement already satisfied: six in /usr/local/lib/python3.6/dist-packages (from traitlets>=4.3->ipyparallel) (1.15.0)\n",
            "Requirement already satisfied: wcwidth in /usr/local/lib/python3.6/dist-packages (from prompt-toolkit<2.0.0,>=1.0.4->ipython>=4->ipyparallel) (0.2.5)\n",
            "Requirement already satisfied: ptyprocess>=0.5 in /usr/local/lib/python3.6/dist-packages (from pexpect; sys_platform != \"win32\"->ipython>=4->ipyparallel) (0.6.0)\n",
            "Installing collected packages: ipyparallel\n",
            "Successfully installed ipyparallel-6.3.0\n",
            "Collecting peakutils\n",
            "  Downloading https://files.pythonhosted.org/packages/0a/11/6416c8aebba4d5f73e23e1f070a419a8944f3ba17eed9efdf9cdc95f0411/PeakUtils-1.3.3-py3-none-any.whl\n",
            "Requirement already satisfied: numpy in /usr/local/lib/python3.6/dist-packages (from peakutils) (1.18.5)\n",
            "Requirement already satisfied: scipy in /usr/local/lib/python3.6/dist-packages (from peakutils) (1.4.1)\n",
            "Installing collected packages: peakutils\n",
            "Successfully installed peakutils-1.3.3\n",
            "/content/CaImAn\n",
            "/usr/local/lib/python3.6/dist-packages/sklearn/utils/deprecation.py:144: FutureWarning: The sklearn.decomposition.incremental_pca module is  deprecated in version 0.22 and will be removed in version 0.24. The corresponding classes / functions should instead be imported from sklearn.decomposition. Anything that cannot be imported from sklearn.decomposition is now part of the private API.\n",
            "  warnings.warn(message, FutureWarning)\n",
            "Installed /root/caiman_data\n",
            "Collecting pycuda\n",
            "\u001b[?25l  Downloading https://files.pythonhosted.org/packages/46/61/47d3235a4c13eec5a5f03594ddb268f4858734e02980afbcd806e6242fa5/pycuda-2020.1.tar.gz (1.6MB)\n",
            "\u001b[K     |████████████████████████████████| 1.6MB 8.3MB/s \n",
            "\u001b[?25hCollecting pytools>=2011.2\n",
            "\u001b[?25l  Downloading https://files.pythonhosted.org/packages/73/d5/989a1d2bba90f5c085e4929a4b703bbd8cc6b4a4218f1671fadab2abe966/pytools-2020.4.tar.gz (67kB)\n",
            "\u001b[K     |████████████████████████████████| 71kB 7.2MB/s \n",
            "\u001b[?25hRequirement already satisfied: decorator>=3.2.0 in /usr/local/lib/python3.6/dist-packages (from pycuda) (4.4.2)\n",
            "Collecting appdirs>=1.4.0\n",
            "  Downloading https://files.pythonhosted.org/packages/3b/00/2344469e2084fb287c2e0b57b72910309874c3245463acd6cf5e3db69324/appdirs-1.4.4-py2.py3-none-any.whl\n",
            "Collecting mako\n",
            "\u001b[?25l  Downloading https://files.pythonhosted.org/packages/a6/37/0e706200d22172eb8fa17d68a7ae22dec7631a0a92266634fb518a88a5b2/Mako-1.1.3-py2.py3-none-any.whl (75kB)\n",
            "\u001b[K     |████████████████████████████████| 81kB 9.4MB/s \n",
            "\u001b[?25hRequirement already satisfied: six>=1.8.0 in /usr/local/lib/python3.6/dist-packages (from pytools>=2011.2->pycuda) (1.15.0)\n",
            "Requirement already satisfied: numpy>=1.6.0 in /usr/local/lib/python3.6/dist-packages (from pytools>=2011.2->pycuda) (1.18.5)\n",
            "Requirement already satisfied: MarkupSafe>=0.9.2 in /usr/local/lib/python3.6/dist-packages (from mako->pycuda) (1.1.1)\n",
            "Building wheels for collected packages: pycuda, pytools\n",
            "  Building wheel for pycuda (setup.py) ... \u001b[?25l\u001b[?25hdone\n",
            "  Created wheel for pycuda: filename=pycuda-2020.1-cp36-cp36m-linux_x86_64.whl size=620938 sha256=a4fd2b11659f790711329dc2fb33652dc0d1fe44ff2b862e4f49b8c44c49ca1c\n",
            "  Stored in directory: /root/.cache/pip/wheels/8f/78/d1/5bb826f81d9d490297a348d818ff3ee6dd6f2075b06dde6ea0\n",
            "  Building wheel for pytools (setup.py) ... \u001b[?25l\u001b[?25hdone\n",
            "  Created wheel for pytools: filename=pytools-2020.4-py2.py3-none-any.whl size=67175 sha256=dbce2184d6a6ffee08b2747f7b3e8f962b871e4ca538e63bd88118726b384406\n",
            "  Stored in directory: /root/.cache/pip/wheels/5e/20/0b/fac51840734b2587ecc239a62522b164c374e929e2c9be66c5\n",
            "Successfully built pycuda pytools\n",
            "Installing collected packages: appdirs, pytools, mako, pycuda\n",
            "Successfully installed appdirs-1.4.4 mako-1.1.3 pycuda-2020.1 pytools-2020.4\n",
            "Collecting scikit-cuda\n",
            "\u001b[?25l  Downloading https://files.pythonhosted.org/packages/98/8b/36d178c3b98524fe5b1cc15d075d34e2e6e291c4b0461f6e901f1e0bc736/scikit_cuda-0.5.3-py2.py3-none-any.whl (114kB)\n",
            "\u001b[K     |████████████████████████████████| 122kB 8.1MB/s \n",
            "\u001b[?25hRequirement already satisfied: pycuda>=2016.1 in /usr/local/lib/python3.6/dist-packages (from scikit-cuda) (2020.1)\n",
            "Requirement already satisfied: numpy>=1.2.0 in /usr/local/lib/python3.6/dist-packages (from scikit-cuda) (1.18.5)\n",
            "Requirement already satisfied: mako>=1.0.1 in /usr/local/lib/python3.6/dist-packages (from scikit-cuda) (1.1.3)\n",
            "Requirement already satisfied: appdirs>=1.4.0 in /usr/local/lib/python3.6/dist-packages (from pycuda>=2016.1->scikit-cuda) (1.4.4)\n",
            "Requirement already satisfied: pytools>=2011.2 in /usr/local/lib/python3.6/dist-packages (from pycuda>=2016.1->scikit-cuda) (2020.4)\n",
            "Requirement already satisfied: decorator>=3.2.0 in /usr/local/lib/python3.6/dist-packages (from pycuda>=2016.1->scikit-cuda) (4.4.2)\n",
            "Requirement already satisfied: MarkupSafe>=0.9.2 in /usr/local/lib/python3.6/dist-packages (from mako>=1.0.1->scikit-cuda) (1.1.1)\n",
            "Requirement already satisfied: six>=1.8.0 in /usr/local/lib/python3.6/dist-packages (from pytools>=2011.2->pycuda>=2016.1->scikit-cuda) (1.15.0)\n",
            "Installing collected packages: scikit-cuda\n",
            "Successfully installed scikit-cuda-0.5.3\n"
          ],
          "name": "stdout"
        }
      ]
    },
    {
      "cell_type": "markdown",
      "metadata": {
        "id": "vc75sE2vHyds"
      },
      "source": [
        "### **Get information from the Experiment**"
      ]
    },
    {
      "cell_type": "code",
      "metadata": {
        "id": "WMiG88G_H3Zh",
        "colab": {
          "base_uri": "https://localhost:8080/",
          "height": 68
        },
        "outputId": "74d54aa0-0934-4efc-adb2-dc4f5d44cf6a"
      },
      "source": [
        "now = datetime.now()\n",
        "analysis_time = now.strftime(\"%Y-%m-%d %H:%M\") # This is to register when the analysis was performed\n",
        "print('Analysis started on ' + analysis_time)\n",
        "\n",
        "analysis_start = time.time() # This is to register the time spent analyzing\n",
        "\n",
        "# # Open dat file here \n",
        "# try:\n",
        "#   #metadata, res = dbx.files_download(path_to_analyze + '/' + 'settings_and_notes.dat')\n",
        "#   f = open(path_to_analyze + '/' + 'settings_and_notes.dat','wb')\n",
        "#   f.write(res.content)\n",
        "#   f.close\n",
        "# except FileExistsError:\n",
        "#   print('Error: settings_and_notes.dat could not be found')\n",
        "\n",
        "with open(path_to_analyze + '/' + 'settings_and_notes.dat') as f:\n",
        "  for i, line in enumerate(f):\n",
        "    if i == 0:\n",
        "      line = str(f.readline())\n",
        "      line = line.split('\\t')\n",
        "      experimentName = line[0]\n",
        "      \n",
        "print('Name of the experiment to analyze: ' + experimentName)\n",
        "\n",
        "dirExperimentName = path + '/' + experimentName\n",
        " \n",
        "try:\n",
        "    # Create target Directory\n",
        "    os.mkdir(dirExperimentName)\n",
        "    print(\"Directory \" , dirExperimentName ,  \" Created\") \n",
        "except FileExistsError:\n",
        "    print(\"Directory \" , dirExperimentName ,  \" already exists\")"
      ],
      "execution_count": null,
      "outputs": [
        {
          "output_type": "stream",
          "text": [
            "Analysis started on 2020-10-09 06:22\n",
            "Name of the experiment to analyze: PP213-1\n",
            "Directory  /content/gdrive/My Drive/H8_M55_S48 PP213-1/PP213-1  already exists\n"
          ],
          "name": "stdout"
        }
      ]
    },
    {
      "cell_type": "markdown",
      "metadata": {
        "id": "Z-drZxBjQ9SJ"
      },
      "source": [
        "### **List msCam files and Sanity Check**"
      ]
    },
    {
      "cell_type": "code",
      "metadata": {
        "id": "YIspMR-FRBjY",
        "colab": {
          "base_uri": "https://localhost:8080/",
          "height": 71
        },
        "outputId": "0c430489-2860-496e-cc2f-e511ced78855"
      },
      "source": [
        "filesList = []\n",
        "msFileList = []\n",
        "for file in os.listdir(path_to_analyze):\n",
        "  filesList.append(file)\n",
        "\n",
        "for i in filesList[:]:\n",
        "  if i.startswith('ms') and i.endswith('.avi'):\n",
        "    msFileList.append(i)\n",
        "msFileList = sorted_nicely(msFileList)\n",
        "print('Miniscope files in folder:')\n",
        "print(msFileList)\n",
        "\n",
        "if len(msFileList) == 0:\n",
        "  print(\"No miniscope avi files found\")"
      ],
      "execution_count": null,
      "outputs": [
        {
          "output_type": "stream",
          "text": [
            "Miniscope files in folder:\n",
            "['msCam1.avi', 'msCam2.avi', 'msCam3.avi', 'msCam4.avi', 'msCam5.avi', 'msCam6.avi', 'msCam7.avi', 'msCam8.avi', 'msCam9.avi', 'msCam10.avi', 'msCam11.avi', 'msCam12.avi', 'msCam13.avi', 'msCam14.avi', 'msCam15.avi', 'msCam16.avi', 'msCam17.avi', 'msCam18.avi', 'msCam19.avi', 'msCam20.avi', 'msCam21.avi', 'msCam22.avi', 'msCam23.avi', 'msCam24.avi', 'msCam25.avi', 'msCam26.avi', 'msCam27.avi', 'msCam28.avi', 'msCam29.avi', 'msCam30.avi', 'msCam31.avi', 'msCam32.avi', 'msCam33.avi', 'msCam34.avi', 'msCam35.avi', 'msCam36.avi', 'msCam37.avi', 'msCam38.avi', 'msCam39.avi', 'msCam40.avi', 'msCam41.avi', 'msCam42.avi', 'msCam43.avi', 'msCam44.avi', 'msCam45.avi', 'msCam46.avi', 'msCam47.avi', 'msCam48.avi', 'msCam49.avi', 'msCam50.avi', 'msCam51.avi', 'msCam52.avi', 'msCam53.avi', 'msCam54.avi', 'msCam55.avi', 'msCam56.avi', 'msCam57.avi', 'msCam58.avi', 'msCam59.avi', 'msCam60.avi', 'msCam61.avi', 'msCam62.avi', 'msCam63.avi', 'msCam64.avi', 'msCam65.avi', 'msCam66.avi', 'msCam67.avi', 'msCam68.avi', 'msCam69.avi', 'msCam70.avi', 'msCam71.avi', 'msCam72.avi', 'msCam73.avi', 'msCam74.avi', 'msCam75.avi', 'msCam76.avi', 'msCam77.avi', 'msCam78.avi', 'msCam79.avi', 'msCam80.avi', 'msCam81.avi', 'msCam82.avi', 'msCam83.avi', 'msCam84.avi', 'msCam85.avi', 'msCam86.avi', 'msCam87.avi', 'msCam88.avi', 'msCam89.avi', 'msCam90.avi', 'msCam91.avi', 'msCam92.avi', 'msCam93.avi', 'msCam94.avi', 'msCam95.avi', 'msCam96.avi', 'msCam97.avi', 'msCam98.avi', 'msCam99.avi', 'msCam100.avi', 'msCam101.avi', 'msCam102.avi', 'msCam103.avi', 'msCam104.avi', 'msCam105.avi', 'msCam106.avi', 'msCam107.avi', 'msCam108.avi', 'msCam109.avi', 'msCam110.avi', 'msCam111.avi', 'msCam112.avi', 'msCam113.avi', 'msCam114.avi', 'msCam115.avi', 'msCam116.avi', 'msCam117.avi', 'msCam118.avi', 'msCam119.avi', 'msCam120.avi', 'msCam121.avi', 'msCam122.avi', 'msCam123.avi', 'msCam124.avi', 'msCam125.avi']\n"
          ],
          "name": "stdout"
        }
      ]
    },
    {
      "cell_type": "code",
      "metadata": {
        "id": "hDlz2x1YR3lS",
        "colab": {
          "base_uri": "https://localhost:8080/",
          "height": 54
        },
        "outputId": "590ef277-c58b-4e1d-9c4d-5799a3a5b77b"
      },
      "source": [
        "for s in range(len(msFileList)):\n",
        "  msFileList[s] = path_to_analyze + '/' + msFileList[s]\n",
        "\n",
        "print(msFileList)"
      ],
      "execution_count": null,
      "outputs": [
        {
          "output_type": "stream",
          "text": [
            "['/content/gdrive/My Drive/H8_M55_S48 PP213-1/Cleaned_msCam/msCam1.avi', '/content/gdrive/My Drive/H8_M55_S48 PP213-1/Cleaned_msCam/msCam2.avi', '/content/gdrive/My Drive/H8_M55_S48 PP213-1/Cleaned_msCam/msCam3.avi', '/content/gdrive/My Drive/H8_M55_S48 PP213-1/Cleaned_msCam/msCam4.avi', '/content/gdrive/My Drive/H8_M55_S48 PP213-1/Cleaned_msCam/msCam5.avi', '/content/gdrive/My Drive/H8_M55_S48 PP213-1/Cleaned_msCam/msCam6.avi', '/content/gdrive/My Drive/H8_M55_S48 PP213-1/Cleaned_msCam/msCam7.avi', '/content/gdrive/My Drive/H8_M55_S48 PP213-1/Cleaned_msCam/msCam8.avi', '/content/gdrive/My Drive/H8_M55_S48 PP213-1/Cleaned_msCam/msCam9.avi', '/content/gdrive/My Drive/H8_M55_S48 PP213-1/Cleaned_msCam/msCam10.avi', '/content/gdrive/My Drive/H8_M55_S48 PP213-1/Cleaned_msCam/msCam11.avi', '/content/gdrive/My Drive/H8_M55_S48 PP213-1/Cleaned_msCam/msCam12.avi', '/content/gdrive/My Drive/H8_M55_S48 PP213-1/Cleaned_msCam/msCam13.avi', '/content/gdrive/My Drive/H8_M55_S48 PP213-1/Cleaned_msCam/msCam14.avi', '/content/gdrive/My Drive/H8_M55_S48 PP213-1/Cleaned_msCam/msCam15.avi', '/content/gdrive/My Drive/H8_M55_S48 PP213-1/Cleaned_msCam/msCam16.avi', '/content/gdrive/My Drive/H8_M55_S48 PP213-1/Cleaned_msCam/msCam17.avi', '/content/gdrive/My Drive/H8_M55_S48 PP213-1/Cleaned_msCam/msCam18.avi', '/content/gdrive/My Drive/H8_M55_S48 PP213-1/Cleaned_msCam/msCam19.avi', '/content/gdrive/My Drive/H8_M55_S48 PP213-1/Cleaned_msCam/msCam20.avi', '/content/gdrive/My Drive/H8_M55_S48 PP213-1/Cleaned_msCam/msCam21.avi', '/content/gdrive/My Drive/H8_M55_S48 PP213-1/Cleaned_msCam/msCam22.avi', '/content/gdrive/My Drive/H8_M55_S48 PP213-1/Cleaned_msCam/msCam23.avi', '/content/gdrive/My Drive/H8_M55_S48 PP213-1/Cleaned_msCam/msCam24.avi', '/content/gdrive/My Drive/H8_M55_S48 PP213-1/Cleaned_msCam/msCam25.avi', '/content/gdrive/My Drive/H8_M55_S48 PP213-1/Cleaned_msCam/msCam26.avi', '/content/gdrive/My Drive/H8_M55_S48 PP213-1/Cleaned_msCam/msCam27.avi', '/content/gdrive/My Drive/H8_M55_S48 PP213-1/Cleaned_msCam/msCam28.avi', '/content/gdrive/My Drive/H8_M55_S48 PP213-1/Cleaned_msCam/msCam29.avi', '/content/gdrive/My Drive/H8_M55_S48 PP213-1/Cleaned_msCam/msCam30.avi', '/content/gdrive/My Drive/H8_M55_S48 PP213-1/Cleaned_msCam/msCam31.avi', '/content/gdrive/My Drive/H8_M55_S48 PP213-1/Cleaned_msCam/msCam32.avi', '/content/gdrive/My Drive/H8_M55_S48 PP213-1/Cleaned_msCam/msCam33.avi', '/content/gdrive/My Drive/H8_M55_S48 PP213-1/Cleaned_msCam/msCam34.avi', '/content/gdrive/My Drive/H8_M55_S48 PP213-1/Cleaned_msCam/msCam35.avi', '/content/gdrive/My Drive/H8_M55_S48 PP213-1/Cleaned_msCam/msCam36.avi', '/content/gdrive/My Drive/H8_M55_S48 PP213-1/Cleaned_msCam/msCam37.avi', '/content/gdrive/My Drive/H8_M55_S48 PP213-1/Cleaned_msCam/msCam38.avi', '/content/gdrive/My Drive/H8_M55_S48 PP213-1/Cleaned_msCam/msCam39.avi', '/content/gdrive/My Drive/H8_M55_S48 PP213-1/Cleaned_msCam/msCam40.avi', '/content/gdrive/My Drive/H8_M55_S48 PP213-1/Cleaned_msCam/msCam41.avi', '/content/gdrive/My Drive/H8_M55_S48 PP213-1/Cleaned_msCam/msCam42.avi', '/content/gdrive/My Drive/H8_M55_S48 PP213-1/Cleaned_msCam/msCam43.avi', '/content/gdrive/My Drive/H8_M55_S48 PP213-1/Cleaned_msCam/msCam44.avi', '/content/gdrive/My Drive/H8_M55_S48 PP213-1/Cleaned_msCam/msCam45.avi', '/content/gdrive/My Drive/H8_M55_S48 PP213-1/Cleaned_msCam/msCam46.avi', '/content/gdrive/My Drive/H8_M55_S48 PP213-1/Cleaned_msCam/msCam47.avi', '/content/gdrive/My Drive/H8_M55_S48 PP213-1/Cleaned_msCam/msCam48.avi', '/content/gdrive/My Drive/H8_M55_S48 PP213-1/Cleaned_msCam/msCam49.avi', '/content/gdrive/My Drive/H8_M55_S48 PP213-1/Cleaned_msCam/msCam50.avi', '/content/gdrive/My Drive/H8_M55_S48 PP213-1/Cleaned_msCam/msCam51.avi', '/content/gdrive/My Drive/H8_M55_S48 PP213-1/Cleaned_msCam/msCam52.avi', '/content/gdrive/My Drive/H8_M55_S48 PP213-1/Cleaned_msCam/msCam53.avi', '/content/gdrive/My Drive/H8_M55_S48 PP213-1/Cleaned_msCam/msCam54.avi', '/content/gdrive/My Drive/H8_M55_S48 PP213-1/Cleaned_msCam/msCam55.avi', '/content/gdrive/My Drive/H8_M55_S48 PP213-1/Cleaned_msCam/msCam56.avi', '/content/gdrive/My Drive/H8_M55_S48 PP213-1/Cleaned_msCam/msCam57.avi', '/content/gdrive/My Drive/H8_M55_S48 PP213-1/Cleaned_msCam/msCam58.avi', '/content/gdrive/My Drive/H8_M55_S48 PP213-1/Cleaned_msCam/msCam59.avi', '/content/gdrive/My Drive/H8_M55_S48 PP213-1/Cleaned_msCam/msCam60.avi', '/content/gdrive/My Drive/H8_M55_S48 PP213-1/Cleaned_msCam/msCam61.avi', '/content/gdrive/My Drive/H8_M55_S48 PP213-1/Cleaned_msCam/msCam62.avi', '/content/gdrive/My Drive/H8_M55_S48 PP213-1/Cleaned_msCam/msCam63.avi', '/content/gdrive/My Drive/H8_M55_S48 PP213-1/Cleaned_msCam/msCam64.avi', '/content/gdrive/My Drive/H8_M55_S48 PP213-1/Cleaned_msCam/msCam65.avi', '/content/gdrive/My Drive/H8_M55_S48 PP213-1/Cleaned_msCam/msCam66.avi', '/content/gdrive/My Drive/H8_M55_S48 PP213-1/Cleaned_msCam/msCam67.avi', '/content/gdrive/My Drive/H8_M55_S48 PP213-1/Cleaned_msCam/msCam68.avi', '/content/gdrive/My Drive/H8_M55_S48 PP213-1/Cleaned_msCam/msCam69.avi', '/content/gdrive/My Drive/H8_M55_S48 PP213-1/Cleaned_msCam/msCam70.avi', '/content/gdrive/My Drive/H8_M55_S48 PP213-1/Cleaned_msCam/msCam71.avi', '/content/gdrive/My Drive/H8_M55_S48 PP213-1/Cleaned_msCam/msCam72.avi', '/content/gdrive/My Drive/H8_M55_S48 PP213-1/Cleaned_msCam/msCam73.avi', '/content/gdrive/My Drive/H8_M55_S48 PP213-1/Cleaned_msCam/msCam74.avi', '/content/gdrive/My Drive/H8_M55_S48 PP213-1/Cleaned_msCam/msCam75.avi', '/content/gdrive/My Drive/H8_M55_S48 PP213-1/Cleaned_msCam/msCam76.avi', '/content/gdrive/My Drive/H8_M55_S48 PP213-1/Cleaned_msCam/msCam77.avi', '/content/gdrive/My Drive/H8_M55_S48 PP213-1/Cleaned_msCam/msCam78.avi', '/content/gdrive/My Drive/H8_M55_S48 PP213-1/Cleaned_msCam/msCam79.avi', '/content/gdrive/My Drive/H8_M55_S48 PP213-1/Cleaned_msCam/msCam80.avi', '/content/gdrive/My Drive/H8_M55_S48 PP213-1/Cleaned_msCam/msCam81.avi', '/content/gdrive/My Drive/H8_M55_S48 PP213-1/Cleaned_msCam/msCam82.avi', '/content/gdrive/My Drive/H8_M55_S48 PP213-1/Cleaned_msCam/msCam83.avi', '/content/gdrive/My Drive/H8_M55_S48 PP213-1/Cleaned_msCam/msCam84.avi', '/content/gdrive/My Drive/H8_M55_S48 PP213-1/Cleaned_msCam/msCam85.avi', '/content/gdrive/My Drive/H8_M55_S48 PP213-1/Cleaned_msCam/msCam86.avi', '/content/gdrive/My Drive/H8_M55_S48 PP213-1/Cleaned_msCam/msCam87.avi', '/content/gdrive/My Drive/H8_M55_S48 PP213-1/Cleaned_msCam/msCam88.avi', '/content/gdrive/My Drive/H8_M55_S48 PP213-1/Cleaned_msCam/msCam89.avi', '/content/gdrive/My Drive/H8_M55_S48 PP213-1/Cleaned_msCam/msCam90.avi', '/content/gdrive/My Drive/H8_M55_S48 PP213-1/Cleaned_msCam/msCam91.avi', '/content/gdrive/My Drive/H8_M55_S48 PP213-1/Cleaned_msCam/msCam92.avi', '/content/gdrive/My Drive/H8_M55_S48 PP213-1/Cleaned_msCam/msCam93.avi', '/content/gdrive/My Drive/H8_M55_S48 PP213-1/Cleaned_msCam/msCam94.avi', '/content/gdrive/My Drive/H8_M55_S48 PP213-1/Cleaned_msCam/msCam95.avi', '/content/gdrive/My Drive/H8_M55_S48 PP213-1/Cleaned_msCam/msCam96.avi', '/content/gdrive/My Drive/H8_M55_S48 PP213-1/Cleaned_msCam/msCam97.avi', '/content/gdrive/My Drive/H8_M55_S48 PP213-1/Cleaned_msCam/msCam98.avi', '/content/gdrive/My Drive/H8_M55_S48 PP213-1/Cleaned_msCam/msCam99.avi', '/content/gdrive/My Drive/H8_M55_S48 PP213-1/Cleaned_msCam/msCam100.avi', '/content/gdrive/My Drive/H8_M55_S48 PP213-1/Cleaned_msCam/msCam101.avi', '/content/gdrive/My Drive/H8_M55_S48 PP213-1/Cleaned_msCam/msCam102.avi', '/content/gdrive/My Drive/H8_M55_S48 PP213-1/Cleaned_msCam/msCam103.avi', '/content/gdrive/My Drive/H8_M55_S48 PP213-1/Cleaned_msCam/msCam104.avi', '/content/gdrive/My Drive/H8_M55_S48 PP213-1/Cleaned_msCam/msCam105.avi', '/content/gdrive/My Drive/H8_M55_S48 PP213-1/Cleaned_msCam/msCam106.avi', '/content/gdrive/My Drive/H8_M55_S48 PP213-1/Cleaned_msCam/msCam107.avi', '/content/gdrive/My Drive/H8_M55_S48 PP213-1/Cleaned_msCam/msCam108.avi', '/content/gdrive/My Drive/H8_M55_S48 PP213-1/Cleaned_msCam/msCam109.avi', '/content/gdrive/My Drive/H8_M55_S48 PP213-1/Cleaned_msCam/msCam110.avi', '/content/gdrive/My Drive/H8_M55_S48 PP213-1/Cleaned_msCam/msCam111.avi', '/content/gdrive/My Drive/H8_M55_S48 PP213-1/Cleaned_msCam/msCam112.avi', '/content/gdrive/My Drive/H8_M55_S48 PP213-1/Cleaned_msCam/msCam113.avi', '/content/gdrive/My Drive/H8_M55_S48 PP213-1/Cleaned_msCam/msCam114.avi', '/content/gdrive/My Drive/H8_M55_S48 PP213-1/Cleaned_msCam/msCam115.avi', '/content/gdrive/My Drive/H8_M55_S48 PP213-1/Cleaned_msCam/msCam116.avi', '/content/gdrive/My Drive/H8_M55_S48 PP213-1/Cleaned_msCam/msCam117.avi', '/content/gdrive/My Drive/H8_M55_S48 PP213-1/Cleaned_msCam/msCam118.avi', '/content/gdrive/My Drive/H8_M55_S48 PP213-1/Cleaned_msCam/msCam119.avi', '/content/gdrive/My Drive/H8_M55_S48 PP213-1/Cleaned_msCam/msCam120.avi', '/content/gdrive/My Drive/H8_M55_S48 PP213-1/Cleaned_msCam/msCam121.avi', '/content/gdrive/My Drive/H8_M55_S48 PP213-1/Cleaned_msCam/msCam122.avi', '/content/gdrive/My Drive/H8_M55_S48 PP213-1/Cleaned_msCam/msCam123.avi', '/content/gdrive/My Drive/H8_M55_S48 PP213-1/Cleaned_msCam/msCam124.avi', '/content/gdrive/My Drive/H8_M55_S48 PP213-1/Cleaned_msCam/msCam125.avi']\n"
          ],
          "name": "stdout"
        }
      ]
    },
    {
      "cell_type": "code",
      "metadata": {
        "id": "s3Ar-axAW_gu",
        "colab": {
          "base_uri": "https://localhost:8080/",
          "height": 338
        },
        "outputId": "b35c4077-8881-47cc-8ae5-515861c747ea"
      },
      "source": [
        "# Visualize a couple of frames here for sanity check\n",
        "import cv2\n",
        "cap = cv2.VideoCapture(msFileList[0])\n",
        "fps = cap.get(cv2.CAP_PROP_FPS)\n",
        "print('FPS = '+ str(cap.get(cv2.CAP_PROP_FPS)))\n",
        "while(cap.isOpened):\n",
        "  ret, frame = cap.read()\n",
        "  if(ret == True):\n",
        "    cv2_imshow(frame)\n",
        "  break\n"
      ],
      "execution_count": null,
      "outputs": [
        {
          "output_type": "stream",
          "text": [
            "FPS = 20.0\n"
          ],
          "name": "stdout"
        },
        {
          "output_type": "display_data",
          "data": {
            "image/png": "[encoded data removed]",
            "text/plain": [
              "<PIL.Image.Image image mode=RGB size=404x304 at 0x7F3E34F3E518>"
            ]
          },
          "metadata": {
            "tags": []
          }
        }
      ]
    },
    {
      "cell_type": "markdown",
      "metadata": {
        "id": "AuF1o1WZSTes"
      },
      "source": [
        "### **Downsample the Videos**"
      ]
    },
    {
      "cell_type": "code",
      "metadata": {
        "id": "_ttZJmt3SP91",
        "colab": {
          "base_uri": "https://localhost:8080/",
          "height": 1000
        },
        "outputId": "13f227a9-8cfa-4f53-8687-0113c243449a"
      },
      "source": [
        "for video in msFileList:\n",
        "  clip = VideoFileClip(video)\n",
        "  resized_clip = clip.resize(1/spatial_downsampling)\n",
        "  os.remove(video)\n",
        "  resized_clip.write_videofile(video,codec='rawvideo')"
      ],
      "execution_count": null,
      "outputs": [
        {
          "output_type": "stream",
          "text": [
            "[MoviePy] >>>> Building video /content/gdrive/My Drive/H8_M55_S48 PP213-1/Cleaned_msCam/msCam1.avi\n",
            "[MoviePy] Writing video /content/gdrive/My Drive/H8_M55_S48 PP213-1/Cleaned_msCam/msCam1.avi\n"
          ],
          "name": "stdout"
        },
        {
          "output_type": "stream",
          "text": [
            "100%|█████████▉| 1000/1001 [00:04<00:00, 224.26it/s]"
          ],
          "name": "stderr"
        },
        {
          "output_type": "stream",
          "text": [
            "[MoviePy] Done.\n",
            "[MoviePy] >>>> Video ready: /content/gdrive/My Drive/H8_M55_S48 PP213-1/Cleaned_msCam/msCam1.avi \n",
            "\n"
          ],
          "name": "stdout"
        },
        {
          "output_type": "stream",
          "text": [
            "\n"
          ],
          "name": "stderr"
        },
        {
          "output_type": "stream",
          "text": [
            "[MoviePy] >>>> Building video /content/gdrive/My Drive/H8_M55_S48 PP213-1/Cleaned_msCam/msCam2.avi\n",
            "[MoviePy] Writing video /content/gdrive/My Drive/H8_M55_S48 PP213-1/Cleaned_msCam/msCam2.avi\n"
          ],
          "name": "stdout"
        },
        {
          "output_type": "stream",
          "text": [
            "100%|█████████▉| 1000/1001 [00:04<00:00, 219.62it/s]"
          ],
          "name": "stderr"
        },
        {
          "output_type": "stream",
          "text": [
            "[MoviePy] Done.\n",
            "[MoviePy] >>>> Video ready: /content/gdrive/My Drive/H8_M55_S48 PP213-1/Cleaned_msCam/msCam2.avi \n",
            "\n"
          ],
          "name": "stdout"
        },
        {
          "output_type": "stream",
          "text": [
            "\n"
          ],
          "name": "stderr"
        },
        {
          "output_type": "stream",
          "text": [
            "[MoviePy] >>>> Building video /content/gdrive/My Drive/H8_M55_S48 PP213-1/Cleaned_msCam/msCam3.avi\n",
            "[MoviePy] Writing video /content/gdrive/My Drive/H8_M55_S48 PP213-1/Cleaned_msCam/msCam3.avi\n"
          ],
          "name": "stdout"
        },
        {
          "output_type": "stream",
          "text": [
            "100%|█████████▉| 1000/1001 [00:05<00:00, 187.55it/s]"
          ],
          "name": "stderr"
        },
        {
          "output_type": "stream",
          "text": [
            "[MoviePy] Done.\n",
            "[MoviePy] >>>> Video ready: /content/gdrive/My Drive/H8_M55_S48 PP213-1/Cleaned_msCam/msCam3.avi \n",
            "\n"
          ],
          "name": "stdout"
        },
        {
          "output_type": "stream",
          "text": [
            "\n"
          ],
          "name": "stderr"
        },
        {
          "output_type": "stream",
          "text": [
            "[MoviePy] >>>> Building video /content/gdrive/My Drive/H8_M55_S48 PP213-1/Cleaned_msCam/msCam4.avi\n",
            "[MoviePy] Writing video /content/gdrive/My Drive/H8_M55_S48 PP213-1/Cleaned_msCam/msCam4.avi\n"
          ],
          "name": "stdout"
        },
        {
          "output_type": "stream",
          "text": [
            "100%|█████████▉| 1000/1001 [00:05<00:00, 187.75it/s]"
          ],
          "name": "stderr"
        },
        {
          "output_type": "stream",
          "text": [
            "[MoviePy] Done.\n",
            "[MoviePy] >>>> Video ready: /content/gdrive/My Drive/H8_M55_S48 PP213-1/Cleaned_msCam/msCam4.avi \n",
            "\n"
          ],
          "name": "stdout"
        },
        {
          "output_type": "stream",
          "text": [
            "\n"
          ],
          "name": "stderr"
        },
        {
          "output_type": "stream",
          "text": [
            "[MoviePy] >>>> Building video /content/gdrive/My Drive/H8_M55_S48 PP213-1/Cleaned_msCam/msCam5.avi\n",
            "[MoviePy] Writing video /content/gdrive/My Drive/H8_M55_S48 PP213-1/Cleaned_msCam/msCam5.avi\n"
          ],
          "name": "stdout"
        },
        {
          "output_type": "stream",
          "text": [
            "100%|█████████▉| 1000/1001 [00:05<00:00, 189.85it/s]\n"
          ],
          "name": "stderr"
        },
        {
          "output_type": "stream",
          "text": [
            "[MoviePy] Done.\n",
            "[MoviePy] >>>> Video ready: /content/gdrive/My Drive/H8_M55_S48 PP213-1/Cleaned_msCam/msCam5.avi \n",
            "\n",
            "[MoviePy] >>>> Building video /content/gdrive/My Drive/H8_M55_S48 PP213-1/Cleaned_msCam/msCam6.avi\n",
            "[MoviePy] Writing video /content/gdrive/My Drive/H8_M55_S48 PP213-1/Cleaned_msCam/msCam6.avi\n"
          ],
          "name": "stdout"
        },
        {
          "output_type": "stream",
          "text": [
            "100%|█████████▉| 1000/1001 [00:05<00:00, 190.49it/s]"
          ],
          "name": "stderr"
        },
        {
          "output_type": "stream",
          "text": [
            "[MoviePy] Done.\n",
            "[MoviePy] >>>> Video ready: /content/gdrive/My Drive/H8_M55_S48 PP213-1/Cleaned_msCam/msCam6.avi \n",
            "\n"
          ],
          "name": "stdout"
        },
        {
          "output_type": "stream",
          "text": [
            "\n"
          ],
          "name": "stderr"
        },
        {
          "output_type": "stream",
          "text": [
            "[MoviePy] >>>> Building video /content/gdrive/My Drive/H8_M55_S48 PP213-1/Cleaned_msCam/msCam7.avi\n",
            "[MoviePy] Writing video /content/gdrive/My Drive/H8_M55_S48 PP213-1/Cleaned_msCam/msCam7.avi\n"
          ],
          "name": "stdout"
        },
        {
          "output_type": "stream",
          "text": [
            "100%|█████████▉| 1000/1001 [00:05<00:00, 185.74it/s]"
          ],
          "name": "stderr"
        },
        {
          "output_type": "stream",
          "text": [
            "[MoviePy] Done.\n",
            "[MoviePy] >>>> Video ready: /content/gdrive/My Drive/H8_M55_S48 PP213-1/Cleaned_msCam/msCam7.avi \n",
            "\n"
          ],
          "name": "stdout"
        },
        {
          "output_type": "stream",
          "text": [
            "\n"
          ],
          "name": "stderr"
        },
        {
          "output_type": "stream",
          "text": [
            "[MoviePy] >>>> Building video /content/gdrive/My Drive/H8_M55_S48 PP213-1/Cleaned_msCam/msCam8.avi\n",
            "[MoviePy] Writing video /content/gdrive/My Drive/H8_M55_S48 PP213-1/Cleaned_msCam/msCam8.avi\n"
          ],
          "name": "stdout"
        },
        {
          "output_type": "stream",
          "text": [
            "100%|█████████▉| 1000/1001 [00:05<00:00, 188.72it/s]"
          ],
          "name": "stderr"
        },
        {
          "output_type": "stream",
          "text": [
            "[MoviePy] Done.\n",
            "[MoviePy] >>>> Video ready: /content/gdrive/My Drive/H8_M55_S48 PP213-1/Cleaned_msCam/msCam8.avi \n",
            "\n"
          ],
          "name": "stdout"
        },
        {
          "output_type": "stream",
          "text": [
            "\n"
          ],
          "name": "stderr"
        },
        {
          "output_type": "stream",
          "text": [
            "[MoviePy] >>>> Building video /content/gdrive/My Drive/H8_M55_S48 PP213-1/Cleaned_msCam/msCam9.avi\n",
            "[MoviePy] Writing video /content/gdrive/My Drive/H8_M55_S48 PP213-1/Cleaned_msCam/msCam9.avi\n"
          ],
          "name": "stdout"
        },
        {
          "output_type": "stream",
          "text": [
            "100%|█████████▉| 1000/1001 [00:05<00:00, 178.97it/s]"
          ],
          "name": "stderr"
        },
        {
          "output_type": "stream",
          "text": [
            "[MoviePy] Done.\n",
            "[MoviePy] >>>> Video ready: /content/gdrive/My Drive/H8_M55_S48 PP213-1/Cleaned_msCam/msCam9.avi \n",
            "\n"
          ],
          "name": "stdout"
        },
        {
          "output_type": "stream",
          "text": [
            "\n"
          ],
          "name": "stderr"
        },
        {
          "output_type": "stream",
          "text": [
            "[MoviePy] >>>> Building video /content/gdrive/My Drive/H8_M55_S48 PP213-1/Cleaned_msCam/msCam10.avi\n",
            "[MoviePy] Writing video /content/gdrive/My Drive/H8_M55_S48 PP213-1/Cleaned_msCam/msCam10.avi\n"
          ],
          "name": "stdout"
        },
        {
          "output_type": "stream",
          "text": [
            "100%|█████████▉| 1000/1001 [00:05<00:00, 186.55it/s]"
          ],
          "name": "stderr"
        },
        {
          "output_type": "stream",
          "text": [
            "[MoviePy] Done.\n",
            "[MoviePy] >>>> Video ready: /content/gdrive/My Drive/H8_M55_S48 PP213-1/Cleaned_msCam/msCam10.avi \n",
            "\n"
          ],
          "name": "stdout"
        },
        {
          "output_type": "stream",
          "text": [
            "\n"
          ],
          "name": "stderr"
        },
        {
          "output_type": "stream",
          "text": [
            "[MoviePy] >>>> Building video /content/gdrive/My Drive/H8_M55_S48 PP213-1/Cleaned_msCam/msCam11.avi\n",
            "[MoviePy] Writing video /content/gdrive/My Drive/H8_M55_S48 PP213-1/Cleaned_msCam/msCam11.avi\n"
          ],
          "name": "stdout"
        },
        {
          "output_type": "stream",
          "text": [
            "100%|█████████▉| 1000/1001 [00:05<00:00, 183.37it/s]"
          ],
          "name": "stderr"
        },
        {
          "output_type": "stream",
          "text": [
            "[MoviePy] Done.\n",
            "[MoviePy] >>>> Video ready: /content/gdrive/My Drive/H8_M55_S48 PP213-1/Cleaned_msCam/msCam11.avi \n",
            "\n"
          ],
          "name": "stdout"
        },
        {
          "output_type": "stream",
          "text": [
            "\n"
          ],
          "name": "stderr"
        },
        {
          "output_type": "stream",
          "text": [
            "[MoviePy] >>>> Building video /content/gdrive/My Drive/H8_M55_S48 PP213-1/Cleaned_msCam/msCam12.avi\n",
            "[MoviePy] Writing video /content/gdrive/My Drive/H8_M55_S48 PP213-1/Cleaned_msCam/msCam12.avi\n"
          ],
          "name": "stdout"
        },
        {
          "output_type": "stream",
          "text": [
            "100%|█████████▉| 1000/1001 [00:05<00:00, 181.38it/s]"
          ],
          "name": "stderr"
        },
        {
          "output_type": "stream",
          "text": [
            "[MoviePy] Done.\n",
            "[MoviePy] >>>> Video ready: /content/gdrive/My Drive/H8_M55_S48 PP213-1/Cleaned_msCam/msCam12.avi \n",
            "\n"
          ],
          "name": "stdout"
        },
        {
          "output_type": "stream",
          "text": [
            "\n"
          ],
          "name": "stderr"
        },
        {
          "output_type": "stream",
          "text": [
            "[MoviePy] >>>> Building video /content/gdrive/My Drive/H8_M55_S48 PP213-1/Cleaned_msCam/msCam13.avi\n",
            "[MoviePy] Writing video /content/gdrive/My Drive/H8_M55_S48 PP213-1/Cleaned_msCam/msCam13.avi\n"
          ],
          "name": "stdout"
        },
        {
          "output_type": "stream",
          "text": [
            "100%|█████████▉| 1000/1001 [00:05<00:00, 179.51it/s]"
          ],
          "name": "stderr"
        },
        {
          "output_type": "stream",
          "text": [
            "[MoviePy] Done.\n",
            "[MoviePy] >>>> Video ready: /content/gdrive/My Drive/H8_M55_S48 PP213-1/Cleaned_msCam/msCam13.avi \n",
            "\n"
          ],
          "name": "stdout"
        },
        {
          "output_type": "stream",
          "text": [
            "\n"
          ],
          "name": "stderr"
        },
        {
          "output_type": "stream",
          "text": [
            "[MoviePy] >>>> Building video /content/gdrive/My Drive/H8_M55_S48 PP213-1/Cleaned_msCam/msCam14.avi\n",
            "[MoviePy] Writing video /content/gdrive/My Drive/H8_M55_S48 PP213-1/Cleaned_msCam/msCam14.avi\n"
          ],
          "name": "stdout"
        },
        {
          "output_type": "stream",
          "text": [
            "100%|█████████▉| 1000/1001 [00:05<00:00, 182.04it/s]"
          ],
          "name": "stderr"
        },
        {
          "output_type": "stream",
          "text": [
            "[MoviePy] Done.\n",
            "[MoviePy] >>>> Video ready: /content/gdrive/My Drive/H8_M55_S48 PP213-1/Cleaned_msCam/msCam14.avi \n",
            "\n"
          ],
          "name": "stdout"
        },
        {
          "output_type": "stream",
          "text": [
            "\n"
          ],
          "name": "stderr"
        },
        {
          "output_type": "stream",
          "text": [
            "[MoviePy] >>>> Building video /content/gdrive/My Drive/H8_M55_S48 PP213-1/Cleaned_msCam/msCam15.avi\n",
            "[MoviePy] Writing video /content/gdrive/My Drive/H8_M55_S48 PP213-1/Cleaned_msCam/msCam15.avi\n"
          ],
          "name": "stdout"
        },
        {
          "output_type": "stream",
          "text": [
            "100%|█████████▉| 1000/1001 [00:05<00:00, 174.62it/s]"
          ],
          "name": "stderr"
        },
        {
          "output_type": "stream",
          "text": [
            "[MoviePy] Done.\n",
            "[MoviePy] >>>> Video ready: /content/gdrive/My Drive/H8_M55_S48 PP213-1/Cleaned_msCam/msCam15.avi \n",
            "\n"
          ],
          "name": "stdout"
        },
        {
          "output_type": "stream",
          "text": [
            "\n"
          ],
          "name": "stderr"
        },
        {
          "output_type": "stream",
          "text": [
            "[MoviePy] >>>> Building video /content/gdrive/My Drive/H8_M55_S48 PP213-1/Cleaned_msCam/msCam16.avi\n",
            "[MoviePy] Writing video /content/gdrive/My Drive/H8_M55_S48 PP213-1/Cleaned_msCam/msCam16.avi\n"
          ],
          "name": "stdout"
        },
        {
          "output_type": "stream",
          "text": [
            "100%|█████████▉| 1000/1001 [00:05<00:00, 178.31it/s]"
          ],
          "name": "stderr"
        },
        {
          "output_type": "stream",
          "text": [
            "[MoviePy] Done.\n",
            "[MoviePy] >>>> Video ready: /content/gdrive/My Drive/H8_M55_S48 PP213-1/Cleaned_msCam/msCam16.avi \n",
            "\n"
          ],
          "name": "stdout"
        },
        {
          "output_type": "stream",
          "text": [
            "\n"
          ],
          "name": "stderr"
        },
        {
          "output_type": "stream",
          "text": [
            "[MoviePy] >>>> Building video /content/gdrive/My Drive/H8_M55_S48 PP213-1/Cleaned_msCam/msCam17.avi\n",
            "[MoviePy] Writing video /content/gdrive/My Drive/H8_M55_S48 PP213-1/Cleaned_msCam/msCam17.avi\n"
          ],
          "name": "stdout"
        },
        {
          "output_type": "stream",
          "text": [
            "100%|█████████▉| 1000/1001 [00:05<00:00, 182.30it/s]"
          ],
          "name": "stderr"
        },
        {
          "output_type": "stream",
          "text": [
            "[MoviePy] Done.\n",
            "[MoviePy] >>>> Video ready: /content/gdrive/My Drive/H8_M55_S48 PP213-1/Cleaned_msCam/msCam17.avi \n",
            "\n"
          ],
          "name": "stdout"
        },
        {
          "output_type": "stream",
          "text": [
            "\n"
          ],
          "name": "stderr"
        },
        {
          "output_type": "stream",
          "text": [
            "[MoviePy] >>>> Building video /content/gdrive/My Drive/H8_M55_S48 PP213-1/Cleaned_msCam/msCam18.avi\n",
            "[MoviePy] Writing video /content/gdrive/My Drive/H8_M55_S48 PP213-1/Cleaned_msCam/msCam18.avi\n"
          ],
          "name": "stdout"
        },
        {
          "output_type": "stream",
          "text": [
            "100%|█████████▉| 1000/1001 [00:05<00:00, 174.99it/s]"
          ],
          "name": "stderr"
        },
        {
          "output_type": "stream",
          "text": [
            "[MoviePy] Done.\n",
            "[MoviePy] >>>> Video ready: /content/gdrive/My Drive/H8_M55_S48 PP213-1/Cleaned_msCam/msCam18.avi \n",
            "\n"
          ],
          "name": "stdout"
        },
        {
          "output_type": "stream",
          "text": [
            "\n"
          ],
          "name": "stderr"
        },
        {
          "output_type": "stream",
          "text": [
            "[MoviePy] >>>> Building video /content/gdrive/My Drive/H8_M55_S48 PP213-1/Cleaned_msCam/msCam19.avi\n",
            "[MoviePy] Writing video /content/gdrive/My Drive/H8_M55_S48 PP213-1/Cleaned_msCam/msCam19.avi\n"
          ],
          "name": "stdout"
        },
        {
          "output_type": "stream",
          "text": [
            "100%|█████████▉| 1000/1001 [00:05<00:00, 178.43it/s]"
          ],
          "name": "stderr"
        },
        {
          "output_type": "stream",
          "text": [
            "[MoviePy] Done.\n",
            "[MoviePy] >>>> Video ready: /content/gdrive/My Drive/H8_M55_S48 PP213-1/Cleaned_msCam/msCam19.avi \n",
            "\n"
          ],
          "name": "stdout"
        },
        {
          "output_type": "stream",
          "text": [
            "\n"
          ],
          "name": "stderr"
        },
        {
          "output_type": "stream",
          "text": [
            "[MoviePy] >>>> Building video /content/gdrive/My Drive/H8_M55_S48 PP213-1/Cleaned_msCam/msCam20.avi\n",
            "[MoviePy] Writing video /content/gdrive/My Drive/H8_M55_S48 PP213-1/Cleaned_msCam/msCam20.avi\n"
          ],
          "name": "stdout"
        },
        {
          "output_type": "stream",
          "text": [
            "100%|█████████▉| 1000/1001 [00:05<00:00, 174.78it/s]"
          ],
          "name": "stderr"
        },
        {
          "output_type": "stream",
          "text": [
            "[MoviePy] Done.\n",
            "[MoviePy] >>>> Video ready: /content/gdrive/My Drive/H8_M55_S48 PP213-1/Cleaned_msCam/msCam20.avi \n",
            "\n"
          ],
          "name": "stdout"
        },
        {
          "output_type": "stream",
          "text": [
            "\n"
          ],
          "name": "stderr"
        },
        {
          "output_type": "stream",
          "text": [
            "[MoviePy] >>>> Building video /content/gdrive/My Drive/H8_M55_S48 PP213-1/Cleaned_msCam/msCam21.avi\n",
            "[MoviePy] Writing video /content/gdrive/My Drive/H8_M55_S48 PP213-1/Cleaned_msCam/msCam21.avi\n"
          ],
          "name": "stdout"
        },
        {
          "output_type": "stream",
          "text": [
            "100%|█████████▉| 1000/1001 [00:05<00:00, 176.48it/s]"
          ],
          "name": "stderr"
        },
        {
          "output_type": "stream",
          "text": [
            "[MoviePy] Done.\n",
            "[MoviePy] >>>> Video ready: /content/gdrive/My Drive/H8_M55_S48 PP213-1/Cleaned_msCam/msCam21.avi \n",
            "\n"
          ],
          "name": "stdout"
        },
        {
          "output_type": "stream",
          "text": [
            "\n"
          ],
          "name": "stderr"
        },
        {
          "output_type": "stream",
          "text": [
            "[MoviePy] >>>> Building video /content/gdrive/My Drive/H8_M55_S48 PP213-1/Cleaned_msCam/msCam22.avi\n",
            "[MoviePy] Writing video /content/gdrive/My Drive/H8_M55_S48 PP213-1/Cleaned_msCam/msCam22.avi\n"
          ],
          "name": "stdout"
        },
        {
          "output_type": "stream",
          "text": [
            "100%|█████████▉| 1000/1001 [00:05<00:00, 175.91it/s]"
          ],
          "name": "stderr"
        },
        {
          "output_type": "stream",
          "text": [
            "[MoviePy] Done.\n",
            "[MoviePy] >>>> Video ready: /content/gdrive/My Drive/H8_M55_S48 PP213-1/Cleaned_msCam/msCam22.avi \n",
            "\n"
          ],
          "name": "stdout"
        },
        {
          "output_type": "stream",
          "text": [
            "\n"
          ],
          "name": "stderr"
        },
        {
          "output_type": "stream",
          "text": [
            "[MoviePy] >>>> Building video /content/gdrive/My Drive/H8_M55_S48 PP213-1/Cleaned_msCam/msCam23.avi\n",
            "[MoviePy] Writing video /content/gdrive/My Drive/H8_M55_S48 PP213-1/Cleaned_msCam/msCam23.avi\n"
          ],
          "name": "stdout"
        },
        {
          "output_type": "stream",
          "text": [
            "100%|█████████▉| 1000/1001 [00:05<00:00, 172.62it/s]\n"
          ],
          "name": "stderr"
        },
        {
          "output_type": "stream",
          "text": [
            "[MoviePy] Done.\n",
            "[MoviePy] >>>> Video ready: /content/gdrive/My Drive/H8_M55_S48 PP213-1/Cleaned_msCam/msCam23.avi \n",
            "\n",
            "[MoviePy] >>>> Building video /content/gdrive/My Drive/H8_M55_S48 PP213-1/Cleaned_msCam/msCam24.avi\n",
            "[MoviePy] Writing video /content/gdrive/My Drive/H8_M55_S48 PP213-1/Cleaned_msCam/msCam24.avi\n"
          ],
          "name": "stdout"
        },
        {
          "output_type": "stream",
          "text": [
            "100%|█████████▉| 1000/1001 [00:05<00:00, 169.98it/s]"
          ],
          "name": "stderr"
        },
        {
          "output_type": "stream",
          "text": [
            "[MoviePy] Done.\n",
            "[MoviePy] >>>> Video ready: /content/gdrive/My Drive/H8_M55_S48 PP213-1/Cleaned_msCam/msCam24.avi \n",
            "\n"
          ],
          "name": "stdout"
        },
        {
          "output_type": "stream",
          "text": [
            "\n"
          ],
          "name": "stderr"
        },
        {
          "output_type": "stream",
          "text": [
            "[MoviePy] >>>> Building video /content/gdrive/My Drive/H8_M55_S48 PP213-1/Cleaned_msCam/msCam25.avi\n",
            "[MoviePy] Writing video /content/gdrive/My Drive/H8_M55_S48 PP213-1/Cleaned_msCam/msCam25.avi\n"
          ],
          "name": "stdout"
        },
        {
          "output_type": "stream",
          "text": [
            "100%|█████████▉| 1000/1001 [00:05<00:00, 180.57it/s]"
          ],
          "name": "stderr"
        },
        {
          "output_type": "stream",
          "text": [
            "[MoviePy] Done.\n",
            "[MoviePy] >>>> Video ready: /content/gdrive/My Drive/H8_M55_S48 PP213-1/Cleaned_msCam/msCam25.avi \n",
            "\n"
          ],
          "name": "stdout"
        },
        {
          "output_type": "stream",
          "text": [
            "\n"
          ],
          "name": "stderr"
        },
        {
          "output_type": "stream",
          "text": [
            "[MoviePy] >>>> Building video /content/gdrive/My Drive/H8_M55_S48 PP213-1/Cleaned_msCam/msCam26.avi\n",
            "[MoviePy] Writing video /content/gdrive/My Drive/H8_M55_S48 PP213-1/Cleaned_msCam/msCam26.avi\n"
          ],
          "name": "stdout"
        },
        {
          "output_type": "stream",
          "text": [
            "100%|█████████▉| 1000/1001 [00:05<00:00, 172.34it/s]"
          ],
          "name": "stderr"
        },
        {
          "output_type": "stream",
          "text": [
            "[MoviePy] Done.\n",
            "[MoviePy] >>>> Video ready: /content/gdrive/My Drive/H8_M55_S48 PP213-1/Cleaned_msCam/msCam26.avi \n",
            "\n"
          ],
          "name": "stdout"
        },
        {
          "output_type": "stream",
          "text": [
            "\n"
          ],
          "name": "stderr"
        },
        {
          "output_type": "stream",
          "text": [
            "[MoviePy] >>>> Building video /content/gdrive/My Drive/H8_M55_S48 PP213-1/Cleaned_msCam/msCam27.avi\n",
            "[MoviePy] Writing video /content/gdrive/My Drive/H8_M55_S48 PP213-1/Cleaned_msCam/msCam27.avi\n"
          ],
          "name": "stdout"
        },
        {
          "output_type": "stream",
          "text": [
            "100%|█████████▉| 1000/1001 [00:05<00:00, 179.09it/s]"
          ],
          "name": "stderr"
        },
        {
          "output_type": "stream",
          "text": [
            "[MoviePy] Done.\n",
            "[MoviePy] >>>> Video ready: /content/gdrive/My Drive/H8_M55_S48 PP213-1/Cleaned_msCam/msCam27.avi \n",
            "\n"
          ],
          "name": "stdout"
        },
        {
          "output_type": "stream",
          "text": [
            "\n"
          ],
          "name": "stderr"
        },
        {
          "output_type": "stream",
          "text": [
            "[MoviePy] >>>> Building video /content/gdrive/My Drive/H8_M55_S48 PP213-1/Cleaned_msCam/msCam28.avi\n",
            "[MoviePy] Writing video /content/gdrive/My Drive/H8_M55_S48 PP213-1/Cleaned_msCam/msCam28.avi\n"
          ],
          "name": "stdout"
        },
        {
          "output_type": "stream",
          "text": [
            "100%|█████████▉| 1000/1001 [00:05<00:00, 185.00it/s]"
          ],
          "name": "stderr"
        },
        {
          "output_type": "stream",
          "text": [
            "[MoviePy] Done.\n",
            "[MoviePy] >>>> Video ready: /content/gdrive/My Drive/H8_M55_S48 PP213-1/Cleaned_msCam/msCam28.avi \n",
            "\n"
          ],
          "name": "stdout"
        },
        {
          "output_type": "stream",
          "text": [
            "\n"
          ],
          "name": "stderr"
        },
        {
          "output_type": "stream",
          "text": [
            "[MoviePy] >>>> Building video /content/gdrive/My Drive/H8_M55_S48 PP213-1/Cleaned_msCam/msCam29.avi\n",
            "[MoviePy] Writing video /content/gdrive/My Drive/H8_M55_S48 PP213-1/Cleaned_msCam/msCam29.avi\n"
          ],
          "name": "stdout"
        },
        {
          "output_type": "stream",
          "text": [
            "100%|█████████▉| 1000/1001 [00:05<00:00, 180.88it/s]"
          ],
          "name": "stderr"
        },
        {
          "output_type": "stream",
          "text": [
            "[MoviePy] Done.\n",
            "[MoviePy] >>>> Video ready: /content/gdrive/My Drive/H8_M55_S48 PP213-1/Cleaned_msCam/msCam29.avi \n",
            "\n"
          ],
          "name": "stdout"
        },
        {
          "output_type": "stream",
          "text": [
            "\n"
          ],
          "name": "stderr"
        },
        {
          "output_type": "stream",
          "text": [
            "[MoviePy] >>>> Building video /content/gdrive/My Drive/H8_M55_S48 PP213-1/Cleaned_msCam/msCam30.avi\n",
            "[MoviePy] Writing video /content/gdrive/My Drive/H8_M55_S48 PP213-1/Cleaned_msCam/msCam30.avi\n"
          ],
          "name": "stdout"
        },
        {
          "output_type": "stream",
          "text": [
            "100%|█████████▉| 1000/1001 [00:05<00:00, 174.29it/s]"
          ],
          "name": "stderr"
        },
        {
          "output_type": "stream",
          "text": [
            "[MoviePy] Done.\n",
            "[MoviePy] >>>> Video ready: /content/gdrive/My Drive/H8_M55_S48 PP213-1/Cleaned_msCam/msCam30.avi \n",
            "\n"
          ],
          "name": "stdout"
        },
        {
          "output_type": "stream",
          "text": [
            "\n"
          ],
          "name": "stderr"
        },
        {
          "output_type": "stream",
          "text": [
            "[MoviePy] >>>> Building video /content/gdrive/My Drive/H8_M55_S48 PP213-1/Cleaned_msCam/msCam31.avi\n",
            "[MoviePy] Writing video /content/gdrive/My Drive/H8_M55_S48 PP213-1/Cleaned_msCam/msCam31.avi\n"
          ],
          "name": "stdout"
        },
        {
          "output_type": "stream",
          "text": [
            "100%|█████████▉| 1000/1001 [00:05<00:00, 175.16it/s]"
          ],
          "name": "stderr"
        },
        {
          "output_type": "stream",
          "text": [
            "[MoviePy] Done.\n",
            "[MoviePy] >>>> Video ready: /content/gdrive/My Drive/H8_M55_S48 PP213-1/Cleaned_msCam/msCam31.avi \n",
            "\n"
          ],
          "name": "stdout"
        },
        {
          "output_type": "stream",
          "text": [
            "\n"
          ],
          "name": "stderr"
        },
        {
          "output_type": "stream",
          "text": [
            "[MoviePy] >>>> Building video /content/gdrive/My Drive/H8_M55_S48 PP213-1/Cleaned_msCam/msCam32.avi\n",
            "[MoviePy] Writing video /content/gdrive/My Drive/H8_M55_S48 PP213-1/Cleaned_msCam/msCam32.avi\n"
          ],
          "name": "stdout"
        },
        {
          "output_type": "stream",
          "text": [
            "100%|█████████▉| 1000/1001 [00:05<00:00, 173.83it/s]"
          ],
          "name": "stderr"
        },
        {
          "output_type": "stream",
          "text": [
            "[MoviePy] Done.\n",
            "[MoviePy] >>>> Video ready: /content/gdrive/My Drive/H8_M55_S48 PP213-1/Cleaned_msCam/msCam32.avi \n",
            "\n"
          ],
          "name": "stdout"
        },
        {
          "output_type": "stream",
          "text": [
            "\n"
          ],
          "name": "stderr"
        },
        {
          "output_type": "stream",
          "text": [
            "[MoviePy] >>>> Building video /content/gdrive/My Drive/H8_M55_S48 PP213-1/Cleaned_msCam/msCam33.avi\n",
            "[MoviePy] Writing video /content/gdrive/My Drive/H8_M55_S48 PP213-1/Cleaned_msCam/msCam33.avi\n"
          ],
          "name": "stdout"
        },
        {
          "output_type": "stream",
          "text": [
            "100%|█████████▉| 1000/1001 [00:05<00:00, 175.86it/s]\n"
          ],
          "name": "stderr"
        },
        {
          "output_type": "stream",
          "text": [
            "[MoviePy] Done.\n",
            "[MoviePy] >>>> Video ready: /content/gdrive/My Drive/H8_M55_S48 PP213-1/Cleaned_msCam/msCam33.avi \n",
            "\n",
            "[MoviePy] >>>> Building video /content/gdrive/My Drive/H8_M55_S48 PP213-1/Cleaned_msCam/msCam34.avi\n",
            "[MoviePy] Writing video /content/gdrive/My Drive/H8_M55_S48 PP213-1/Cleaned_msCam/msCam34.avi\n"
          ],
          "name": "stdout"
        },
        {
          "output_type": "stream",
          "text": [
            "100%|█████████▉| 1000/1001 [00:05<00:00, 185.17it/s]"
          ],
          "name": "stderr"
        },
        {
          "output_type": "stream",
          "text": [
            "[MoviePy] Done.\n",
            "[MoviePy] >>>> Video ready: /content/gdrive/My Drive/H8_M55_S48 PP213-1/Cleaned_msCam/msCam34.avi \n",
            "\n"
          ],
          "name": "stdout"
        },
        {
          "output_type": "stream",
          "text": [
            "\n"
          ],
          "name": "stderr"
        },
        {
          "output_type": "stream",
          "text": [
            "[MoviePy] >>>> Building video /content/gdrive/My Drive/H8_M55_S48 PP213-1/Cleaned_msCam/msCam35.avi\n",
            "[MoviePy] Writing video /content/gdrive/My Drive/H8_M55_S48 PP213-1/Cleaned_msCam/msCam35.avi\n"
          ],
          "name": "stdout"
        },
        {
          "output_type": "stream",
          "text": [
            "100%|█████████▉| 1000/1001 [00:05<00:00, 174.90it/s]"
          ],
          "name": "stderr"
        },
        {
          "output_type": "stream",
          "text": [
            "[MoviePy] Done.\n",
            "[MoviePy] >>>> Video ready: /content/gdrive/My Drive/H8_M55_S48 PP213-1/Cleaned_msCam/msCam35.avi \n",
            "\n"
          ],
          "name": "stdout"
        },
        {
          "output_type": "stream",
          "text": [
            "\n"
          ],
          "name": "stderr"
        },
        {
          "output_type": "stream",
          "text": [
            "[MoviePy] >>>> Building video /content/gdrive/My Drive/H8_M55_S48 PP213-1/Cleaned_msCam/msCam36.avi\n",
            "[MoviePy] Writing video /content/gdrive/My Drive/H8_M55_S48 PP213-1/Cleaned_msCam/msCam36.avi\n"
          ],
          "name": "stdout"
        },
        {
          "output_type": "stream",
          "text": [
            "100%|█████████▉| 1000/1001 [00:05<00:00, 172.13it/s]"
          ],
          "name": "stderr"
        },
        {
          "output_type": "stream",
          "text": [
            "[MoviePy] Done.\n",
            "[MoviePy] >>>> Video ready: /content/gdrive/My Drive/H8_M55_S48 PP213-1/Cleaned_msCam/msCam36.avi \n",
            "\n"
          ],
          "name": "stdout"
        },
        {
          "output_type": "stream",
          "text": [
            "\n"
          ],
          "name": "stderr"
        },
        {
          "output_type": "stream",
          "text": [
            "[MoviePy] >>>> Building video /content/gdrive/My Drive/H8_M55_S48 PP213-1/Cleaned_msCam/msCam37.avi\n",
            "[MoviePy] Writing video /content/gdrive/My Drive/H8_M55_S48 PP213-1/Cleaned_msCam/msCam37.avi\n"
          ],
          "name": "stdout"
        },
        {
          "output_type": "stream",
          "text": [
            "100%|█████████▉| 1000/1001 [00:05<00:00, 178.65it/s]"
          ],
          "name": "stderr"
        },
        {
          "output_type": "stream",
          "text": [
            "[MoviePy] Done.\n",
            "[MoviePy] >>>> Video ready: /content/gdrive/My Drive/H8_M55_S48 PP213-1/Cleaned_msCam/msCam37.avi \n",
            "\n"
          ],
          "name": "stdout"
        },
        {
          "output_type": "stream",
          "text": [
            "\n"
          ],
          "name": "stderr"
        },
        {
          "output_type": "stream",
          "text": [
            "[MoviePy] >>>> Building video /content/gdrive/My Drive/H8_M55_S48 PP213-1/Cleaned_msCam/msCam38.avi\n",
            "[MoviePy] Writing video /content/gdrive/My Drive/H8_M55_S48 PP213-1/Cleaned_msCam/msCam38.avi\n"
          ],
          "name": "stdout"
        },
        {
          "output_type": "stream",
          "text": [
            "100%|█████████▉| 1000/1001 [00:06<00:00, 161.94it/s]"
          ],
          "name": "stderr"
        },
        {
          "output_type": "stream",
          "text": [
            "[MoviePy] Done.\n",
            "[MoviePy] >>>> Video ready: /content/gdrive/My Drive/H8_M55_S48 PP213-1/Cleaned_msCam/msCam38.avi \n",
            "\n"
          ],
          "name": "stdout"
        },
        {
          "output_type": "stream",
          "text": [
            "\n"
          ],
          "name": "stderr"
        },
        {
          "output_type": "stream",
          "text": [
            "[MoviePy] >>>> Building video /content/gdrive/My Drive/H8_M55_S48 PP213-1/Cleaned_msCam/msCam39.avi\n",
            "[MoviePy] Writing video /content/gdrive/My Drive/H8_M55_S48 PP213-1/Cleaned_msCam/msCam39.avi\n"
          ],
          "name": "stdout"
        },
        {
          "output_type": "stream",
          "text": [
            "100%|█████████▉| 1000/1001 [00:05<00:00, 172.79it/s]"
          ],
          "name": "stderr"
        },
        {
          "output_type": "stream",
          "text": [
            "[MoviePy] Done.\n",
            "[MoviePy] >>>> Video ready: /content/gdrive/My Drive/H8_M55_S48 PP213-1/Cleaned_msCam/msCam39.avi \n",
            "\n"
          ],
          "name": "stdout"
        },
        {
          "output_type": "stream",
          "text": [
            "\n"
          ],
          "name": "stderr"
        },
        {
          "output_type": "stream",
          "text": [
            "[MoviePy] >>>> Building video /content/gdrive/My Drive/H8_M55_S48 PP213-1/Cleaned_msCam/msCam40.avi\n",
            "[MoviePy] Writing video /content/gdrive/My Drive/H8_M55_S48 PP213-1/Cleaned_msCam/msCam40.avi\n"
          ],
          "name": "stdout"
        },
        {
          "output_type": "stream",
          "text": [
            "100%|█████████▉| 1000/1001 [00:05<00:00, 174.96it/s]"
          ],
          "name": "stderr"
        },
        {
          "output_type": "stream",
          "text": [
            "[MoviePy] Done.\n",
            "[MoviePy] >>>> Video ready: /content/gdrive/My Drive/H8_M55_S48 PP213-1/Cleaned_msCam/msCam40.avi \n",
            "\n"
          ],
          "name": "stdout"
        },
        {
          "output_type": "stream",
          "text": [
            "\n"
          ],
          "name": "stderr"
        },
        {
          "output_type": "stream",
          "text": [
            "[MoviePy] >>>> Building video /content/gdrive/My Drive/H8_M55_S48 PP213-1/Cleaned_msCam/msCam41.avi\n",
            "[MoviePy] Writing video /content/gdrive/My Drive/H8_M55_S48 PP213-1/Cleaned_msCam/msCam41.avi\n"
          ],
          "name": "stdout"
        },
        {
          "output_type": "stream",
          "text": [
            "100%|█████████▉| 1000/1001 [00:05<00:00, 177.14it/s]"
          ],
          "name": "stderr"
        },
        {
          "output_type": "stream",
          "text": [
            "[MoviePy] Done.\n",
            "[MoviePy] >>>> Video ready: /content/gdrive/My Drive/H8_M55_S48 PP213-1/Cleaned_msCam/msCam41.avi \n",
            "\n"
          ],
          "name": "stdout"
        },
        {
          "output_type": "stream",
          "text": [
            "\n"
          ],
          "name": "stderr"
        },
        {
          "output_type": "stream",
          "text": [
            "[MoviePy] >>>> Building video /content/gdrive/My Drive/H8_M55_S48 PP213-1/Cleaned_msCam/msCam42.avi\n",
            "[MoviePy] Writing video /content/gdrive/My Drive/H8_M55_S48 PP213-1/Cleaned_msCam/msCam42.avi\n"
          ],
          "name": "stdout"
        },
        {
          "output_type": "stream",
          "text": [
            "100%|█████████▉| 1000/1001 [00:05<00:00, 175.79it/s]"
          ],
          "name": "stderr"
        },
        {
          "output_type": "stream",
          "text": [
            "[MoviePy] Done.\n",
            "[MoviePy] >>>> Video ready: /content/gdrive/My Drive/H8_M55_S48 PP213-1/Cleaned_msCam/msCam42.avi \n",
            "\n"
          ],
          "name": "stdout"
        },
        {
          "output_type": "stream",
          "text": [
            "\n"
          ],
          "name": "stderr"
        },
        {
          "output_type": "stream",
          "text": [
            "[MoviePy] >>>> Building video /content/gdrive/My Drive/H8_M55_S48 PP213-1/Cleaned_msCam/msCam43.avi\n",
            "[MoviePy] Writing video /content/gdrive/My Drive/H8_M55_S48 PP213-1/Cleaned_msCam/msCam43.avi\n"
          ],
          "name": "stdout"
        },
        {
          "output_type": "stream",
          "text": [
            "100%|█████████▉| 1000/1001 [00:05<00:00, 175.84it/s]"
          ],
          "name": "stderr"
        },
        {
          "output_type": "stream",
          "text": [
            "[MoviePy] Done.\n",
            "[MoviePy] >>>> Video ready: /content/gdrive/My Drive/H8_M55_S48 PP213-1/Cleaned_msCam/msCam43.avi \n",
            "\n"
          ],
          "name": "stdout"
        },
        {
          "output_type": "stream",
          "text": [
            "\n"
          ],
          "name": "stderr"
        },
        {
          "output_type": "stream",
          "text": [
            "[MoviePy] >>>> Building video /content/gdrive/My Drive/H8_M55_S48 PP213-1/Cleaned_msCam/msCam44.avi\n",
            "[MoviePy] Writing video /content/gdrive/My Drive/H8_M55_S48 PP213-1/Cleaned_msCam/msCam44.avi\n"
          ],
          "name": "stdout"
        },
        {
          "output_type": "stream",
          "text": [
            "100%|█████████▉| 1000/1001 [00:05<00:00, 179.20it/s]"
          ],
          "name": "stderr"
        },
        {
          "output_type": "stream",
          "text": [
            "[MoviePy] Done.\n",
            "[MoviePy] >>>> Video ready: /content/gdrive/My Drive/H8_M55_S48 PP213-1/Cleaned_msCam/msCam44.avi \n",
            "\n"
          ],
          "name": "stdout"
        },
        {
          "output_type": "stream",
          "text": [
            "\n"
          ],
          "name": "stderr"
        },
        {
          "output_type": "stream",
          "text": [
            "[MoviePy] >>>> Building video /content/gdrive/My Drive/H8_M55_S48 PP213-1/Cleaned_msCam/msCam45.avi\n",
            "[MoviePy] Writing video /content/gdrive/My Drive/H8_M55_S48 PP213-1/Cleaned_msCam/msCam45.avi\n"
          ],
          "name": "stdout"
        },
        {
          "output_type": "stream",
          "text": [
            "100%|█████████▉| 1000/1001 [00:05<00:00, 171.18it/s]"
          ],
          "name": "stderr"
        },
        {
          "output_type": "stream",
          "text": [
            "[MoviePy] Done.\n"
          ],
          "name": "stdout"
        },
        {
          "output_type": "stream",
          "text": [
            "\n"
          ],
          "name": "stderr"
        },
        {
          "output_type": "stream",
          "text": [
            "[MoviePy] >>>> Video ready: /content/gdrive/My Drive/H8_M55_S48 PP213-1/Cleaned_msCam/msCam45.avi \n",
            "\n",
            "[MoviePy] >>>> Building video /content/gdrive/My Drive/H8_M55_S48 PP213-1/Cleaned_msCam/msCam46.avi\n",
            "[MoviePy] Writing video /content/gdrive/My Drive/H8_M55_S48 PP213-1/Cleaned_msCam/msCam46.avi\n"
          ],
          "name": "stdout"
        },
        {
          "output_type": "stream",
          "text": [
            "100%|█████████▉| 1000/1001 [00:05<00:00, 182.67it/s]"
          ],
          "name": "stderr"
        },
        {
          "output_type": "stream",
          "text": [
            "[MoviePy] Done.\n",
            "[MoviePy] >>>> Video ready: /content/gdrive/My Drive/H8_M55_S48 PP213-1/Cleaned_msCam/msCam46.avi \n",
            "\n"
          ],
          "name": "stdout"
        },
        {
          "output_type": "stream",
          "text": [
            "\n"
          ],
          "name": "stderr"
        },
        {
          "output_type": "stream",
          "text": [
            "[MoviePy] >>>> Building video /content/gdrive/My Drive/H8_M55_S48 PP213-1/Cleaned_msCam/msCam47.avi\n",
            "[MoviePy] Writing video /content/gdrive/My Drive/H8_M55_S48 PP213-1/Cleaned_msCam/msCam47.avi\n"
          ],
          "name": "stdout"
        },
        {
          "output_type": "stream",
          "text": [
            "100%|█████████▉| 1000/1001 [00:05<00:00, 186.29it/s]"
          ],
          "name": "stderr"
        },
        {
          "output_type": "stream",
          "text": [
            "[MoviePy] Done.\n",
            "[MoviePy] >>>> Video ready: /content/gdrive/My Drive/H8_M55_S48 PP213-1/Cleaned_msCam/msCam47.avi \n",
            "\n"
          ],
          "name": "stdout"
        },
        {
          "output_type": "stream",
          "text": [
            "\n"
          ],
          "name": "stderr"
        },
        {
          "output_type": "stream",
          "text": [
            "[MoviePy] >>>> Building video /content/gdrive/My Drive/H8_M55_S48 PP213-1/Cleaned_msCam/msCam48.avi\n",
            "[MoviePy] Writing video /content/gdrive/My Drive/H8_M55_S48 PP213-1/Cleaned_msCam/msCam48.avi\n"
          ],
          "name": "stdout"
        },
        {
          "output_type": "stream",
          "text": [
            "100%|█████████▉| 1000/1001 [00:05<00:00, 178.80it/s]"
          ],
          "name": "stderr"
        },
        {
          "output_type": "stream",
          "text": [
            "[MoviePy] Done.\n",
            "[MoviePy] >>>> Video ready: /content/gdrive/My Drive/H8_M55_S48 PP213-1/Cleaned_msCam/msCam48.avi \n",
            "\n"
          ],
          "name": "stdout"
        },
        {
          "output_type": "stream",
          "text": [
            "\n"
          ],
          "name": "stderr"
        },
        {
          "output_type": "stream",
          "text": [
            "[MoviePy] >>>> Building video /content/gdrive/My Drive/H8_M55_S48 PP213-1/Cleaned_msCam/msCam49.avi\n",
            "[MoviePy] Writing video /content/gdrive/My Drive/H8_M55_S48 PP213-1/Cleaned_msCam/msCam49.avi\n"
          ],
          "name": "stdout"
        },
        {
          "output_type": "stream",
          "text": [
            "100%|█████████▉| 1000/1001 [00:05<00:00, 177.87it/s]"
          ],
          "name": "stderr"
        },
        {
          "output_type": "stream",
          "text": [
            "[MoviePy] Done.\n",
            "[MoviePy] >>>> Video ready: /content/gdrive/My Drive/H8_M55_S48 PP213-1/Cleaned_msCam/msCam49.avi \n",
            "\n"
          ],
          "name": "stdout"
        },
        {
          "output_type": "stream",
          "text": [
            "\n"
          ],
          "name": "stderr"
        },
        {
          "output_type": "stream",
          "text": [
            "[MoviePy] >>>> Building video /content/gdrive/My Drive/H8_M55_S48 PP213-1/Cleaned_msCam/msCam50.avi\n",
            "[MoviePy] Writing video /content/gdrive/My Drive/H8_M55_S48 PP213-1/Cleaned_msCam/msCam50.avi\n"
          ],
          "name": "stdout"
        },
        {
          "output_type": "stream",
          "text": [
            "100%|█████████▉| 1000/1001 [00:05<00:00, 183.56it/s]"
          ],
          "name": "stderr"
        },
        {
          "output_type": "stream",
          "text": [
            "[MoviePy] Done.\n",
            "[MoviePy] >>>> Video ready: /content/gdrive/My Drive/H8_M55_S48 PP213-1/Cleaned_msCam/msCam50.avi \n",
            "\n"
          ],
          "name": "stdout"
        },
        {
          "output_type": "stream",
          "text": [
            "\n"
          ],
          "name": "stderr"
        },
        {
          "output_type": "stream",
          "text": [
            "[MoviePy] >>>> Building video /content/gdrive/My Drive/H8_M55_S48 PP213-1/Cleaned_msCam/msCam51.avi\n",
            "[MoviePy] Writing video /content/gdrive/My Drive/H8_M55_S48 PP213-1/Cleaned_msCam/msCam51.avi\n"
          ],
          "name": "stdout"
        },
        {
          "output_type": "stream",
          "text": [
            "100%|█████████▉| 1000/1001 [00:05<00:00, 177.80it/s]"
          ],
          "name": "stderr"
        },
        {
          "output_type": "stream",
          "text": [
            "[MoviePy] Done.\n",
            "[MoviePy] >>>> Video ready: /content/gdrive/My Drive/H8_M55_S48 PP213-1/Cleaned_msCam/msCam51.avi \n",
            "\n"
          ],
          "name": "stdout"
        },
        {
          "output_type": "stream",
          "text": [
            "\n"
          ],
          "name": "stderr"
        },
        {
          "output_type": "stream",
          "text": [
            "[MoviePy] >>>> Building video /content/gdrive/My Drive/H8_M55_S48 PP213-1/Cleaned_msCam/msCam52.avi\n",
            "[MoviePy] Writing video /content/gdrive/My Drive/H8_M55_S48 PP213-1/Cleaned_msCam/msCam52.avi\n"
          ],
          "name": "stdout"
        },
        {
          "output_type": "stream",
          "text": [
            "100%|█████████▉| 1000/1001 [00:05<00:00, 177.04it/s]"
          ],
          "name": "stderr"
        },
        {
          "output_type": "stream",
          "text": [
            "[MoviePy] Done.\n",
            "[MoviePy] >>>> Video ready: /content/gdrive/My Drive/H8_M55_S48 PP213-1/Cleaned_msCam/msCam52.avi \n",
            "\n"
          ],
          "name": "stdout"
        },
        {
          "output_type": "stream",
          "text": [
            "\n"
          ],
          "name": "stderr"
        },
        {
          "output_type": "stream",
          "text": [
            "[MoviePy] >>>> Building video /content/gdrive/My Drive/H8_M55_S48 PP213-1/Cleaned_msCam/msCam53.avi\n",
            "[MoviePy] Writing video /content/gdrive/My Drive/H8_M55_S48 PP213-1/Cleaned_msCam/msCam53.avi\n"
          ],
          "name": "stdout"
        },
        {
          "output_type": "stream",
          "text": [
            "100%|█████████▉| 1000/1001 [00:05<00:00, 169.18it/s]"
          ],
          "name": "stderr"
        },
        {
          "output_type": "stream",
          "text": [
            "[MoviePy] Done.\n",
            "[MoviePy] >>>> Video ready: /content/gdrive/My Drive/H8_M55_S48 PP213-1/Cleaned_msCam/msCam53.avi \n",
            "\n"
          ],
          "name": "stdout"
        },
        {
          "output_type": "stream",
          "text": [
            "\n"
          ],
          "name": "stderr"
        },
        {
          "output_type": "stream",
          "text": [
            "[MoviePy] >>>> Building video /content/gdrive/My Drive/H8_M55_S48 PP213-1/Cleaned_msCam/msCam54.avi\n",
            "[MoviePy] Writing video /content/gdrive/My Drive/H8_M55_S48 PP213-1/Cleaned_msCam/msCam54.avi\n"
          ],
          "name": "stdout"
        },
        {
          "output_type": "stream",
          "text": [
            "100%|█████████▉| 1000/1001 [00:05<00:00, 179.46it/s]"
          ],
          "name": "stderr"
        },
        {
          "output_type": "stream",
          "text": [
            "[MoviePy] Done.\n",
            "[MoviePy] >>>> Video ready: /content/gdrive/My Drive/H8_M55_S48 PP213-1/Cleaned_msCam/msCam54.avi \n",
            "\n"
          ],
          "name": "stdout"
        },
        {
          "output_type": "stream",
          "text": [
            "\n"
          ],
          "name": "stderr"
        },
        {
          "output_type": "stream",
          "text": [
            "[MoviePy] >>>> Building video /content/gdrive/My Drive/H8_M55_S48 PP213-1/Cleaned_msCam/msCam55.avi\n",
            "[MoviePy] Writing video /content/gdrive/My Drive/H8_M55_S48 PP213-1/Cleaned_msCam/msCam55.avi\n"
          ],
          "name": "stdout"
        },
        {
          "output_type": "stream",
          "text": [
            "100%|█████████▉| 1000/1001 [00:05<00:00, 178.51it/s]"
          ],
          "name": "stderr"
        },
        {
          "output_type": "stream",
          "text": [
            "[MoviePy] Done.\n",
            "[MoviePy] >>>> Video ready: /content/gdrive/My Drive/H8_M55_S48 PP213-1/Cleaned_msCam/msCam55.avi \n",
            "\n"
          ],
          "name": "stdout"
        },
        {
          "output_type": "stream",
          "text": [
            "\n"
          ],
          "name": "stderr"
        },
        {
          "output_type": "stream",
          "text": [
            "[MoviePy] >>>> Building video /content/gdrive/My Drive/H8_M55_S48 PP213-1/Cleaned_msCam/msCam56.avi\n",
            "[MoviePy] Writing video /content/gdrive/My Drive/H8_M55_S48 PP213-1/Cleaned_msCam/msCam56.avi\n"
          ],
          "name": "stdout"
        },
        {
          "output_type": "stream",
          "text": [
            "100%|█████████▉| 1000/1001 [00:05<00:00, 170.29it/s]\n"
          ],
          "name": "stderr"
        },
        {
          "output_type": "stream",
          "text": [
            "[MoviePy] Done.\n",
            "[MoviePy] >>>> Video ready: /content/gdrive/My Drive/H8_M55_S48 PP213-1/Cleaned_msCam/msCam56.avi \n",
            "\n",
            "[MoviePy] >>>> Building video /content/gdrive/My Drive/H8_M55_S48 PP213-1/Cleaned_msCam/msCam57.avi\n",
            "[MoviePy] Writing video /content/gdrive/My Drive/H8_M55_S48 PP213-1/Cleaned_msCam/msCam57.avi\n"
          ],
          "name": "stdout"
        },
        {
          "output_type": "stream",
          "text": [
            "100%|█████████▉| 1000/1001 [00:05<00:00, 176.01it/s]"
          ],
          "name": "stderr"
        },
        {
          "output_type": "stream",
          "text": [
            "[MoviePy] Done.\n",
            "[MoviePy] >>>> Video ready: /content/gdrive/My Drive/H8_M55_S48 PP213-1/Cleaned_msCam/msCam57.avi \n",
            "\n"
          ],
          "name": "stdout"
        },
        {
          "output_type": "stream",
          "text": [
            "\n"
          ],
          "name": "stderr"
        },
        {
          "output_type": "stream",
          "text": [
            "[MoviePy] >>>> Building video /content/gdrive/My Drive/H8_M55_S48 PP213-1/Cleaned_msCam/msCam58.avi\n",
            "[MoviePy] Writing video /content/gdrive/My Drive/H8_M55_S48 PP213-1/Cleaned_msCam/msCam58.avi\n"
          ],
          "name": "stdout"
        },
        {
          "output_type": "stream",
          "text": [
            "100%|█████████▉| 1000/1001 [00:05<00:00, 172.31it/s]"
          ],
          "name": "stderr"
        },
        {
          "output_type": "stream",
          "text": [
            "[MoviePy] Done.\n",
            "[MoviePy] >>>> Video ready: /content/gdrive/My Drive/H8_M55_S48 PP213-1/Cleaned_msCam/msCam58.avi \n",
            "\n"
          ],
          "name": "stdout"
        },
        {
          "output_type": "stream",
          "text": [
            "\n"
          ],
          "name": "stderr"
        },
        {
          "output_type": "stream",
          "text": [
            "[MoviePy] >>>> Building video /content/gdrive/My Drive/H8_M55_S48 PP213-1/Cleaned_msCam/msCam59.avi\n",
            "[MoviePy] Writing video /content/gdrive/My Drive/H8_M55_S48 PP213-1/Cleaned_msCam/msCam59.avi\n"
          ],
          "name": "stdout"
        },
        {
          "output_type": "stream",
          "text": [
            "100%|█████████▉| 1000/1001 [00:05<00:00, 176.82it/s]"
          ],
          "name": "stderr"
        },
        {
          "output_type": "stream",
          "text": [
            "[MoviePy] Done.\n",
            "[MoviePy] >>>> Video ready: /content/gdrive/My Drive/H8_M55_S48 PP213-1/Cleaned_msCam/msCam59.avi \n",
            "\n"
          ],
          "name": "stdout"
        },
        {
          "output_type": "stream",
          "text": [
            "\n"
          ],
          "name": "stderr"
        },
        {
          "output_type": "stream",
          "text": [
            "[MoviePy] >>>> Building video /content/gdrive/My Drive/H8_M55_S48 PP213-1/Cleaned_msCam/msCam60.avi\n",
            "[MoviePy] Writing video /content/gdrive/My Drive/H8_M55_S48 PP213-1/Cleaned_msCam/msCam60.avi\n"
          ],
          "name": "stdout"
        },
        {
          "output_type": "stream",
          "text": [
            "100%|█████████▉| 1000/1001 [00:05<00:00, 175.92it/s]"
          ],
          "name": "stderr"
        },
        {
          "output_type": "stream",
          "text": [
            "[MoviePy] Done.\n"
          ],
          "name": "stdout"
        },
        {
          "output_type": "stream",
          "text": [
            "\n"
          ],
          "name": "stderr"
        },
        {
          "output_type": "stream",
          "text": [
            "[MoviePy] >>>> Video ready: /content/gdrive/My Drive/H8_M55_S48 PP213-1/Cleaned_msCam/msCam60.avi \n",
            "\n",
            "[MoviePy] >>>> Building video /content/gdrive/My Drive/H8_M55_S48 PP213-1/Cleaned_msCam/msCam61.avi\n",
            "[MoviePy] Writing video /content/gdrive/My Drive/H8_M55_S48 PP213-1/Cleaned_msCam/msCam61.avi\n"
          ],
          "name": "stdout"
        },
        {
          "output_type": "stream",
          "text": [
            "100%|█████████▉| 1000/1001 [00:05<00:00, 180.44it/s]"
          ],
          "name": "stderr"
        },
        {
          "output_type": "stream",
          "text": [
            "[MoviePy] Done.\n",
            "[MoviePy] >>>> Video ready: /content/gdrive/My Drive/H8_M55_S48 PP213-1/Cleaned_msCam/msCam61.avi \n",
            "\n"
          ],
          "name": "stdout"
        },
        {
          "output_type": "stream",
          "text": [
            "\n"
          ],
          "name": "stderr"
        },
        {
          "output_type": "stream",
          "text": [
            "[MoviePy] >>>> Building video /content/gdrive/My Drive/H8_M55_S48 PP213-1/Cleaned_msCam/msCam62.avi\n",
            "[MoviePy] Writing video /content/gdrive/My Drive/H8_M55_S48 PP213-1/Cleaned_msCam/msCam62.avi\n"
          ],
          "name": "stdout"
        },
        {
          "output_type": "stream",
          "text": [
            "100%|█████████▉| 1000/1001 [00:05<00:00, 176.48it/s]"
          ],
          "name": "stderr"
        },
        {
          "output_type": "stream",
          "text": [
            "[MoviePy] Done.\n",
            "[MoviePy] >>>> Video ready: /content/gdrive/My Drive/H8_M55_S48 PP213-1/Cleaned_msCam/msCam62.avi \n",
            "\n"
          ],
          "name": "stdout"
        },
        {
          "output_type": "stream",
          "text": [
            "\n"
          ],
          "name": "stderr"
        },
        {
          "output_type": "stream",
          "text": [
            "[MoviePy] >>>> Building video /content/gdrive/My Drive/H8_M55_S48 PP213-1/Cleaned_msCam/msCam63.avi\n",
            "[MoviePy] Writing video /content/gdrive/My Drive/H8_M55_S48 PP213-1/Cleaned_msCam/msCam63.avi\n"
          ],
          "name": "stdout"
        },
        {
          "output_type": "stream",
          "text": [
            "100%|█████████▉| 1000/1001 [00:05<00:00, 177.96it/s]"
          ],
          "name": "stderr"
        },
        {
          "output_type": "stream",
          "text": [
            "[MoviePy] Done.\n",
            "[MoviePy] >>>> Video ready: /content/gdrive/My Drive/H8_M55_S48 PP213-1/Cleaned_msCam/msCam63.avi \n",
            "\n"
          ],
          "name": "stdout"
        },
        {
          "output_type": "stream",
          "text": [
            "\n"
          ],
          "name": "stderr"
        },
        {
          "output_type": "stream",
          "text": [
            "[MoviePy] >>>> Building video /content/gdrive/My Drive/H8_M55_S48 PP213-1/Cleaned_msCam/msCam64.avi\n",
            "[MoviePy] Writing video /content/gdrive/My Drive/H8_M55_S48 PP213-1/Cleaned_msCam/msCam64.avi\n"
          ],
          "name": "stdout"
        },
        {
          "output_type": "stream",
          "text": [
            "100%|█████████▉| 1000/1001 [00:05<00:00, 176.21it/s]"
          ],
          "name": "stderr"
        },
        {
          "output_type": "stream",
          "text": [
            "[MoviePy] Done.\n",
            "[MoviePy] >>>> Video ready: /content/gdrive/My Drive/H8_M55_S48 PP213-1/Cleaned_msCam/msCam64.avi \n",
            "\n"
          ],
          "name": "stdout"
        },
        {
          "output_type": "stream",
          "text": [
            "\n"
          ],
          "name": "stderr"
        },
        {
          "output_type": "stream",
          "text": [
            "[MoviePy] >>>> Building video /content/gdrive/My Drive/H8_M55_S48 PP213-1/Cleaned_msCam/msCam65.avi\n",
            "[MoviePy] Writing video /content/gdrive/My Drive/H8_M55_S48 PP213-1/Cleaned_msCam/msCam65.avi\n"
          ],
          "name": "stdout"
        },
        {
          "output_type": "stream",
          "text": [
            "100%|█████████▉| 1000/1001 [00:05<00:00, 190.25it/s]"
          ],
          "name": "stderr"
        },
        {
          "output_type": "stream",
          "text": [
            "[MoviePy] Done.\n",
            "[MoviePy] >>>> Video ready: /content/gdrive/My Drive/H8_M55_S48 PP213-1/Cleaned_msCam/msCam65.avi \n",
            "\n"
          ],
          "name": "stdout"
        },
        {
          "output_type": "stream",
          "text": [
            "\n"
          ],
          "name": "stderr"
        },
        {
          "output_type": "stream",
          "text": [
            "[MoviePy] >>>> Building video /content/gdrive/My Drive/H8_M55_S48 PP213-1/Cleaned_msCam/msCam66.avi\n",
            "[MoviePy] Writing video /content/gdrive/My Drive/H8_M55_S48 PP213-1/Cleaned_msCam/msCam66.avi\n"
          ],
          "name": "stdout"
        },
        {
          "output_type": "stream",
          "text": [
            "100%|█████████▉| 1000/1001 [00:05<00:00, 172.91it/s]"
          ],
          "name": "stderr"
        },
        {
          "output_type": "stream",
          "text": [
            "[MoviePy] Done.\n",
            "[MoviePy] >>>> Video ready: /content/gdrive/My Drive/H8_M55_S48 PP213-1/Cleaned_msCam/msCam66.avi \n",
            "\n"
          ],
          "name": "stdout"
        },
        {
          "output_type": "stream",
          "text": [
            "\n"
          ],
          "name": "stderr"
        },
        {
          "output_type": "stream",
          "text": [
            "[MoviePy] >>>> Building video /content/gdrive/My Drive/H8_M55_S48 PP213-1/Cleaned_msCam/msCam67.avi\n",
            "[MoviePy] Writing video /content/gdrive/My Drive/H8_M55_S48 PP213-1/Cleaned_msCam/msCam67.avi\n"
          ],
          "name": "stdout"
        },
        {
          "output_type": "stream",
          "text": [
            "100%|█████████▉| 1000/1001 [00:05<00:00, 173.04it/s]"
          ],
          "name": "stderr"
        },
        {
          "output_type": "stream",
          "text": [
            "[MoviePy] Done.\n",
            "[MoviePy] >>>> Video ready: /content/gdrive/My Drive/H8_M55_S48 PP213-1/Cleaned_msCam/msCam67.avi \n",
            "\n"
          ],
          "name": "stdout"
        },
        {
          "output_type": "stream",
          "text": [
            "\n"
          ],
          "name": "stderr"
        },
        {
          "output_type": "stream",
          "text": [
            "[MoviePy] >>>> Building video /content/gdrive/My Drive/H8_M55_S48 PP213-1/Cleaned_msCam/msCam68.avi\n",
            "[MoviePy] Writing video /content/gdrive/My Drive/H8_M55_S48 PP213-1/Cleaned_msCam/msCam68.avi\n"
          ],
          "name": "stdout"
        },
        {
          "output_type": "stream",
          "text": [
            "100%|█████████▉| 1000/1001 [00:05<00:00, 171.43it/s]\n"
          ],
          "name": "stderr"
        },
        {
          "output_type": "stream",
          "text": [
            "[MoviePy] Done.\n",
            "[MoviePy] >>>> Video ready: /content/gdrive/My Drive/H8_M55_S48 PP213-1/Cleaned_msCam/msCam68.avi \n",
            "\n",
            "[MoviePy] >>>> Building video /content/gdrive/My Drive/H8_M55_S48 PP213-1/Cleaned_msCam/msCam69.avi\n",
            "[MoviePy] Writing video /content/gdrive/My Drive/H8_M55_S48 PP213-1/Cleaned_msCam/msCam69.avi\n"
          ],
          "name": "stdout"
        },
        {
          "output_type": "stream",
          "text": [
            "100%|█████████▉| 1000/1001 [00:05<00:00, 170.37it/s]"
          ],
          "name": "stderr"
        },
        {
          "output_type": "stream",
          "text": [
            "[MoviePy] Done.\n",
            "[MoviePy] >>>> Video ready: /content/gdrive/My Drive/H8_M55_S48 PP213-1/Cleaned_msCam/msCam69.avi \n",
            "\n"
          ],
          "name": "stdout"
        },
        {
          "output_type": "stream",
          "text": [
            "\n"
          ],
          "name": "stderr"
        },
        {
          "output_type": "stream",
          "text": [
            "[MoviePy] >>>> Building video /content/gdrive/My Drive/H8_M55_S48 PP213-1/Cleaned_msCam/msCam70.avi\n",
            "[MoviePy] Writing video /content/gdrive/My Drive/H8_M55_S48 PP213-1/Cleaned_msCam/msCam70.avi\n"
          ],
          "name": "stdout"
        },
        {
          "output_type": "stream",
          "text": [
            "100%|█████████▉| 1000/1001 [00:05<00:00, 167.86it/s]"
          ],
          "name": "stderr"
        },
        {
          "output_type": "stream",
          "text": [
            "[MoviePy] Done.\n",
            "[MoviePy] >>>> Video ready: /content/gdrive/My Drive/H8_M55_S48 PP213-1/Cleaned_msCam/msCam70.avi \n",
            "\n"
          ],
          "name": "stdout"
        },
        {
          "output_type": "stream",
          "text": [
            "\n"
          ],
          "name": "stderr"
        },
        {
          "output_type": "stream",
          "text": [
            "[MoviePy] >>>> Building video /content/gdrive/My Drive/H8_M55_S48 PP213-1/Cleaned_msCam/msCam71.avi\n",
            "[MoviePy] Writing video /content/gdrive/My Drive/H8_M55_S48 PP213-1/Cleaned_msCam/msCam71.avi\n"
          ],
          "name": "stdout"
        },
        {
          "output_type": "stream",
          "text": [
            "100%|█████████▉| 1000/1001 [00:06<00:00, 158.78it/s]"
          ],
          "name": "stderr"
        },
        {
          "output_type": "stream",
          "text": [
            "[MoviePy] Done.\n",
            "[MoviePy] >>>> Video ready: /content/gdrive/My Drive/H8_M55_S48 PP213-1/Cleaned_msCam/msCam71.avi \n",
            "\n"
          ],
          "name": "stdout"
        },
        {
          "output_type": "stream",
          "text": [
            "\n"
          ],
          "name": "stderr"
        },
        {
          "output_type": "stream",
          "text": [
            "[MoviePy] >>>> Building video /content/gdrive/My Drive/H8_M55_S48 PP213-1/Cleaned_msCam/msCam72.avi\n",
            "[MoviePy] Writing video /content/gdrive/My Drive/H8_M55_S48 PP213-1/Cleaned_msCam/msCam72.avi\n"
          ],
          "name": "stdout"
        },
        {
          "output_type": "stream",
          "text": [
            "100%|█████████▉| 1000/1001 [00:05<00:00, 168.59it/s]"
          ],
          "name": "stderr"
        },
        {
          "output_type": "stream",
          "text": [
            "[MoviePy] Done.\n",
            "[MoviePy] >>>> Video ready: /content/gdrive/My Drive/H8_M55_S48 PP213-1/Cleaned_msCam/msCam72.avi \n",
            "\n"
          ],
          "name": "stdout"
        },
        {
          "output_type": "stream",
          "text": [
            "\n"
          ],
          "name": "stderr"
        },
        {
          "output_type": "stream",
          "text": [
            "[MoviePy] >>>> Building video /content/gdrive/My Drive/H8_M55_S48 PP213-1/Cleaned_msCam/msCam73.avi\n",
            "[MoviePy] Writing video /content/gdrive/My Drive/H8_M55_S48 PP213-1/Cleaned_msCam/msCam73.avi\n"
          ],
          "name": "stdout"
        },
        {
          "output_type": "stream",
          "text": [
            "100%|█████████▉| 1000/1001 [00:05<00:00, 177.23it/s]"
          ],
          "name": "stderr"
        },
        {
          "output_type": "stream",
          "text": [
            "[MoviePy] Done.\n",
            "[MoviePy] >>>> Video ready: /content/gdrive/My Drive/H8_M55_S48 PP213-1/Cleaned_msCam/msCam73.avi \n",
            "\n"
          ],
          "name": "stdout"
        },
        {
          "output_type": "stream",
          "text": [
            "\n"
          ],
          "name": "stderr"
        },
        {
          "output_type": "stream",
          "text": [
            "[MoviePy] >>>> Building video /content/gdrive/My Drive/H8_M55_S48 PP213-1/Cleaned_msCam/msCam74.avi\n",
            "[MoviePy] Writing video /content/gdrive/My Drive/H8_M55_S48 PP213-1/Cleaned_msCam/msCam74.avi\n"
          ],
          "name": "stdout"
        },
        {
          "output_type": "stream",
          "text": [
            "100%|█████████▉| 1000/1001 [00:05<00:00, 175.05it/s]"
          ],
          "name": "stderr"
        },
        {
          "output_type": "stream",
          "text": [
            "[MoviePy] Done.\n",
            "[MoviePy] >>>> Video ready: /content/gdrive/My Drive/H8_M55_S48 PP213-1/Cleaned_msCam/msCam74.avi \n",
            "\n"
          ],
          "name": "stdout"
        },
        {
          "output_type": "stream",
          "text": [
            "\n"
          ],
          "name": "stderr"
        },
        {
          "output_type": "stream",
          "text": [
            "[MoviePy] >>>> Building video /content/gdrive/My Drive/H8_M55_S48 PP213-1/Cleaned_msCam/msCam75.avi\n",
            "[MoviePy] Writing video /content/gdrive/My Drive/H8_M55_S48 PP213-1/Cleaned_msCam/msCam75.avi\n"
          ],
          "name": "stdout"
        },
        {
          "output_type": "stream",
          "text": [
            "100%|█████████▉| 1000/1001 [00:05<00:00, 171.50it/s]\n"
          ],
          "name": "stderr"
        },
        {
          "output_type": "stream",
          "text": [
            "[MoviePy] Done.\n",
            "[MoviePy] >>>> Video ready: /content/gdrive/My Drive/H8_M55_S48 PP213-1/Cleaned_msCam/msCam75.avi \n",
            "\n",
            "[MoviePy] >>>> Building video /content/gdrive/My Drive/H8_M55_S48 PP213-1/Cleaned_msCam/msCam76.avi\n",
            "[MoviePy] Writing video /content/gdrive/My Drive/H8_M55_S48 PP213-1/Cleaned_msCam/msCam76.avi\n"
          ],
          "name": "stdout"
        },
        {
          "output_type": "stream",
          "text": [
            "100%|█████████▉| 1000/1001 [00:05<00:00, 173.89it/s]"
          ],
          "name": "stderr"
        },
        {
          "output_type": "stream",
          "text": [
            "[MoviePy] Done.\n",
            "[MoviePy] >>>> Video ready: /content/gdrive/My Drive/H8_M55_S48 PP213-1/Cleaned_msCam/msCam76.avi \n",
            "\n"
          ],
          "name": "stdout"
        },
        {
          "output_type": "stream",
          "text": [
            "\n"
          ],
          "name": "stderr"
        },
        {
          "output_type": "stream",
          "text": [
            "[MoviePy] >>>> Building video /content/gdrive/My Drive/H8_M55_S48 PP213-1/Cleaned_msCam/msCam77.avi\n",
            "[MoviePy] Writing video /content/gdrive/My Drive/H8_M55_S48 PP213-1/Cleaned_msCam/msCam77.avi\n"
          ],
          "name": "stdout"
        },
        {
          "output_type": "stream",
          "text": [
            "100%|█████████▉| 1000/1001 [00:05<00:00, 172.46it/s]"
          ],
          "name": "stderr"
        },
        {
          "output_type": "stream",
          "text": [
            "[MoviePy] Done.\n",
            "[MoviePy] >>>> Video ready: /content/gdrive/My Drive/H8_M55_S48 PP213-1/Cleaned_msCam/msCam77.avi \n",
            "\n"
          ],
          "name": "stdout"
        },
        {
          "output_type": "stream",
          "text": [
            "\n"
          ],
          "name": "stderr"
        },
        {
          "output_type": "stream",
          "text": [
            "[MoviePy] >>>> Building video /content/gdrive/My Drive/H8_M55_S48 PP213-1/Cleaned_msCam/msCam78.avi\n",
            "[MoviePy] Writing video /content/gdrive/My Drive/H8_M55_S48 PP213-1/Cleaned_msCam/msCam78.avi\n"
          ],
          "name": "stdout"
        },
        {
          "output_type": "stream",
          "text": [
            "100%|█████████▉| 1000/1001 [00:05<00:00, 182.12it/s]"
          ],
          "name": "stderr"
        },
        {
          "output_type": "stream",
          "text": [
            "[MoviePy] Done.\n",
            "[MoviePy] >>>> Video ready: /content/gdrive/My Drive/H8_M55_S48 PP213-1/Cleaned_msCam/msCam78.avi \n",
            "\n"
          ],
          "name": "stdout"
        },
        {
          "output_type": "stream",
          "text": [
            "\n"
          ],
          "name": "stderr"
        },
        {
          "output_type": "stream",
          "text": [
            "[MoviePy] >>>> Building video /content/gdrive/My Drive/H8_M55_S48 PP213-1/Cleaned_msCam/msCam79.avi\n",
            "[MoviePy] Writing video /content/gdrive/My Drive/H8_M55_S48 PP213-1/Cleaned_msCam/msCam79.avi\n"
          ],
          "name": "stdout"
        },
        {
          "output_type": "stream",
          "text": [
            "100%|█████████▉| 1000/1001 [00:05<00:00, 173.03it/s]"
          ],
          "name": "stderr"
        },
        {
          "output_type": "stream",
          "text": [
            "[MoviePy] Done.\n",
            "[MoviePy] >>>> Video ready: /content/gdrive/My Drive/H8_M55_S48 PP213-1/Cleaned_msCam/msCam79.avi \n",
            "\n"
          ],
          "name": "stdout"
        },
        {
          "output_type": "stream",
          "text": [
            "\n"
          ],
          "name": "stderr"
        },
        {
          "output_type": "stream",
          "text": [
            "[MoviePy] >>>> Building video /content/gdrive/My Drive/H8_M55_S48 PP213-1/Cleaned_msCam/msCam80.avi\n",
            "[MoviePy] Writing video /content/gdrive/My Drive/H8_M55_S48 PP213-1/Cleaned_msCam/msCam80.avi\n"
          ],
          "name": "stdout"
        },
        {
          "output_type": "stream",
          "text": [
            "100%|█████████▉| 1000/1001 [00:05<00:00, 177.29it/s]"
          ],
          "name": "stderr"
        },
        {
          "output_type": "stream",
          "text": [
            "[MoviePy] Done.\n",
            "[MoviePy] >>>> Video ready: /content/gdrive/My Drive/H8_M55_S48 PP213-1/Cleaned_msCam/msCam80.avi \n",
            "\n"
          ],
          "name": "stdout"
        },
        {
          "output_type": "stream",
          "text": [
            "\n"
          ],
          "name": "stderr"
        },
        {
          "output_type": "stream",
          "text": [
            "[MoviePy] >>>> Building video /content/gdrive/My Drive/H8_M55_S48 PP213-1/Cleaned_msCam/msCam81.avi\n",
            "[MoviePy] Writing video /content/gdrive/My Drive/H8_M55_S48 PP213-1/Cleaned_msCam/msCam81.avi\n"
          ],
          "name": "stdout"
        },
        {
          "output_type": "stream",
          "text": [
            "100%|█████████▉| 1000/1001 [00:05<00:00, 178.60it/s]"
          ],
          "name": "stderr"
        },
        {
          "output_type": "stream",
          "text": [
            "[MoviePy] Done.\n",
            "[MoviePy] >>>> Video ready: /content/gdrive/My Drive/H8_M55_S48 PP213-1/Cleaned_msCam/msCam81.avi \n",
            "\n"
          ],
          "name": "stdout"
        },
        {
          "output_type": "stream",
          "text": [
            "\n"
          ],
          "name": "stderr"
        },
        {
          "output_type": "stream",
          "text": [
            "[MoviePy] >>>> Building video /content/gdrive/My Drive/H8_M55_S48 PP213-1/Cleaned_msCam/msCam82.avi\n",
            "[MoviePy] Writing video /content/gdrive/My Drive/H8_M55_S48 PP213-1/Cleaned_msCam/msCam82.avi\n"
          ],
          "name": "stdout"
        },
        {
          "output_type": "stream",
          "text": [
            "100%|█████████▉| 1000/1001 [00:05<00:00, 179.68it/s]"
          ],
          "name": "stderr"
        },
        {
          "output_type": "stream",
          "text": [
            "[MoviePy] Done.\n",
            "[MoviePy] >>>> Video ready: /content/gdrive/My Drive/H8_M55_S48 PP213-1/Cleaned_msCam/msCam82.avi \n",
            "\n"
          ],
          "name": "stdout"
        },
        {
          "output_type": "stream",
          "text": [
            "\n"
          ],
          "name": "stderr"
        },
        {
          "output_type": "stream",
          "text": [
            "[MoviePy] >>>> Building video /content/gdrive/My Drive/H8_M55_S48 PP213-1/Cleaned_msCam/msCam83.avi\n",
            "[MoviePy] Writing video /content/gdrive/My Drive/H8_M55_S48 PP213-1/Cleaned_msCam/msCam83.avi\n"
          ],
          "name": "stdout"
        },
        {
          "output_type": "stream",
          "text": [
            "100%|█████████▉| 1000/1001 [00:05<00:00, 169.51it/s]"
          ],
          "name": "stderr"
        },
        {
          "output_type": "stream",
          "text": [
            "[MoviePy] Done.\n",
            "[MoviePy] >>>> Video ready: /content/gdrive/My Drive/H8_M55_S48 PP213-1/Cleaned_msCam/msCam83.avi \n",
            "\n"
          ],
          "name": "stdout"
        },
        {
          "output_type": "stream",
          "text": [
            "\n"
          ],
          "name": "stderr"
        },
        {
          "output_type": "stream",
          "text": [
            "[MoviePy] >>>> Building video /content/gdrive/My Drive/H8_M55_S48 PP213-1/Cleaned_msCam/msCam84.avi\n",
            "[MoviePy] Writing video /content/gdrive/My Drive/H8_M55_S48 PP213-1/Cleaned_msCam/msCam84.avi\n"
          ],
          "name": "stdout"
        },
        {
          "output_type": "stream",
          "text": [
            "100%|█████████▉| 1000/1001 [00:05<00:00, 167.41it/s]"
          ],
          "name": "stderr"
        },
        {
          "output_type": "stream",
          "text": [
            "[MoviePy] Done.\n",
            "[MoviePy] >>>> Video ready: /content/gdrive/My Drive/H8_M55_S48 PP213-1/Cleaned_msCam/msCam84.avi \n",
            "\n"
          ],
          "name": "stdout"
        },
        {
          "output_type": "stream",
          "text": [
            "\n"
          ],
          "name": "stderr"
        },
        {
          "output_type": "stream",
          "text": [
            "[MoviePy] >>>> Building video /content/gdrive/My Drive/H8_M55_S48 PP213-1/Cleaned_msCam/msCam85.avi\n",
            "[MoviePy] Writing video /content/gdrive/My Drive/H8_M55_S48 PP213-1/Cleaned_msCam/msCam85.avi\n"
          ],
          "name": "stdout"
        },
        {
          "output_type": "stream",
          "text": [
            "100%|█████████▉| 1000/1001 [00:05<00:00, 175.09it/s]"
          ],
          "name": "stderr"
        },
        {
          "output_type": "stream",
          "text": [
            "[MoviePy] Done.\n",
            "[MoviePy] >>>> Video ready: /content/gdrive/My Drive/H8_M55_S48 PP213-1/Cleaned_msCam/msCam85.avi \n",
            "\n"
          ],
          "name": "stdout"
        },
        {
          "output_type": "stream",
          "text": [
            "\n"
          ],
          "name": "stderr"
        },
        {
          "output_type": "stream",
          "text": [
            "[MoviePy] >>>> Building video /content/gdrive/My Drive/H8_M55_S48 PP213-1/Cleaned_msCam/msCam86.avi\n",
            "[MoviePy] Writing video /content/gdrive/My Drive/H8_M55_S48 PP213-1/Cleaned_msCam/msCam86.avi\n"
          ],
          "name": "stdout"
        },
        {
          "output_type": "stream",
          "text": [
            "100%|█████████▉| 1000/1001 [00:05<00:00, 179.20it/s]\n"
          ],
          "name": "stderr"
        },
        {
          "output_type": "stream",
          "text": [
            "[MoviePy] Done.\n",
            "[MoviePy] >>>> Video ready: /content/gdrive/My Drive/H8_M55_S48 PP213-1/Cleaned_msCam/msCam86.avi \n",
            "\n",
            "[MoviePy] >>>> Building video /content/gdrive/My Drive/H8_M55_S48 PP213-1/Cleaned_msCam/msCam87.avi\n",
            "[MoviePy] Writing video /content/gdrive/My Drive/H8_M55_S48 PP213-1/Cleaned_msCam/msCam87.avi\n"
          ],
          "name": "stdout"
        },
        {
          "output_type": "stream",
          "text": [
            "100%|█████████▉| 1000/1001 [00:05<00:00, 174.49it/s]\n"
          ],
          "name": "stderr"
        },
        {
          "output_type": "stream",
          "text": [
            "[MoviePy] Done.\n",
            "[MoviePy] >>>> Video ready: /content/gdrive/My Drive/H8_M55_S48 PP213-1/Cleaned_msCam/msCam87.avi \n",
            "\n",
            "[MoviePy] >>>> Building video /content/gdrive/My Drive/H8_M55_S48 PP213-1/Cleaned_msCam/msCam88.avi\n",
            "[MoviePy] Writing video /content/gdrive/My Drive/H8_M55_S48 PP213-1/Cleaned_msCam/msCam88.avi\n"
          ],
          "name": "stdout"
        },
        {
          "output_type": "stream",
          "text": [
            "100%|█████████▉| 1000/1001 [00:05<00:00, 172.53it/s]"
          ],
          "name": "stderr"
        },
        {
          "output_type": "stream",
          "text": [
            "[MoviePy] Done.\n",
            "[MoviePy] >>>> Video ready: /content/gdrive/My Drive/H8_M55_S48 PP213-1/Cleaned_msCam/msCam88.avi \n",
            "\n"
          ],
          "name": "stdout"
        },
        {
          "output_type": "stream",
          "text": [
            "\n"
          ],
          "name": "stderr"
        },
        {
          "output_type": "stream",
          "text": [
            "[MoviePy] >>>> Building video /content/gdrive/My Drive/H8_M55_S48 PP213-1/Cleaned_msCam/msCam89.avi\n",
            "[MoviePy] Writing video /content/gdrive/My Drive/H8_M55_S48 PP213-1/Cleaned_msCam/msCam89.avi\n"
          ],
          "name": "stdout"
        },
        {
          "output_type": "stream",
          "text": [
            "100%|█████████▉| 1000/1001 [00:05<00:00, 178.43it/s]"
          ],
          "name": "stderr"
        },
        {
          "output_type": "stream",
          "text": [
            "[MoviePy] Done.\n",
            "[MoviePy] >>>> Video ready: /content/gdrive/My Drive/H8_M55_S48 PP213-1/Cleaned_msCam/msCam89.avi \n",
            "\n"
          ],
          "name": "stdout"
        },
        {
          "output_type": "stream",
          "text": [
            "\n"
          ],
          "name": "stderr"
        },
        {
          "output_type": "stream",
          "text": [
            "[MoviePy] >>>> Building video /content/gdrive/My Drive/H8_M55_S48 PP213-1/Cleaned_msCam/msCam90.avi\n",
            "[MoviePy] Writing video /content/gdrive/My Drive/H8_M55_S48 PP213-1/Cleaned_msCam/msCam90.avi\n"
          ],
          "name": "stdout"
        },
        {
          "output_type": "stream",
          "text": [
            "100%|█████████▉| 1000/1001 [00:05<00:00, 181.95it/s]\n"
          ],
          "name": "stderr"
        },
        {
          "output_type": "stream",
          "text": [
            "[MoviePy] Done.\n",
            "[MoviePy] >>>> Video ready: /content/gdrive/My Drive/H8_M55_S48 PP213-1/Cleaned_msCam/msCam90.avi \n",
            "\n",
            "[MoviePy] >>>> Building video /content/gdrive/My Drive/H8_M55_S48 PP213-1/Cleaned_msCam/msCam91.avi\n",
            "[MoviePy] Writing video /content/gdrive/My Drive/H8_M55_S48 PP213-1/Cleaned_msCam/msCam91.avi\n"
          ],
          "name": "stdout"
        },
        {
          "output_type": "stream",
          "text": [
            "100%|█████████▉| 1000/1001 [00:05<00:00, 178.86it/s]"
          ],
          "name": "stderr"
        },
        {
          "output_type": "stream",
          "text": [
            "[MoviePy] Done.\n",
            "[MoviePy] >>>> Video ready: /content/gdrive/My Drive/H8_M55_S48 PP213-1/Cleaned_msCam/msCam91.avi \n",
            "\n"
          ],
          "name": "stdout"
        },
        {
          "output_type": "stream",
          "text": [
            "\n"
          ],
          "name": "stderr"
        },
        {
          "output_type": "stream",
          "text": [
            "[MoviePy] >>>> Building video /content/gdrive/My Drive/H8_M55_S48 PP213-1/Cleaned_msCam/msCam92.avi\n",
            "[MoviePy] Writing video /content/gdrive/My Drive/H8_M55_S48 PP213-1/Cleaned_msCam/msCam92.avi\n"
          ],
          "name": "stdout"
        },
        {
          "output_type": "stream",
          "text": [
            "100%|█████████▉| 1000/1001 [00:05<00:00, 172.10it/s]"
          ],
          "name": "stderr"
        },
        {
          "output_type": "stream",
          "text": [
            "[MoviePy] Done.\n",
            "[MoviePy] >>>> Video ready: /content/gdrive/My Drive/H8_M55_S48 PP213-1/Cleaned_msCam/msCam92.avi \n",
            "\n"
          ],
          "name": "stdout"
        },
        {
          "output_type": "stream",
          "text": [
            "\n"
          ],
          "name": "stderr"
        },
        {
          "output_type": "stream",
          "text": [
            "[MoviePy] >>>> Building video /content/gdrive/My Drive/H8_M55_S48 PP213-1/Cleaned_msCam/msCam93.avi\n",
            "[MoviePy] Writing video /content/gdrive/My Drive/H8_M55_S48 PP213-1/Cleaned_msCam/msCam93.avi\n"
          ],
          "name": "stdout"
        },
        {
          "output_type": "stream",
          "text": [
            "100%|█████████▉| 1000/1001 [00:06<00:00, 160.13it/s]"
          ],
          "name": "stderr"
        },
        {
          "output_type": "stream",
          "text": [
            "[MoviePy] Done.\n",
            "[MoviePy] >>>> Video ready: /content/gdrive/My Drive/H8_M55_S48 PP213-1/Cleaned_msCam/msCam93.avi \n",
            "\n"
          ],
          "name": "stdout"
        },
        {
          "output_type": "stream",
          "text": [
            "\n"
          ],
          "name": "stderr"
        },
        {
          "output_type": "stream",
          "text": [
            "[MoviePy] >>>> Building video /content/gdrive/My Drive/H8_M55_S48 PP213-1/Cleaned_msCam/msCam94.avi\n",
            "[MoviePy] Writing video /content/gdrive/My Drive/H8_M55_S48 PP213-1/Cleaned_msCam/msCam94.avi\n"
          ],
          "name": "stdout"
        },
        {
          "output_type": "stream",
          "text": [
            "100%|█████████▉| 1000/1001 [00:05<00:00, 177.32it/s]\n"
          ],
          "name": "stderr"
        },
        {
          "output_type": "stream",
          "text": [
            "[MoviePy] Done.\n",
            "[MoviePy] >>>> Video ready: /content/gdrive/My Drive/H8_M55_S48 PP213-1/Cleaned_msCam/msCam94.avi \n",
            "\n",
            "[MoviePy] >>>> Building video /content/gdrive/My Drive/H8_M55_S48 PP213-1/Cleaned_msCam/msCam95.avi\n",
            "[MoviePy] Writing video /content/gdrive/My Drive/H8_M55_S48 PP213-1/Cleaned_msCam/msCam95.avi\n"
          ],
          "name": "stdout"
        },
        {
          "output_type": "stream",
          "text": [
            "100%|█████████▉| 1000/1001 [00:05<00:00, 175.46it/s]"
          ],
          "name": "stderr"
        },
        {
          "output_type": "stream",
          "text": [
            "[MoviePy] Done.\n",
            "[MoviePy] >>>> Video ready: /content/gdrive/My Drive/H8_M55_S48 PP213-1/Cleaned_msCam/msCam95.avi \n",
            "\n"
          ],
          "name": "stdout"
        },
        {
          "output_type": "stream",
          "text": [
            "\n"
          ],
          "name": "stderr"
        },
        {
          "output_type": "stream",
          "text": [
            "[MoviePy] >>>> Building video /content/gdrive/My Drive/H8_M55_S48 PP213-1/Cleaned_msCam/msCam96.avi\n",
            "[MoviePy] Writing video /content/gdrive/My Drive/H8_M55_S48 PP213-1/Cleaned_msCam/msCam96.avi\n"
          ],
          "name": "stdout"
        },
        {
          "output_type": "stream",
          "text": [
            "100%|█████████▉| 1000/1001 [00:05<00:00, 170.81it/s]"
          ],
          "name": "stderr"
        },
        {
          "output_type": "stream",
          "text": [
            "[MoviePy] Done.\n",
            "[MoviePy] >>>> Video ready: /content/gdrive/My Drive/H8_M55_S48 PP213-1/Cleaned_msCam/msCam96.avi \n",
            "\n"
          ],
          "name": "stdout"
        },
        {
          "output_type": "stream",
          "text": [
            "\n"
          ],
          "name": "stderr"
        },
        {
          "output_type": "stream",
          "text": [
            "[MoviePy] >>>> Building video /content/gdrive/My Drive/H8_M55_S48 PP213-1/Cleaned_msCam/msCam97.avi\n",
            "[MoviePy] Writing video /content/gdrive/My Drive/H8_M55_S48 PP213-1/Cleaned_msCam/msCam97.avi\n"
          ],
          "name": "stdout"
        },
        {
          "output_type": "stream",
          "text": [
            "100%|█████████▉| 1000/1001 [00:05<00:00, 176.64it/s]"
          ],
          "name": "stderr"
        },
        {
          "output_type": "stream",
          "text": [
            "[MoviePy] Done.\n",
            "[MoviePy] >>>> Video ready: /content/gdrive/My Drive/H8_M55_S48 PP213-1/Cleaned_msCam/msCam97.avi \n",
            "\n"
          ],
          "name": "stdout"
        },
        {
          "output_type": "stream",
          "text": [
            "\n"
          ],
          "name": "stderr"
        },
        {
          "output_type": "stream",
          "text": [
            "[MoviePy] >>>> Building video /content/gdrive/My Drive/H8_M55_S48 PP213-1/Cleaned_msCam/msCam98.avi\n",
            "[MoviePy] Writing video /content/gdrive/My Drive/H8_M55_S48 PP213-1/Cleaned_msCam/msCam98.avi\n"
          ],
          "name": "stdout"
        },
        {
          "output_type": "stream",
          "text": [
            "100%|█████████▉| 1000/1001 [00:05<00:00, 180.20it/s]"
          ],
          "name": "stderr"
        },
        {
          "output_type": "stream",
          "text": [
            "[MoviePy] Done.\n",
            "[MoviePy] >>>> Video ready: /content/gdrive/My Drive/H8_M55_S48 PP213-1/Cleaned_msCam/msCam98.avi \n",
            "\n"
          ],
          "name": "stdout"
        },
        {
          "output_type": "stream",
          "text": [
            "\n"
          ],
          "name": "stderr"
        },
        {
          "output_type": "stream",
          "text": [
            "[MoviePy] >>>> Building video /content/gdrive/My Drive/H8_M55_S48 PP213-1/Cleaned_msCam/msCam99.avi\n",
            "[MoviePy] Writing video /content/gdrive/My Drive/H8_M55_S48 PP213-1/Cleaned_msCam/msCam99.avi\n"
          ],
          "name": "stdout"
        },
        {
          "output_type": "stream",
          "text": [
            "100%|█████████▉| 1000/1001 [00:05<00:00, 183.39it/s]"
          ],
          "name": "stderr"
        },
        {
          "output_type": "stream",
          "text": [
            "[MoviePy] Done.\n",
            "[MoviePy] >>>> Video ready: /content/gdrive/My Drive/H8_M55_S48 PP213-1/Cleaned_msCam/msCam99.avi \n",
            "\n"
          ],
          "name": "stdout"
        },
        {
          "output_type": "stream",
          "text": [
            "\n"
          ],
          "name": "stderr"
        },
        {
          "output_type": "stream",
          "text": [
            "[MoviePy] >>>> Building video /content/gdrive/My Drive/H8_M55_S48 PP213-1/Cleaned_msCam/msCam100.avi\n",
            "[MoviePy] Writing video /content/gdrive/My Drive/H8_M55_S48 PP213-1/Cleaned_msCam/msCam100.avi\n"
          ],
          "name": "stdout"
        },
        {
          "output_type": "stream",
          "text": [
            "100%|█████████▉| 1000/1001 [00:05<00:00, 178.48it/s]"
          ],
          "name": "stderr"
        },
        {
          "output_type": "stream",
          "text": [
            "[MoviePy] Done.\n",
            "[MoviePy] >>>> Video ready: /content/gdrive/My Drive/H8_M55_S48 PP213-1/Cleaned_msCam/msCam100.avi \n",
            "\n"
          ],
          "name": "stdout"
        },
        {
          "output_type": "stream",
          "text": [
            "\n"
          ],
          "name": "stderr"
        },
        {
          "output_type": "stream",
          "text": [
            "[MoviePy] >>>> Building video /content/gdrive/My Drive/H8_M55_S48 PP213-1/Cleaned_msCam/msCam101.avi\n",
            "[MoviePy] Writing video /content/gdrive/My Drive/H8_M55_S48 PP213-1/Cleaned_msCam/msCam101.avi\n"
          ],
          "name": "stdout"
        },
        {
          "output_type": "stream",
          "text": [
            "100%|█████████▉| 1000/1001 [00:05<00:00, 176.74it/s]"
          ],
          "name": "stderr"
        },
        {
          "output_type": "stream",
          "text": [
            "[MoviePy] Done.\n",
            "[MoviePy] >>>> Video ready: /content/gdrive/My Drive/H8_M55_S48 PP213-1/Cleaned_msCam/msCam101.avi \n",
            "\n"
          ],
          "name": "stdout"
        },
        {
          "output_type": "stream",
          "text": [
            "\n"
          ],
          "name": "stderr"
        },
        {
          "output_type": "stream",
          "text": [
            "[MoviePy] >>>> Building video /content/gdrive/My Drive/H8_M55_S48 PP213-1/Cleaned_msCam/msCam102.avi\n",
            "[MoviePy] Writing video /content/gdrive/My Drive/H8_M55_S48 PP213-1/Cleaned_msCam/msCam102.avi\n"
          ],
          "name": "stdout"
        },
        {
          "output_type": "stream",
          "text": [
            "100%|█████████▉| 1000/1001 [00:05<00:00, 173.94it/s]"
          ],
          "name": "stderr"
        },
        {
          "output_type": "stream",
          "text": [
            "[MoviePy] Done.\n",
            "[MoviePy] >>>> Video ready: /content/gdrive/My Drive/H8_M55_S48 PP213-1/Cleaned_msCam/msCam102.avi \n",
            "\n"
          ],
          "name": "stdout"
        },
        {
          "output_type": "stream",
          "text": [
            "\n"
          ],
          "name": "stderr"
        },
        {
          "output_type": "stream",
          "text": [
            "[MoviePy] >>>> Building video /content/gdrive/My Drive/H8_M55_S48 PP213-1/Cleaned_msCam/msCam103.avi\n",
            "[MoviePy] Writing video /content/gdrive/My Drive/H8_M55_S48 PP213-1/Cleaned_msCam/msCam103.avi\n"
          ],
          "name": "stdout"
        },
        {
          "output_type": "stream",
          "text": [
            "100%|█████████▉| 1000/1001 [00:05<00:00, 175.09it/s]"
          ],
          "name": "stderr"
        },
        {
          "output_type": "stream",
          "text": [
            "[MoviePy] Done.\n",
            "[MoviePy] >>>> Video ready: /content/gdrive/My Drive/H8_M55_S48 PP213-1/Cleaned_msCam/msCam103.avi \n",
            "\n"
          ],
          "name": "stdout"
        },
        {
          "output_type": "stream",
          "text": [
            "\n"
          ],
          "name": "stderr"
        },
        {
          "output_type": "stream",
          "text": [
            "[MoviePy] >>>> Building video /content/gdrive/My Drive/H8_M55_S48 PP213-1/Cleaned_msCam/msCam104.avi\n",
            "[MoviePy] Writing video /content/gdrive/My Drive/H8_M55_S48 PP213-1/Cleaned_msCam/msCam104.avi\n"
          ],
          "name": "stdout"
        },
        {
          "output_type": "stream",
          "text": [
            "100%|█████████▉| 1000/1001 [00:05<00:00, 174.32it/s]"
          ],
          "name": "stderr"
        },
        {
          "output_type": "stream",
          "text": [
            "[MoviePy] Done.\n",
            "[MoviePy] >>>> Video ready: /content/gdrive/My Drive/H8_M55_S48 PP213-1/Cleaned_msCam/msCam104.avi \n",
            "\n"
          ],
          "name": "stdout"
        },
        {
          "output_type": "stream",
          "text": [
            "\n"
          ],
          "name": "stderr"
        },
        {
          "output_type": "stream",
          "text": [
            "[MoviePy] >>>> Building video /content/gdrive/My Drive/H8_M55_S48 PP213-1/Cleaned_msCam/msCam105.avi\n",
            "[MoviePy] Writing video /content/gdrive/My Drive/H8_M55_S48 PP213-1/Cleaned_msCam/msCam105.avi\n"
          ],
          "name": "stdout"
        },
        {
          "output_type": "stream",
          "text": [
            "100%|█████████▉| 1000/1001 [00:05<00:00, 181.17it/s]"
          ],
          "name": "stderr"
        },
        {
          "output_type": "stream",
          "text": [
            "[MoviePy] Done.\n",
            "[MoviePy] >>>> Video ready: /content/gdrive/My Drive/H8_M55_S48 PP213-1/Cleaned_msCam/msCam105.avi \n",
            "\n"
          ],
          "name": "stdout"
        },
        {
          "output_type": "stream",
          "text": [
            "\n"
          ],
          "name": "stderr"
        },
        {
          "output_type": "stream",
          "text": [
            "[MoviePy] >>>> Building video /content/gdrive/My Drive/H8_M55_S48 PP213-1/Cleaned_msCam/msCam106.avi\n",
            "[MoviePy] Writing video /content/gdrive/My Drive/H8_M55_S48 PP213-1/Cleaned_msCam/msCam106.avi\n"
          ],
          "name": "stdout"
        },
        {
          "output_type": "stream",
          "text": [
            "100%|█████████▉| 1000/1001 [00:05<00:00, 169.95it/s]\n"
          ],
          "name": "stderr"
        },
        {
          "output_type": "stream",
          "text": [
            "[MoviePy] Done.\n",
            "[MoviePy] >>>> Video ready: /content/gdrive/My Drive/H8_M55_S48 PP213-1/Cleaned_msCam/msCam106.avi \n",
            "\n",
            "[MoviePy] >>>> Building video /content/gdrive/My Drive/H8_M55_S48 PP213-1/Cleaned_msCam/msCam107.avi\n",
            "[MoviePy] Writing video /content/gdrive/My Drive/H8_M55_S48 PP213-1/Cleaned_msCam/msCam107.avi\n"
          ],
          "name": "stdout"
        },
        {
          "output_type": "stream",
          "text": [
            "100%|█████████▉| 1000/1001 [00:05<00:00, 167.55it/s]"
          ],
          "name": "stderr"
        },
        {
          "output_type": "stream",
          "text": [
            "[MoviePy] Done.\n",
            "[MoviePy] >>>> Video ready: /content/gdrive/My Drive/H8_M55_S48 PP213-1/Cleaned_msCam/msCam107.avi \n",
            "\n"
          ],
          "name": "stdout"
        },
        {
          "output_type": "stream",
          "text": [
            "\n"
          ],
          "name": "stderr"
        },
        {
          "output_type": "stream",
          "text": [
            "[MoviePy] >>>> Building video /content/gdrive/My Drive/H8_M55_S48 PP213-1/Cleaned_msCam/msCam108.avi\n",
            "[MoviePy] Writing video /content/gdrive/My Drive/H8_M55_S48 PP213-1/Cleaned_msCam/msCam108.avi\n"
          ],
          "name": "stdout"
        },
        {
          "output_type": "stream",
          "text": [
            "100%|█████████▉| 1000/1001 [00:05<00:00, 176.25it/s]"
          ],
          "name": "stderr"
        },
        {
          "output_type": "stream",
          "text": [
            "[MoviePy] Done.\n",
            "[MoviePy] >>>> Video ready: /content/gdrive/My Drive/H8_M55_S48 PP213-1/Cleaned_msCam/msCam108.avi \n",
            "\n"
          ],
          "name": "stdout"
        },
        {
          "output_type": "stream",
          "text": [
            "\n"
          ],
          "name": "stderr"
        },
        {
          "output_type": "stream",
          "text": [
            "[MoviePy] >>>> Building video /content/gdrive/My Drive/H8_M55_S48 PP213-1/Cleaned_msCam/msCam109.avi\n",
            "[MoviePy] Writing video /content/gdrive/My Drive/H8_M55_S48 PP213-1/Cleaned_msCam/msCam109.avi\n"
          ],
          "name": "stdout"
        },
        {
          "output_type": "stream",
          "text": [
            "100%|█████████▉| 1000/1001 [00:05<00:00, 176.88it/s]"
          ],
          "name": "stderr"
        },
        {
          "output_type": "stream",
          "text": [
            "[MoviePy] Done.\n",
            "[MoviePy] >>>> Video ready: /content/gdrive/My Drive/H8_M55_S48 PP213-1/Cleaned_msCam/msCam109.avi \n",
            "\n"
          ],
          "name": "stdout"
        },
        {
          "output_type": "stream",
          "text": [
            "\n"
          ],
          "name": "stderr"
        },
        {
          "output_type": "stream",
          "text": [
            "[MoviePy] >>>> Building video /content/gdrive/My Drive/H8_M55_S48 PP213-1/Cleaned_msCam/msCam110.avi\n",
            "[MoviePy] Writing video /content/gdrive/My Drive/H8_M55_S48 PP213-1/Cleaned_msCam/msCam110.avi\n"
          ],
          "name": "stdout"
        },
        {
          "output_type": "stream",
          "text": [
            "100%|█████████▉| 1000/1001 [00:05<00:00, 173.28it/s]"
          ],
          "name": "stderr"
        },
        {
          "output_type": "stream",
          "text": [
            "[MoviePy] Done.\n",
            "[MoviePy] >>>> Video ready: /content/gdrive/My Drive/H8_M55_S48 PP213-1/Cleaned_msCam/msCam110.avi \n",
            "\n"
          ],
          "name": "stdout"
        },
        {
          "output_type": "stream",
          "text": [
            "\n"
          ],
          "name": "stderr"
        },
        {
          "output_type": "stream",
          "text": [
            "[MoviePy] >>>> Building video /content/gdrive/My Drive/H8_M55_S48 PP213-1/Cleaned_msCam/msCam111.avi\n",
            "[MoviePy] Writing video /content/gdrive/My Drive/H8_M55_S48 PP213-1/Cleaned_msCam/msCam111.avi\n"
          ],
          "name": "stdout"
        },
        {
          "output_type": "stream",
          "text": [
            "100%|█████████▉| 1000/1001 [00:05<00:00, 180.59it/s]"
          ],
          "name": "stderr"
        },
        {
          "output_type": "stream",
          "text": [
            "[MoviePy] Done.\n",
            "[MoviePy] >>>> Video ready: /content/gdrive/My Drive/H8_M55_S48 PP213-1/Cleaned_msCam/msCam111.avi \n",
            "\n"
          ],
          "name": "stdout"
        },
        {
          "output_type": "stream",
          "text": [
            "\n"
          ],
          "name": "stderr"
        },
        {
          "output_type": "stream",
          "text": [
            "[MoviePy] >>>> Building video /content/gdrive/My Drive/H8_M55_S48 PP213-1/Cleaned_msCam/msCam112.avi\n",
            "[MoviePy] Writing video /content/gdrive/My Drive/H8_M55_S48 PP213-1/Cleaned_msCam/msCam112.avi\n"
          ],
          "name": "stdout"
        },
        {
          "output_type": "stream",
          "text": [
            "100%|█████████▉| 1000/1001 [00:05<00:00, 182.32it/s]"
          ],
          "name": "stderr"
        },
        {
          "output_type": "stream",
          "text": [
            "[MoviePy] Done.\n",
            "[MoviePy] >>>> Video ready: /content/gdrive/My Drive/H8_M55_S48 PP213-1/Cleaned_msCam/msCam112.avi \n",
            "\n"
          ],
          "name": "stdout"
        },
        {
          "output_type": "stream",
          "text": [
            "\n"
          ],
          "name": "stderr"
        },
        {
          "output_type": "stream",
          "text": [
            "[MoviePy] >>>> Building video /content/gdrive/My Drive/H8_M55_S48 PP213-1/Cleaned_msCam/msCam113.avi\n",
            "[MoviePy] Writing video /content/gdrive/My Drive/H8_M55_S48 PP213-1/Cleaned_msCam/msCam113.avi\n"
          ],
          "name": "stdout"
        },
        {
          "output_type": "stream",
          "text": [
            "100%|█████████▉| 1000/1001 [00:05<00:00, 174.54it/s]"
          ],
          "name": "stderr"
        },
        {
          "output_type": "stream",
          "text": [
            "[MoviePy] Done.\n",
            "[MoviePy] >>>> Video ready: /content/gdrive/My Drive/H8_M55_S48 PP213-1/Cleaned_msCam/msCam113.avi \n",
            "\n"
          ],
          "name": "stdout"
        },
        {
          "output_type": "stream",
          "text": [
            "\n"
          ],
          "name": "stderr"
        },
        {
          "output_type": "stream",
          "text": [
            "[MoviePy] >>>> Building video /content/gdrive/My Drive/H8_M55_S48 PP213-1/Cleaned_msCam/msCam114.avi\n",
            "[MoviePy] Writing video /content/gdrive/My Drive/H8_M55_S48 PP213-1/Cleaned_msCam/msCam114.avi\n"
          ],
          "name": "stdout"
        },
        {
          "output_type": "stream",
          "text": [
            "100%|█████████▉| 1000/1001 [00:05<00:00, 177.85it/s]"
          ],
          "name": "stderr"
        },
        {
          "output_type": "stream",
          "text": [
            "[MoviePy] Done.\n",
            "[MoviePy] >>>> Video ready: /content/gdrive/My Drive/H8_M55_S48 PP213-1/Cleaned_msCam/msCam114.avi \n",
            "\n"
          ],
          "name": "stdout"
        },
        {
          "output_type": "stream",
          "text": [
            "\n"
          ],
          "name": "stderr"
        },
        {
          "output_type": "stream",
          "text": [
            "[MoviePy] >>>> Building video /content/gdrive/My Drive/H8_M55_S48 PP213-1/Cleaned_msCam/msCam115.avi\n",
            "[MoviePy] Writing video /content/gdrive/My Drive/H8_M55_S48 PP213-1/Cleaned_msCam/msCam115.avi\n"
          ],
          "name": "stdout"
        },
        {
          "output_type": "stream",
          "text": [
            "100%|█████████▉| 1000/1001 [00:05<00:00, 177.58it/s]"
          ],
          "name": "stderr"
        },
        {
          "output_type": "stream",
          "text": [
            "[MoviePy] Done.\n",
            "[MoviePy] >>>> Video ready: /content/gdrive/My Drive/H8_M55_S48 PP213-1/Cleaned_msCam/msCam115.avi \n",
            "\n"
          ],
          "name": "stdout"
        },
        {
          "output_type": "stream",
          "text": [
            "\n"
          ],
          "name": "stderr"
        },
        {
          "output_type": "stream",
          "text": [
            "[MoviePy] >>>> Building video /content/gdrive/My Drive/H8_M55_S48 PP213-1/Cleaned_msCam/msCam116.avi\n",
            "[MoviePy] Writing video /content/gdrive/My Drive/H8_M55_S48 PP213-1/Cleaned_msCam/msCam116.avi\n"
          ],
          "name": "stdout"
        },
        {
          "output_type": "stream",
          "text": [
            "100%|█████████▉| 1000/1001 [00:05<00:00, 181.92it/s]"
          ],
          "name": "stderr"
        },
        {
          "output_type": "stream",
          "text": [
            "[MoviePy] Done.\n",
            "[MoviePy] >>>> Video ready: /content/gdrive/My Drive/H8_M55_S48 PP213-1/Cleaned_msCam/msCam116.avi \n",
            "\n"
          ],
          "name": "stdout"
        },
        {
          "output_type": "stream",
          "text": [
            "\n"
          ],
          "name": "stderr"
        },
        {
          "output_type": "stream",
          "text": [
            "[MoviePy] >>>> Building video /content/gdrive/My Drive/H8_M55_S48 PP213-1/Cleaned_msCam/msCam117.avi\n",
            "[MoviePy] Writing video /content/gdrive/My Drive/H8_M55_S48 PP213-1/Cleaned_msCam/msCam117.avi\n"
          ],
          "name": "stdout"
        },
        {
          "output_type": "stream",
          "text": [
            "100%|█████████▉| 1000/1001 [00:05<00:00, 170.23it/s]"
          ],
          "name": "stderr"
        },
        {
          "output_type": "stream",
          "text": [
            "[MoviePy] Done.\n",
            "[MoviePy] >>>> Video ready: /content/gdrive/My Drive/H8_M55_S48 PP213-1/Cleaned_msCam/msCam117.avi \n",
            "\n"
          ],
          "name": "stdout"
        },
        {
          "output_type": "stream",
          "text": [
            "\n"
          ],
          "name": "stderr"
        },
        {
          "output_type": "stream",
          "text": [
            "[MoviePy] >>>> Building video /content/gdrive/My Drive/H8_M55_S48 PP213-1/Cleaned_msCam/msCam118.avi\n",
            "[MoviePy] Writing video /content/gdrive/My Drive/H8_M55_S48 PP213-1/Cleaned_msCam/msCam118.avi\n"
          ],
          "name": "stdout"
        },
        {
          "output_type": "stream",
          "text": [
            "100%|█████████▉| 1000/1001 [00:13<00:00, 74.95it/s]"
          ],
          "name": "stderr"
        },
        {
          "output_type": "stream",
          "text": [
            "[MoviePy] Done.\n",
            "[MoviePy] >>>> Video ready: /content/gdrive/My Drive/H8_M55_S48 PP213-1/Cleaned_msCam/msCam118.avi \n",
            "\n"
          ],
          "name": "stdout"
        },
        {
          "output_type": "stream",
          "text": [
            "\n"
          ],
          "name": "stderr"
        },
        {
          "output_type": "stream",
          "text": [
            "[MoviePy] >>>> Building video /content/gdrive/My Drive/H8_M55_S48 PP213-1/Cleaned_msCam/msCam119.avi\n",
            "[MoviePy] Writing video /content/gdrive/My Drive/H8_M55_S48 PP213-1/Cleaned_msCam/msCam119.avi\n"
          ],
          "name": "stdout"
        },
        {
          "output_type": "stream",
          "text": [
            "100%|█████████▉| 1000/1001 [00:05<00:00, 175.51it/s]"
          ],
          "name": "stderr"
        },
        {
          "output_type": "stream",
          "text": [
            "[MoviePy] Done.\n",
            "[MoviePy] >>>> Video ready: /content/gdrive/My Drive/H8_M55_S48 PP213-1/Cleaned_msCam/msCam119.avi \n",
            "\n"
          ],
          "name": "stdout"
        },
        {
          "output_type": "stream",
          "text": [
            "\n"
          ],
          "name": "stderr"
        },
        {
          "output_type": "stream",
          "text": [
            "[MoviePy] >>>> Building video /content/gdrive/My Drive/H8_M55_S48 PP213-1/Cleaned_msCam/msCam120.avi\n",
            "[MoviePy] Writing video /content/gdrive/My Drive/H8_M55_S48 PP213-1/Cleaned_msCam/msCam120.avi\n"
          ],
          "name": "stdout"
        },
        {
          "output_type": "stream",
          "text": [
            "100%|█████████▉| 1000/1001 [00:05<00:00, 178.57it/s]"
          ],
          "name": "stderr"
        },
        {
          "output_type": "stream",
          "text": [
            "[MoviePy] Done.\n",
            "[MoviePy] >>>> Video ready: /content/gdrive/My Drive/H8_M55_S48 PP213-1/Cleaned_msCam/msCam120.avi \n",
            "\n"
          ],
          "name": "stdout"
        },
        {
          "output_type": "stream",
          "text": [
            "\n"
          ],
          "name": "stderr"
        },
        {
          "output_type": "stream",
          "text": [
            "[MoviePy] >>>> Building video /content/gdrive/My Drive/H8_M55_S48 PP213-1/Cleaned_msCam/msCam121.avi\n",
            "[MoviePy] Writing video /content/gdrive/My Drive/H8_M55_S48 PP213-1/Cleaned_msCam/msCam121.avi\n"
          ],
          "name": "stdout"
        },
        {
          "output_type": "stream",
          "text": [
            "100%|█████████▉| 1000/1001 [00:07<00:00, 128.77it/s]\n"
          ],
          "name": "stderr"
        },
        {
          "output_type": "stream",
          "text": [
            "[MoviePy] Done.\n",
            "[MoviePy] >>>> Video ready: /content/gdrive/My Drive/H8_M55_S48 PP213-1/Cleaned_msCam/msCam121.avi \n",
            "\n",
            "[MoviePy] >>>> Building video /content/gdrive/My Drive/H8_M55_S48 PP213-1/Cleaned_msCam/msCam122.avi\n",
            "[MoviePy] Writing video /content/gdrive/My Drive/H8_M55_S48 PP213-1/Cleaned_msCam/msCam122.avi\n"
          ],
          "name": "stdout"
        },
        {
          "output_type": "stream",
          "text": [
            "100%|█████████▉| 1000/1001 [00:09<00:00, 111.00it/s]\n"
          ],
          "name": "stderr"
        },
        {
          "output_type": "stream",
          "text": [
            "[MoviePy] Done.\n",
            "[MoviePy] >>>> Video ready: /content/gdrive/My Drive/H8_M55_S48 PP213-1/Cleaned_msCam/msCam122.avi \n",
            "\n",
            "[MoviePy] >>>> Building video /content/gdrive/My Drive/H8_M55_S48 PP213-1/Cleaned_msCam/msCam123.avi\n",
            "[MoviePy] Writing video /content/gdrive/My Drive/H8_M55_S48 PP213-1/Cleaned_msCam/msCam123.avi\n"
          ],
          "name": "stdout"
        },
        {
          "output_type": "stream",
          "text": [
            "100%|█████████▉| 1000/1001 [00:18<00:00, 54.12it/s]"
          ],
          "name": "stderr"
        },
        {
          "output_type": "stream",
          "text": [
            "[MoviePy] Done.\n",
            "[MoviePy] >>>> Video ready: /content/gdrive/My Drive/H8_M55_S48 PP213-1/Cleaned_msCam/msCam123.avi \n",
            "\n"
          ],
          "name": "stdout"
        },
        {
          "output_type": "stream",
          "text": [
            "\n"
          ],
          "name": "stderr"
        },
        {
          "output_type": "stream",
          "text": [
            "[MoviePy] >>>> Building video /content/gdrive/My Drive/H8_M55_S48 PP213-1/Cleaned_msCam/msCam124.avi\n",
            "[MoviePy] Writing video /content/gdrive/My Drive/H8_M55_S48 PP213-1/Cleaned_msCam/msCam124.avi\n"
          ],
          "name": "stdout"
        },
        {
          "output_type": "stream",
          "text": [
            "100%|█████████▉| 1000/1001 [00:21<00:00, 47.56it/s]"
          ],
          "name": "stderr"
        },
        {
          "output_type": "stream",
          "text": [
            "[MoviePy] Done.\n",
            "[MoviePy] >>>> Video ready: /content/gdrive/My Drive/H8_M55_S48 PP213-1/Cleaned_msCam/msCam124.avi \n",
            "\n"
          ],
          "name": "stdout"
        },
        {
          "output_type": "stream",
          "text": [
            "\n"
          ],
          "name": "stderr"
        },
        {
          "output_type": "stream",
          "text": [
            "[MoviePy] >>>> Building video /content/gdrive/My Drive/H8_M55_S48 PP213-1/Cleaned_msCam/msCam125.avi\n",
            "[MoviePy] Writing video /content/gdrive/My Drive/H8_M55_S48 PP213-1/Cleaned_msCam/msCam125.avi\n"
          ],
          "name": "stdout"
        },
        {
          "output_type": "stream",
          "text": [
            "100%|█████████▉| 1000/1001 [00:19<00:00, 50.61it/s]"
          ],
          "name": "stderr"
        },
        {
          "output_type": "stream",
          "text": [
            "[MoviePy] Done.\n",
            "[MoviePy] >>>> Video ready: /content/gdrive/My Drive/H8_M55_S48 PP213-1/Cleaned_msCam/msCam125.avi \n",
            "\n"
          ],
          "name": "stdout"
        },
        {
          "output_type": "stream",
          "text": [
            "\n"
          ],
          "name": "stderr"
        },
        {
          "output_type": "error",
          "ename": "OSError",
          "evalue": "ignored",
          "traceback": [
            "\u001b[0;31m---------------------------------------------------------------------------\u001b[0m",
            "\u001b[0;31mIndexError\u001b[0m                                Traceback (most recent call last)",
            "\u001b[0;32m/usr/local/lib/python3.6/dist-packages/moviepy/video/io/ffmpeg_reader.py\u001b[0m in \u001b[0;36mffmpeg_parse_infos\u001b[0;34m(filename, print_infos, check_duration, fps_source)\u001b[0m\n\u001b[1;32m    284\u001b[0m             \u001b[0mindex\u001b[0m \u001b[0;34m=\u001b[0m \u001b[0;34m-\u001b[0m\u001b[0;36m1\u001b[0m \u001b[0;32mif\u001b[0m \u001b[0mis_GIF\u001b[0m \u001b[0;32melse\u001b[0m \u001b[0;36m0\u001b[0m\u001b[0;34m\u001b[0m\u001b[0;34m\u001b[0m\u001b[0m\n\u001b[0;32m--> 285\u001b[0;31m             \u001b[0mline\u001b[0m \u001b[0;34m=\u001b[0m \u001b[0;34m[\u001b[0m\u001b[0ml\u001b[0m \u001b[0;32mfor\u001b[0m \u001b[0ml\u001b[0m \u001b[0;32min\u001b[0m \u001b[0mlines\u001b[0m \u001b[0;32mif\u001b[0m \u001b[0mkeyword\u001b[0m \u001b[0;32min\u001b[0m \u001b[0ml\u001b[0m\u001b[0;34m]\u001b[0m\u001b[0;34m[\u001b[0m\u001b[0mindex\u001b[0m\u001b[0;34m]\u001b[0m\u001b[0;34m\u001b[0m\u001b[0;34m\u001b[0m\u001b[0m\n\u001b[0m\u001b[1;32m    286\u001b[0m             \u001b[0mmatch\u001b[0m \u001b[0;34m=\u001b[0m \u001b[0mre\u001b[0m\u001b[0;34m.\u001b[0m\u001b[0mfindall\u001b[0m\u001b[0;34m(\u001b[0m\u001b[0;34m\"([0-9][0-9]:[0-9][0-9]:[0-9][0-9].[0-9][0-9])\"\u001b[0m\u001b[0;34m,\u001b[0m \u001b[0mline\u001b[0m\u001b[0;34m)\u001b[0m\u001b[0;34m[\u001b[0m\u001b[0;36m0\u001b[0m\u001b[0;34m]\u001b[0m\u001b[0;34m\u001b[0m\u001b[0;34m\u001b[0m\u001b[0m\n",
            "\u001b[0;31mIndexError\u001b[0m: list index out of range",
            "\nDuring handling of the above exception, another exception occurred:\n",
            "\u001b[0;31mOSError\u001b[0m                                   Traceback (most recent call last)",
            "\u001b[0;32m<ipython-input-18-a1d652bd783c>\u001b[0m in \u001b[0;36m<module>\u001b[0;34m()\u001b[0m\n\u001b[1;32m      1\u001b[0m \u001b[0;32mfor\u001b[0m \u001b[0mvideo\u001b[0m \u001b[0;32min\u001b[0m \u001b[0mmsFileList\u001b[0m\u001b[0;34m:\u001b[0m\u001b[0;34m\u001b[0m\u001b[0;34m\u001b[0m\u001b[0m\n\u001b[0;32m----> 2\u001b[0;31m   \u001b[0mclip\u001b[0m \u001b[0;34m=\u001b[0m \u001b[0mVideoFileClip\u001b[0m\u001b[0;34m(\u001b[0m\u001b[0mvideo\u001b[0m\u001b[0;34m)\u001b[0m\u001b[0;34m\u001b[0m\u001b[0;34m\u001b[0m\u001b[0m\n\u001b[0m\u001b[1;32m      3\u001b[0m   \u001b[0mresized_clip\u001b[0m \u001b[0;34m=\u001b[0m \u001b[0mclip\u001b[0m\u001b[0;34m.\u001b[0m\u001b[0mresize\u001b[0m\u001b[0;34m(\u001b[0m\u001b[0;36m1\u001b[0m\u001b[0;34m/\u001b[0m\u001b[0mspatial_downsampling\u001b[0m\u001b[0;34m)\u001b[0m\u001b[0;34m\u001b[0m\u001b[0;34m\u001b[0m\u001b[0m\n\u001b[1;32m      4\u001b[0m   \u001b[0mos\u001b[0m\u001b[0;34m.\u001b[0m\u001b[0mremove\u001b[0m\u001b[0;34m(\u001b[0m\u001b[0mvideo\u001b[0m\u001b[0;34m)\u001b[0m\u001b[0;34m\u001b[0m\u001b[0;34m\u001b[0m\u001b[0m\n\u001b[1;32m      5\u001b[0m   \u001b[0mresized_clip\u001b[0m\u001b[0;34m.\u001b[0m\u001b[0mwrite_videofile\u001b[0m\u001b[0;34m(\u001b[0m\u001b[0mvideo\u001b[0m\u001b[0;34m,\u001b[0m\u001b[0mcodec\u001b[0m\u001b[0;34m=\u001b[0m\u001b[0;34m'rawvideo'\u001b[0m\u001b[0;34m)\u001b[0m\u001b[0;34m\u001b[0m\u001b[0;34m\u001b[0m\u001b[0m\n",
            "\u001b[0;32m/usr/local/lib/python3.6/dist-packages/moviepy/video/io/VideoFileClip.py\u001b[0m in \u001b[0;36m__init__\u001b[0;34m(self, filename, has_mask, audio, audio_buffersize, target_resolution, resize_algorithm, audio_fps, audio_nbytes, verbose, fps_source)\u001b[0m\n\u001b[1;32m     89\u001b[0m                                          \u001b[0mtarget_resolution\u001b[0m\u001b[0;34m=\u001b[0m\u001b[0mtarget_resolution\u001b[0m\u001b[0;34m,\u001b[0m\u001b[0;34m\u001b[0m\u001b[0;34m\u001b[0m\u001b[0m\n\u001b[1;32m     90\u001b[0m                                          \u001b[0mresize_algo\u001b[0m\u001b[0;34m=\u001b[0m\u001b[0mresize_algorithm\u001b[0m\u001b[0;34m,\u001b[0m\u001b[0;34m\u001b[0m\u001b[0;34m\u001b[0m\u001b[0m\n\u001b[0;32m---> 91\u001b[0;31m                                          fps_source=fps_source)\n\u001b[0m\u001b[1;32m     92\u001b[0m \u001b[0;34m\u001b[0m\u001b[0m\n\u001b[1;32m     93\u001b[0m         \u001b[0;31m# Make some of the reader's attributes accessible from the clip\u001b[0m\u001b[0;34m\u001b[0m\u001b[0;34m\u001b[0m\u001b[0;34m\u001b[0m\u001b[0m\n",
            "\u001b[0;32m/usr/local/lib/python3.6/dist-packages/moviepy/video/io/ffmpeg_reader.py\u001b[0m in \u001b[0;36m__init__\u001b[0;34m(self, filename, print_infos, bufsize, pix_fmt, check_duration, target_resolution, resize_algo, fps_source)\u001b[0m\n\u001b[1;32m     31\u001b[0m         \u001b[0mself\u001b[0m\u001b[0;34m.\u001b[0m\u001b[0mproc\u001b[0m \u001b[0;34m=\u001b[0m \u001b[0;32mNone\u001b[0m\u001b[0;34m\u001b[0m\u001b[0;34m\u001b[0m\u001b[0m\n\u001b[1;32m     32\u001b[0m         infos = ffmpeg_parse_infos(filename, print_infos, check_duration,\n\u001b[0;32m---> 33\u001b[0;31m                                    fps_source)\n\u001b[0m\u001b[1;32m     34\u001b[0m         \u001b[0mself\u001b[0m\u001b[0;34m.\u001b[0m\u001b[0mfps\u001b[0m \u001b[0;34m=\u001b[0m \u001b[0minfos\u001b[0m\u001b[0;34m[\u001b[0m\u001b[0;34m'video_fps'\u001b[0m\u001b[0;34m]\u001b[0m\u001b[0;34m\u001b[0m\u001b[0;34m\u001b[0m\u001b[0m\n\u001b[1;32m     35\u001b[0m         \u001b[0mself\u001b[0m\u001b[0;34m.\u001b[0m\u001b[0msize\u001b[0m \u001b[0;34m=\u001b[0m \u001b[0minfos\u001b[0m\u001b[0;34m[\u001b[0m\u001b[0;34m'video_size'\u001b[0m\u001b[0;34m]\u001b[0m\u001b[0;34m\u001b[0m\u001b[0;34m\u001b[0m\u001b[0m\n",
            "\u001b[0;32m/usr/local/lib/python3.6/dist-packages/moviepy/video/io/ffmpeg_reader.py\u001b[0m in \u001b[0;36mffmpeg_parse_infos\u001b[0;34m(filename, print_infos, check_duration, fps_source)\u001b[0m\n\u001b[1;32m    289\u001b[0m             raise IOError((\"MoviePy error: failed to read the duration of file %s.\\n\"\n\u001b[1;32m    290\u001b[0m                            \u001b[0;34m\"Here are the file infos returned by ffmpeg:\\n\\n%s\"\u001b[0m\u001b[0;34m)\u001b[0m\u001b[0;34m%\u001b[0m\u001b[0;34m(\u001b[0m\u001b[0;34m\u001b[0m\u001b[0;34m\u001b[0m\u001b[0m\n\u001b[0;32m--> 291\u001b[0;31m                               filename, infos))\n\u001b[0m\u001b[1;32m    292\u001b[0m \u001b[0;34m\u001b[0m\u001b[0m\n\u001b[1;32m    293\u001b[0m     \u001b[0;31m# get the output line that speaks about video\u001b[0m\u001b[0;34m\u001b[0m\u001b[0;34m\u001b[0m\u001b[0;34m\u001b[0m\u001b[0m\n",
            "\u001b[0;31mOSError\u001b[0m: MoviePy error: failed to read the duration of file /content/gdrive/My Drive/H8_M55_S48 PP213-1/Cleaned_msCam/msCam126.avi.\nHere are the file infos returned by ffmpeg:\n\nffmpeg version N-86111-ga441aa90e8-static http://johnvansickle.com/ffmpeg/  Copyright (c) 2000-2017 the FFmpeg developers\n  built with gcc 5.4.1 (Debian 5.4.1-8) 20170304\n  configuration: --enable-gpl --enable-version3 --enable-static --disable-debug --disable-ffplay --disable-indev=sndio --disable-outdev=sndio --cc=gcc-5 --enable-fontconfig --enable-frei0r --enable-gnutls --enable-gray --enable-libass --enable-libfreetype --enable-libfribidi --enable-libmp3lame --enable-libopencore-amrnb --enable-libopencore-amrwb --enable-libopenjpeg --enable-libopus --enable-librtmp --enable-libsoxr --enable-libspeex --enable-libtheora --enable-libvidstab --enable-libvo-amrwbenc --enable-libvorbis --enable-libvpx --enable-libwebp --enable-libx264 --enable-libx265 --enable-libxvid --enable-libzimg\n  libavutil      55. 63.100 / 55. 63.100\n  libavcodec     57. 96.101 / 57. 96.101\n  libavformat    57. 72.101 / 57. 72.101\n  libavdevice    57.  7.100 / 57.  7.100\n  libavfilter     6. 89.101 /  6. 89.101\n  libswscale      4.  7.101 /  4.  7.101\n  libswresample   2.  8.100 /  2.  8.100\n  libpostproc    54.  6.100 / 54.  6.100\n[avi @ 0x56b8da0] Format avi detected only with low score of 1, misdetection possible!\n/content/gdrive/My Drive/H8_M55_S48 PP213-1/Cleaned_msCam/msCam126.avi: Invalid data found when processing input\n"
          ]
        }
      ]
    },
    {
      "cell_type": "code",
      "metadata": {
        "id": "LRCDAbTNSku2",
        "colab": {
          "base_uri": "https://localhost:8080/",
          "height": 469
        },
        "outputId": "2801aec1-382b-442f-b4e0-1b12f957b06b"
      },
      "source": [
        "# Make sure the video has been resized\n",
        "clip = VideoFileClip(msFileList[0])\n",
        "clip.save_frame(dirExperimentName + '/' + 'downsampled_frame.png')\n",
        "\n",
        "img=mpl.image.imread(dirExperimentName + '/' + 'downsampled_frame.png')\n",
        "imgplot = plt.imshow(img); plt.title('Downsampled size')"
      ],
      "execution_count": null,
      "outputs": [
        {
          "output_type": "execute_result",
          "data": {
            "text/plain": [
              "Text(0.5, 1.0, 'Downsampled size')"
            ]
          },
          "metadata": {
            "tags": []
          },
          "execution_count": 26
        },
        {
          "output_type": "display_data",
          "data": {
            "image/png": "[encoded data removed]",
            "text/plain": [
              "<Figure size 640x480 with 1 Axes>"
            ]
          },
          "metadata": {
            "tags": []
          }
        }
      ]
    },
    {
      "cell_type": "code",
      "metadata": {
        "id": "SPmsD9IMSlW1",
        "colab": {
          "base_uri": "https://localhost:8080/",
          "height": 54
        },
        "outputId": "00857025-e69c-47c8-ebcb-fc09aabc84f7"
      },
      "source": [
        "fnames = msFileList\n",
        "print(fnames)"
      ],
      "execution_count": null,
      "outputs": [
        {
          "output_type": "stream",
          "text": [
            "['/content/gdrive/My Drive/H8_M55_S48 PP213-1/Cleaned_msCam/msCam1.avi', '/content/gdrive/My Drive/H8_M55_S48 PP213-1/Cleaned_msCam/msCam2.avi', '/content/gdrive/My Drive/H8_M55_S48 PP213-1/Cleaned_msCam/msCam3.avi', '/content/gdrive/My Drive/H8_M55_S48 PP213-1/Cleaned_msCam/msCam4.avi', '/content/gdrive/My Drive/H8_M55_S48 PP213-1/Cleaned_msCam/msCam5.avi', '/content/gdrive/My Drive/H8_M55_S48 PP213-1/Cleaned_msCam/msCam6.avi', '/content/gdrive/My Drive/H8_M55_S48 PP213-1/Cleaned_msCam/msCam7.avi', '/content/gdrive/My Drive/H8_M55_S48 PP213-1/Cleaned_msCam/msCam8.avi', '/content/gdrive/My Drive/H8_M55_S48 PP213-1/Cleaned_msCam/msCam9.avi', '/content/gdrive/My Drive/H8_M55_S48 PP213-1/Cleaned_msCam/msCam10.avi', '/content/gdrive/My Drive/H8_M55_S48 PP213-1/Cleaned_msCam/msCam11.avi', '/content/gdrive/My Drive/H8_M55_S48 PP213-1/Cleaned_msCam/msCam12.avi', '/content/gdrive/My Drive/H8_M55_S48 PP213-1/Cleaned_msCam/msCam13.avi', '/content/gdrive/My Drive/H8_M55_S48 PP213-1/Cleaned_msCam/msCam14.avi', '/content/gdrive/My Drive/H8_M55_S48 PP213-1/Cleaned_msCam/msCam15.avi', '/content/gdrive/My Drive/H8_M55_S48 PP213-1/Cleaned_msCam/msCam16.avi', '/content/gdrive/My Drive/H8_M55_S48 PP213-1/Cleaned_msCam/msCam17.avi', '/content/gdrive/My Drive/H8_M55_S48 PP213-1/Cleaned_msCam/msCam18.avi', '/content/gdrive/My Drive/H8_M55_S48 PP213-1/Cleaned_msCam/msCam19.avi', '/content/gdrive/My Drive/H8_M55_S48 PP213-1/Cleaned_msCam/msCam20.avi', '/content/gdrive/My Drive/H8_M55_S48 PP213-1/Cleaned_msCam/msCam21.avi', '/content/gdrive/My Drive/H8_M55_S48 PP213-1/Cleaned_msCam/msCam22.avi', '/content/gdrive/My Drive/H8_M55_S48 PP213-1/Cleaned_msCam/msCam23.avi', '/content/gdrive/My Drive/H8_M55_S48 PP213-1/Cleaned_msCam/msCam24.avi', '/content/gdrive/My Drive/H8_M55_S48 PP213-1/Cleaned_msCam/msCam25.avi', '/content/gdrive/My Drive/H8_M55_S48 PP213-1/Cleaned_msCam/msCam26.avi', '/content/gdrive/My Drive/H8_M55_S48 PP213-1/Cleaned_msCam/msCam27.avi', '/content/gdrive/My Drive/H8_M55_S48 PP213-1/Cleaned_msCam/msCam28.avi', '/content/gdrive/My Drive/H8_M55_S48 PP213-1/Cleaned_msCam/msCam29.avi', '/content/gdrive/My Drive/H8_M55_S48 PP213-1/Cleaned_msCam/msCam30.avi', '/content/gdrive/My Drive/H8_M55_S48 PP213-1/Cleaned_msCam/msCam31.avi', '/content/gdrive/My Drive/H8_M55_S48 PP213-1/Cleaned_msCam/msCam32.avi', '/content/gdrive/My Drive/H8_M55_S48 PP213-1/Cleaned_msCam/msCam33.avi', '/content/gdrive/My Drive/H8_M55_S48 PP213-1/Cleaned_msCam/msCam34.avi', '/content/gdrive/My Drive/H8_M55_S48 PP213-1/Cleaned_msCam/msCam35.avi', '/content/gdrive/My Drive/H8_M55_S48 PP213-1/Cleaned_msCam/msCam36.avi', '/content/gdrive/My Drive/H8_M55_S48 PP213-1/Cleaned_msCam/msCam37.avi', '/content/gdrive/My Drive/H8_M55_S48 PP213-1/Cleaned_msCam/msCam38.avi', '/content/gdrive/My Drive/H8_M55_S48 PP213-1/Cleaned_msCam/msCam39.avi', '/content/gdrive/My Drive/H8_M55_S48 PP213-1/Cleaned_msCam/msCam40.avi', '/content/gdrive/My Drive/H8_M55_S48 PP213-1/Cleaned_msCam/msCam41.avi', '/content/gdrive/My Drive/H8_M55_S48 PP213-1/Cleaned_msCam/msCam42.avi', '/content/gdrive/My Drive/H8_M55_S48 PP213-1/Cleaned_msCam/msCam43.avi', '/content/gdrive/My Drive/H8_M55_S48 PP213-1/Cleaned_msCam/msCam44.avi', '/content/gdrive/My Drive/H8_M55_S48 PP213-1/Cleaned_msCam/msCam45.avi', '/content/gdrive/My Drive/H8_M55_S48 PP213-1/Cleaned_msCam/msCam46.avi', '/content/gdrive/My Drive/H8_M55_S48 PP213-1/Cleaned_msCam/msCam47.avi', '/content/gdrive/My Drive/H8_M55_S48 PP213-1/Cleaned_msCam/msCam48.avi', '/content/gdrive/My Drive/H8_M55_S48 PP213-1/Cleaned_msCam/msCam49.avi', '/content/gdrive/My Drive/H8_M55_S48 PP213-1/Cleaned_msCam/msCam50.avi', '/content/gdrive/My Drive/H8_M55_S48 PP213-1/Cleaned_msCam/msCam51.avi', '/content/gdrive/My Drive/H8_M55_S48 PP213-1/Cleaned_msCam/msCam52.avi', '/content/gdrive/My Drive/H8_M55_S48 PP213-1/Cleaned_msCam/msCam53.avi', '/content/gdrive/My Drive/H8_M55_S48 PP213-1/Cleaned_msCam/msCam54.avi', '/content/gdrive/My Drive/H8_M55_S48 PP213-1/Cleaned_msCam/msCam55.avi', '/content/gdrive/My Drive/H8_M55_S48 PP213-1/Cleaned_msCam/msCam56.avi', '/content/gdrive/My Drive/H8_M55_S48 PP213-1/Cleaned_msCam/msCam57.avi', '/content/gdrive/My Drive/H8_M55_S48 PP213-1/Cleaned_msCam/msCam58.avi', '/content/gdrive/My Drive/H8_M55_S48 PP213-1/Cleaned_msCam/msCam59.avi', '/content/gdrive/My Drive/H8_M55_S48 PP213-1/Cleaned_msCam/msCam60.avi', '/content/gdrive/My Drive/H8_M55_S48 PP213-1/Cleaned_msCam/msCam61.avi', '/content/gdrive/My Drive/H8_M55_S48 PP213-1/Cleaned_msCam/msCam62.avi', '/content/gdrive/My Drive/H8_M55_S48 PP213-1/Cleaned_msCam/msCam63.avi', '/content/gdrive/My Drive/H8_M55_S48 PP213-1/Cleaned_msCam/msCam64.avi', '/content/gdrive/My Drive/H8_M55_S48 PP213-1/Cleaned_msCam/msCam65.avi', '/content/gdrive/My Drive/H8_M55_S48 PP213-1/Cleaned_msCam/msCam66.avi', '/content/gdrive/My Drive/H8_M55_S48 PP213-1/Cleaned_msCam/msCam67.avi', '/content/gdrive/My Drive/H8_M55_S48 PP213-1/Cleaned_msCam/msCam68.avi', '/content/gdrive/My Drive/H8_M55_S48 PP213-1/Cleaned_msCam/msCam69.avi', '/content/gdrive/My Drive/H8_M55_S48 PP213-1/Cleaned_msCam/msCam70.avi', '/content/gdrive/My Drive/H8_M55_S48 PP213-1/Cleaned_msCam/msCam71.avi', '/content/gdrive/My Drive/H8_M55_S48 PP213-1/Cleaned_msCam/msCam72.avi', '/content/gdrive/My Drive/H8_M55_S48 PP213-1/Cleaned_msCam/msCam73.avi', '/content/gdrive/My Drive/H8_M55_S48 PP213-1/Cleaned_msCam/msCam74.avi', '/content/gdrive/My Drive/H8_M55_S48 PP213-1/Cleaned_msCam/msCam75.avi', '/content/gdrive/My Drive/H8_M55_S48 PP213-1/Cleaned_msCam/msCam76.avi', '/content/gdrive/My Drive/H8_M55_S48 PP213-1/Cleaned_msCam/msCam77.avi', '/content/gdrive/My Drive/H8_M55_S48 PP213-1/Cleaned_msCam/msCam78.avi', '/content/gdrive/My Drive/H8_M55_S48 PP213-1/Cleaned_msCam/msCam79.avi', '/content/gdrive/My Drive/H8_M55_S48 PP213-1/Cleaned_msCam/msCam80.avi', '/content/gdrive/My Drive/H8_M55_S48 PP213-1/Cleaned_msCam/msCam81.avi', '/content/gdrive/My Drive/H8_M55_S48 PP213-1/Cleaned_msCam/msCam82.avi', '/content/gdrive/My Drive/H8_M55_S48 PP213-1/Cleaned_msCam/msCam83.avi', '/content/gdrive/My Drive/H8_M55_S48 PP213-1/Cleaned_msCam/msCam84.avi', '/content/gdrive/My Drive/H8_M55_S48 PP213-1/Cleaned_msCam/msCam85.avi', '/content/gdrive/My Drive/H8_M55_S48 PP213-1/Cleaned_msCam/msCam86.avi', '/content/gdrive/My Drive/H8_M55_S48 PP213-1/Cleaned_msCam/msCam87.avi', '/content/gdrive/My Drive/H8_M55_S48 PP213-1/Cleaned_msCam/msCam88.avi', '/content/gdrive/My Drive/H8_M55_S48 PP213-1/Cleaned_msCam/msCam89.avi', '/content/gdrive/My Drive/H8_M55_S48 PP213-1/Cleaned_msCam/msCam90.avi', '/content/gdrive/My Drive/H8_M55_S48 PP213-1/Cleaned_msCam/msCam91.avi', '/content/gdrive/My Drive/H8_M55_S48 PP213-1/Cleaned_msCam/msCam92.avi', '/content/gdrive/My Drive/H8_M55_S48 PP213-1/Cleaned_msCam/msCam93.avi', '/content/gdrive/My Drive/H8_M55_S48 PP213-1/Cleaned_msCam/msCam94.avi', '/content/gdrive/My Drive/H8_M55_S48 PP213-1/Cleaned_msCam/msCam95.avi', '/content/gdrive/My Drive/H8_M55_S48 PP213-1/Cleaned_msCam/msCam96.avi', '/content/gdrive/My Drive/H8_M55_S48 PP213-1/Cleaned_msCam/msCam97.avi', '/content/gdrive/My Drive/H8_M55_S48 PP213-1/Cleaned_msCam/msCam98.avi', '/content/gdrive/My Drive/H8_M55_S48 PP213-1/Cleaned_msCam/msCam99.avi', '/content/gdrive/My Drive/H8_M55_S48 PP213-1/Cleaned_msCam/msCam100.avi', '/content/gdrive/My Drive/H8_M55_S48 PP213-1/Cleaned_msCam/msCam101.avi', '/content/gdrive/My Drive/H8_M55_S48 PP213-1/Cleaned_msCam/msCam102.avi', '/content/gdrive/My Drive/H8_M55_S48 PP213-1/Cleaned_msCam/msCam103.avi', '/content/gdrive/My Drive/H8_M55_S48 PP213-1/Cleaned_msCam/msCam104.avi', '/content/gdrive/My Drive/H8_M55_S48 PP213-1/Cleaned_msCam/msCam105.avi', '/content/gdrive/My Drive/H8_M55_S48 PP213-1/Cleaned_msCam/msCam106.avi', '/content/gdrive/My Drive/H8_M55_S48 PP213-1/Cleaned_msCam/msCam107.avi', '/content/gdrive/My Drive/H8_M55_S48 PP213-1/Cleaned_msCam/msCam108.avi', '/content/gdrive/My Drive/H8_M55_S48 PP213-1/Cleaned_msCam/msCam109.avi', '/content/gdrive/My Drive/H8_M55_S48 PP213-1/Cleaned_msCam/msCam110.avi', '/content/gdrive/My Drive/H8_M55_S48 PP213-1/Cleaned_msCam/msCam111.avi', '/content/gdrive/My Drive/H8_M55_S48 PP213-1/Cleaned_msCam/msCam112.avi', '/content/gdrive/My Drive/H8_M55_S48 PP213-1/Cleaned_msCam/msCam113.avi', '/content/gdrive/My Drive/H8_M55_S48 PP213-1/Cleaned_msCam/msCam114.avi', '/content/gdrive/My Drive/H8_M55_S48 PP213-1/Cleaned_msCam/msCam115.avi', '/content/gdrive/My Drive/H8_M55_S48 PP213-1/Cleaned_msCam/msCam116.avi', '/content/gdrive/My Drive/H8_M55_S48 PP213-1/Cleaned_msCam/msCam117.avi', '/content/gdrive/My Drive/H8_M55_S48 PP213-1/Cleaned_msCam/msCam118.avi', '/content/gdrive/My Drive/H8_M55_S48 PP213-1/Cleaned_msCam/msCam119.avi', '/content/gdrive/My Drive/H8_M55_S48 PP213-1/Cleaned_msCam/msCam120.avi', '/content/gdrive/My Drive/H8_M55_S48 PP213-1/Cleaned_msCam/msCam121.avi', '/content/gdrive/My Drive/H8_M55_S48 PP213-1/Cleaned_msCam/msCam122.avi', '/content/gdrive/My Drive/H8_M55_S48 PP213-1/Cleaned_msCam/msCam123.avi', '/content/gdrive/My Drive/H8_M55_S48 PP213-1/Cleaned_msCam/msCam124.avi', '/content/gdrive/My Drive/H8_M55_S48 PP213-1/Cleaned_msCam/msCam125.avi']\n"
          ],
          "name": "stdout"
        }
      ]
    },
    {
      "cell_type": "code",
      "metadata": {
        "id": "_aiL5ZuISmw5"
      },
      "source": [
        "#%% start a cluster for parallel processing (if a cluster already exists it will be closed and a new session will be opened)\n",
        "if 'dview' in locals():\n",
        "    cm.stop_server(dview=dview)\n",
        "c, dview, n_processes = cm.cluster.setup_cluster(\n",
        "    backend='local', n_processes=None, single_thread=False)"
      ],
      "execution_count": null,
      "outputs": []
    },
    {
      "cell_type": "code",
      "metadata": {
        "id": "Xb4RPS5ZbPs_",
        "colab": {
          "base_uri": "https://localhost:8080/",
          "height": 1000
        },
        "outputId": "e5d94fff-bcbb-4555-cd13-6f73185172c2"
      },
      "source": [
        "for file in os.listdir(path_to_analyze):\n",
        "  if(file.endswith('.dat') != True and file.endswith('avi') != True):\n",
        "    try:\n",
        "      print(path_to_analyze+'/' + str(file))\n",
        "      os.remove(path_to_analyze+'/' + str(file))\n",
        "    except:\n",
        "      pass"
      ],
      "execution_count": null,
      "outputs": [
        {
          "output_type": "stream",
          "text": [
            "/content/gdrive/My Drive/H8_M55_S48 PP213-1/Cleaned_msCam/.ipynb_checkpoints\n",
            "/content/gdrive/My Drive/H8_M55_S48 PP213-1/Cleaned_msCam/msCam1_rig__d1_304_d2_404_d3_1_order_F_frames_1000_.mmap\n",
            "/content/gdrive/My Drive/H8_M55_S48 PP213-1/Cleaned_msCam/msCam2_rig__d1_304_d2_404_d3_1_order_F_frames_1000_.mmap\n",
            "/content/gdrive/My Drive/H8_M55_S48 PP213-1/Cleaned_msCam/msCam3_rig__d1_304_d2_404_d3_1_order_F_frames_1000_.mmap\n",
            "/content/gdrive/My Drive/H8_M55_S48 PP213-1/Cleaned_msCam/msCam4_rig__d1_304_d2_404_d3_1_order_F_frames_1000_.mmap\n",
            "/content/gdrive/My Drive/H8_M55_S48 PP213-1/Cleaned_msCam/msCam5_rig__d1_304_d2_404_d3_1_order_F_frames_1000_.mmap\n",
            "/content/gdrive/My Drive/H8_M55_S48 PP213-1/Cleaned_msCam/msCam6_rig__d1_304_d2_404_d3_1_order_F_frames_1000_.mmap\n",
            "/content/gdrive/My Drive/H8_M55_S48 PP213-1/Cleaned_msCam/msCam7_rig__d1_304_d2_404_d3_1_order_F_frames_1000_.mmap\n",
            "/content/gdrive/My Drive/H8_M55_S48 PP213-1/Cleaned_msCam/msCam8_rig__d1_304_d2_404_d3_1_order_F_frames_1000_.mmap\n",
            "/content/gdrive/My Drive/H8_M55_S48 PP213-1/Cleaned_msCam/msCam9_rig__d1_304_d2_404_d3_1_order_F_frames_1000_.mmap\n",
            "/content/gdrive/My Drive/H8_M55_S48 PP213-1/Cleaned_msCam/msCam10_rig__d1_304_d2_404_d3_1_order_F_frames_1000_.mmap\n",
            "/content/gdrive/My Drive/H8_M55_S48 PP213-1/Cleaned_msCam/msCam11_rig__d1_304_d2_404_d3_1_order_F_frames_1000_.mmap\n",
            "/content/gdrive/My Drive/H8_M55_S48 PP213-1/Cleaned_msCam/msCam13_rig__d1_304_d2_404_d3_1_order_F_frames_1000_.mmap\n",
            "/content/gdrive/My Drive/H8_M55_S48 PP213-1/Cleaned_msCam/msCam12_rig__d1_304_d2_404_d3_1_order_F_frames_1000_.mmap\n",
            "/content/gdrive/My Drive/H8_M55_S48 PP213-1/Cleaned_msCam/msCam15_rig__d1_304_d2_404_d3_1_order_F_frames_1000_.mmap\n",
            "/content/gdrive/My Drive/H8_M55_S48 PP213-1/Cleaned_msCam/msCam14_rig__d1_304_d2_404_d3_1_order_F_frames_1000_.mmap\n",
            "/content/gdrive/My Drive/H8_M55_S48 PP213-1/Cleaned_msCam/msCam16_rig__d1_304_d2_404_d3_1_order_F_frames_1000_.mmap\n",
            "/content/gdrive/My Drive/H8_M55_S48 PP213-1/Cleaned_msCam/msCam18_rig__d1_304_d2_404_d3_1_order_F_frames_1000_.mmap\n",
            "/content/gdrive/My Drive/H8_M55_S48 PP213-1/Cleaned_msCam/msCam17_rig__d1_304_d2_404_d3_1_order_F_frames_1000_.mmap\n",
            "/content/gdrive/My Drive/H8_M55_S48 PP213-1/Cleaned_msCam/msCam19_rig__d1_304_d2_404_d3_1_order_F_frames_1000_.mmap\n",
            "/content/gdrive/My Drive/H8_M55_S48 PP213-1/Cleaned_msCam/msCam20_rig__d1_304_d2_404_d3_1_order_F_frames_1000_.mmap\n",
            "/content/gdrive/My Drive/H8_M55_S48 PP213-1/Cleaned_msCam/msCam21_rig__d1_304_d2_404_d3_1_order_F_frames_1000_.mmap\n",
            "/content/gdrive/My Drive/H8_M55_S48 PP213-1/Cleaned_msCam/msCam23_rig__d1_304_d2_404_d3_1_order_F_frames_1000_.mmap\n",
            "/content/gdrive/My Drive/H8_M55_S48 PP213-1/Cleaned_msCam/msCam22_rig__d1_304_d2_404_d3_1_order_F_frames_1000_.mmap\n",
            "/content/gdrive/My Drive/H8_M55_S48 PP213-1/Cleaned_msCam/msCam24_rig__d1_304_d2_404_d3_1_order_F_frames_1000_.mmap\n",
            "/content/gdrive/My Drive/H8_M55_S48 PP213-1/Cleaned_msCam/msCam26_rig__d1_304_d2_404_d3_1_order_F_frames_1000_.mmap\n",
            "/content/gdrive/My Drive/H8_M55_S48 PP213-1/Cleaned_msCam/msCam25_rig__d1_304_d2_404_d3_1_order_F_frames_1000_.mmap\n",
            "/content/gdrive/My Drive/H8_M55_S48 PP213-1/Cleaned_msCam/msCam27_rig__d1_304_d2_404_d3_1_order_F_frames_1000_.mmap\n",
            "/content/gdrive/My Drive/H8_M55_S48 PP213-1/Cleaned_msCam/msCam28_rig__d1_304_d2_404_d3_1_order_F_frames_1000_.mmap\n",
            "/content/gdrive/My Drive/H8_M55_S48 PP213-1/Cleaned_msCam/msCam29_rig__d1_304_d2_404_d3_1_order_F_frames_1000_.mmap\n",
            "/content/gdrive/My Drive/H8_M55_S48 PP213-1/Cleaned_msCam/msCam31_rig__d1_304_d2_404_d3_1_order_F_frames_1000_.mmap\n",
            "/content/gdrive/My Drive/H8_M55_S48 PP213-1/Cleaned_msCam/msCam30_rig__d1_304_d2_404_d3_1_order_F_frames_1000_.mmap\n",
            "/content/gdrive/My Drive/H8_M55_S48 PP213-1/Cleaned_msCam/msCam32_rig__d1_304_d2_404_d3_1_order_F_frames_1000_.mmap\n",
            "/content/gdrive/My Drive/H8_M55_S48 PP213-1/Cleaned_msCam/msCam33_rig__d1_304_d2_404_d3_1_order_F_frames_1000_.mmap\n",
            "/content/gdrive/My Drive/H8_M55_S48 PP213-1/Cleaned_msCam/msCam35_rig__d1_304_d2_404_d3_1_order_F_frames_1000_.mmap\n",
            "/content/gdrive/My Drive/H8_M55_S48 PP213-1/Cleaned_msCam/msCam34_rig__d1_304_d2_404_d3_1_order_F_frames_1000_.mmap\n",
            "/content/gdrive/My Drive/H8_M55_S48 PP213-1/Cleaned_msCam/msCam36_rig__d1_304_d2_404_d3_1_order_F_frames_1000_.mmap\n",
            "/content/gdrive/My Drive/H8_M55_S48 PP213-1/Cleaned_msCam/msCam37_rig__d1_304_d2_404_d3_1_order_F_frames_1000_.mmap\n",
            "/content/gdrive/My Drive/H8_M55_S48 PP213-1/Cleaned_msCam/msCam38_rig__d1_304_d2_404_d3_1_order_F_frames_1000_.mmap\n",
            "/content/gdrive/My Drive/H8_M55_S48 PP213-1/Cleaned_msCam/msCam40_rig__d1_304_d2_404_d3_1_order_F_frames_1000_.mmap\n",
            "/content/gdrive/My Drive/H8_M55_S48 PP213-1/Cleaned_msCam/msCam39_rig__d1_304_d2_404_d3_1_order_F_frames_1000_.mmap\n",
            "/content/gdrive/My Drive/H8_M55_S48 PP213-1/Cleaned_msCam/msCam41_rig__d1_304_d2_404_d3_1_order_F_frames_1000_.mmap\n",
            "/content/gdrive/My Drive/H8_M55_S48 PP213-1/Cleaned_msCam/msCam43_rig__d1_304_d2_404_d3_1_order_F_frames_1000_.mmap\n",
            "/content/gdrive/My Drive/H8_M55_S48 PP213-1/Cleaned_msCam/msCam42_rig__d1_304_d2_404_d3_1_order_F_frames_1000_.mmap\n",
            "/content/gdrive/My Drive/H8_M55_S48 PP213-1/Cleaned_msCam/msCam44_rig__d1_304_d2_404_d3_1_order_F_frames_1000_.mmap\n",
            "/content/gdrive/My Drive/H8_M55_S48 PP213-1/Cleaned_msCam/msCam45_rig__d1_304_d2_404_d3_1_order_F_frames_1000_.mmap\n",
            "/content/gdrive/My Drive/H8_M55_S48 PP213-1/Cleaned_msCam/msCam46_rig__d1_304_d2_404_d3_1_order_F_frames_1000_.mmap\n",
            "/content/gdrive/My Drive/H8_M55_S48 PP213-1/Cleaned_msCam/msCam47_rig__d1_304_d2_404_d3_1_order_F_frames_1000_.mmap\n",
            "/content/gdrive/My Drive/H8_M55_S48 PP213-1/Cleaned_msCam/msCam48_rig__d1_304_d2_404_d3_1_order_F_frames_1000_.mmap\n",
            "/content/gdrive/My Drive/H8_M55_S48 PP213-1/Cleaned_msCam/msCam49_rig__d1_304_d2_404_d3_1_order_F_frames_1000_.mmap\n",
            "/content/gdrive/My Drive/H8_M55_S48 PP213-1/Cleaned_msCam/msCam50_rig__d1_304_d2_404_d3_1_order_F_frames_1000_.mmap\n",
            "/content/gdrive/My Drive/H8_M55_S48 PP213-1/Cleaned_msCam/msCam51_rig__d1_304_d2_404_d3_1_order_F_frames_1000_.mmap\n",
            "/content/gdrive/My Drive/H8_M55_S48 PP213-1/Cleaned_msCam/msCam52_rig__d1_304_d2_404_d3_1_order_F_frames_1000_.mmap\n",
            "/content/gdrive/My Drive/H8_M55_S48 PP213-1/Cleaned_msCam/msCam53_rig__d1_304_d2_404_d3_1_order_F_frames_1000_.mmap\n",
            "/content/gdrive/My Drive/H8_M55_S48 PP213-1/Cleaned_msCam/msCam55_rig__d1_304_d2_404_d3_1_order_F_frames_1000_.mmap\n",
            "/content/gdrive/My Drive/H8_M55_S48 PP213-1/Cleaned_msCam/msCam54_rig__d1_304_d2_404_d3_1_order_F_frames_1000_.mmap\n",
            "/content/gdrive/My Drive/H8_M55_S48 PP213-1/Cleaned_msCam/msCam56_rig__d1_304_d2_404_d3_1_order_F_frames_1000_.mmap\n",
            "/content/gdrive/My Drive/H8_M55_S48 PP213-1/Cleaned_msCam/msCam58_rig__d1_304_d2_404_d3_1_order_F_frames_1000_.mmap\n",
            "/content/gdrive/My Drive/H8_M55_S48 PP213-1/Cleaned_msCam/msCam57_rig__d1_304_d2_404_d3_1_order_F_frames_1000_.mmap\n",
            "/content/gdrive/My Drive/H8_M55_S48 PP213-1/Cleaned_msCam/msCam60_rig__d1_304_d2_404_d3_1_order_F_frames_1000_.mmap\n",
            "/content/gdrive/My Drive/H8_M55_S48 PP213-1/Cleaned_msCam/msCam59_rig__d1_304_d2_404_d3_1_order_F_frames_1000_.mmap\n",
            "/content/gdrive/My Drive/H8_M55_S48 PP213-1/Cleaned_msCam/msCam61_rig__d1_304_d2_404_d3_1_order_F_frames_1000_.mmap\n",
            "/content/gdrive/My Drive/H8_M55_S48 PP213-1/Cleaned_msCam/msCam62_rig__d1_304_d2_404_d3_1_order_F_frames_1000_.mmap\n",
            "/content/gdrive/My Drive/H8_M55_S48 PP213-1/Cleaned_msCam/msCam63_rig__d1_304_d2_404_d3_1_order_F_frames_1000_.mmap\n",
            "/content/gdrive/My Drive/H8_M55_S48 PP213-1/Cleaned_msCam/msCam65_rig__d1_304_d2_404_d3_1_order_F_frames_1000_.mmap\n",
            "/content/gdrive/My Drive/H8_M55_S48 PP213-1/Cleaned_msCam/msCam64_rig__d1_304_d2_404_d3_1_order_F_frames_1000_.mmap\n",
            "/content/gdrive/My Drive/H8_M55_S48 PP213-1/Cleaned_msCam/msCam67_rig__d1_304_d2_404_d3_1_order_F_frames_1000_.mmap\n",
            "/content/gdrive/My Drive/H8_M55_S48 PP213-1/Cleaned_msCam/msCam66_rig__d1_304_d2_404_d3_1_order_F_frames_1000_.mmap\n",
            "/content/gdrive/My Drive/H8_M55_S48 PP213-1/Cleaned_msCam/msCam68_rig__d1_304_d2_404_d3_1_order_F_frames_1000_.mmap\n",
            "/content/gdrive/My Drive/H8_M55_S48 PP213-1/Cleaned_msCam/msCam69_rig__d1_304_d2_404_d3_1_order_F_frames_1000_.mmap\n",
            "/content/gdrive/My Drive/H8_M55_S48 PP213-1/Cleaned_msCam/msCam71_rig__d1_304_d2_404_d3_1_order_F_frames_1000_.mmap\n",
            "/content/gdrive/My Drive/H8_M55_S48 PP213-1/Cleaned_msCam/msCam70_rig__d1_304_d2_404_d3_1_order_F_frames_1000_.mmap\n",
            "/content/gdrive/My Drive/H8_M55_S48 PP213-1/Cleaned_msCam/msCam72_rig__d1_304_d2_404_d3_1_order_F_frames_1000_.mmap\n",
            "/content/gdrive/My Drive/H8_M55_S48 PP213-1/Cleaned_msCam/msCam73_rig__d1_304_d2_404_d3_1_order_F_frames_1000_.mmap\n",
            "/content/gdrive/My Drive/H8_M55_S48 PP213-1/Cleaned_msCam/msCam75_rig__d1_304_d2_404_d3_1_order_F_frames_1000_.mmap\n",
            "/content/gdrive/My Drive/H8_M55_S48 PP213-1/Cleaned_msCam/msCam74_rig__d1_304_d2_404_d3_1_order_F_frames_1000_.mmap\n",
            "/content/gdrive/My Drive/H8_M55_S48 PP213-1/Cleaned_msCam/msCam77_rig__d1_304_d2_404_d3_1_order_F_frames_1000_.mmap\n",
            "/content/gdrive/My Drive/H8_M55_S48 PP213-1/Cleaned_msCam/msCam76_rig__d1_304_d2_404_d3_1_order_F_frames_1000_.mmap\n",
            "/content/gdrive/My Drive/H8_M55_S48 PP213-1/Cleaned_msCam/msCam78_rig__d1_304_d2_404_d3_1_order_F_frames_1000_.mmap\n",
            "/content/gdrive/My Drive/H8_M55_S48 PP213-1/Cleaned_msCam/msCam79_rig__d1_304_d2_404_d3_1_order_F_frames_1000_.mmap\n",
            "/content/gdrive/My Drive/H8_M55_S48 PP213-1/Cleaned_msCam/msCam80_rig__d1_304_d2_404_d3_1_order_F_frames_1000_.mmap\n",
            "/content/gdrive/My Drive/H8_M55_S48 PP213-1/Cleaned_msCam/msCam81_rig__d1_304_d2_404_d3_1_order_F_frames_1000_.mmap\n",
            "/content/gdrive/My Drive/H8_M55_S48 PP213-1/Cleaned_msCam/msCam83_rig__d1_304_d2_404_d3_1_order_F_frames_1000_.mmap\n",
            "/content/gdrive/My Drive/H8_M55_S48 PP213-1/Cleaned_msCam/msCam82_rig__d1_304_d2_404_d3_1_order_F_frames_1000_.mmap\n",
            "/content/gdrive/My Drive/H8_M55_S48 PP213-1/Cleaned_msCam/msCam84_rig__d1_304_d2_404_d3_1_order_F_frames_1000_.mmap\n",
            "/content/gdrive/My Drive/H8_M55_S48 PP213-1/Cleaned_msCam/msCam86_rig__d1_304_d2_404_d3_1_order_F_frames_1000_.mmap\n",
            "/content/gdrive/My Drive/H8_M55_S48 PP213-1/Cleaned_msCam/msCam85_rig__d1_304_d2_404_d3_1_order_F_frames_1000_.mmap\n",
            "/content/gdrive/My Drive/H8_M55_S48 PP213-1/Cleaned_msCam/msCam87_rig__d1_304_d2_404_d3_1_order_F_frames_1000_.mmap\n",
            "/content/gdrive/My Drive/H8_M55_S48 PP213-1/Cleaned_msCam/msCam89_rig__d1_304_d2_404_d3_1_order_F_frames_1000_.mmap\n",
            "/content/gdrive/My Drive/H8_M55_S48 PP213-1/Cleaned_msCam/msCam88_rig__d1_304_d2_404_d3_1_order_F_frames_1000_.mmap\n",
            "/content/gdrive/My Drive/H8_M55_S48 PP213-1/Cleaned_msCam/msCam90_rig__d1_304_d2_404_d3_1_order_F_frames_1000_.mmap\n",
            "/content/gdrive/My Drive/H8_M55_S48 PP213-1/Cleaned_msCam/msCam92_rig__d1_304_d2_404_d3_1_order_F_frames_1000_.mmap\n",
            "/content/gdrive/My Drive/H8_M55_S48 PP213-1/Cleaned_msCam/msCam91_rig__d1_304_d2_404_d3_1_order_F_frames_1000_.mmap\n",
            "/content/gdrive/My Drive/H8_M55_S48 PP213-1/Cleaned_msCam/msCam93_rig__d1_304_d2_404_d3_1_order_F_frames_1000_.mmap\n",
            "/content/gdrive/My Drive/H8_M55_S48 PP213-1/Cleaned_msCam/msCam95_rig__d1_304_d2_404_d3_1_order_F_frames_1000_.mmap\n",
            "/content/gdrive/My Drive/H8_M55_S48 PP213-1/Cleaned_msCam/msCam94_rig__d1_304_d2_404_d3_1_order_F_frames_1000_.mmap\n",
            "/content/gdrive/My Drive/H8_M55_S48 PP213-1/Cleaned_msCam/msCam96_rig__d1_304_d2_404_d3_1_order_F_frames_1000_.mmap\n",
            "/content/gdrive/My Drive/H8_M55_S48 PP213-1/Cleaned_msCam/msCam98_rig__d1_304_d2_404_d3_1_order_F_frames_1000_.mmap\n",
            "/content/gdrive/My Drive/H8_M55_S48 PP213-1/Cleaned_msCam/msCam97_rig__d1_304_d2_404_d3_1_order_F_frames_1000_.mmap\n",
            "/content/gdrive/My Drive/H8_M55_S48 PP213-1/Cleaned_msCam/msCam99_rig__d1_304_d2_404_d3_1_order_F_frames_1000_.mmap\n",
            "/content/gdrive/My Drive/H8_M55_S48 PP213-1/Cleaned_msCam/msCam100_rig__d1_304_d2_404_d3_1_order_F_frames_1000_.mmap\n",
            "/content/gdrive/My Drive/H8_M55_S48 PP213-1/Cleaned_msCam/msCam101_rig__d1_304_d2_404_d3_1_order_F_frames_1000_.mmap\n",
            "/content/gdrive/My Drive/H8_M55_S48 PP213-1/Cleaned_msCam/msCam102_rig__d1_304_d2_404_d3_1_order_F_frames_1000_.mmap\n",
            "/content/gdrive/My Drive/H8_M55_S48 PP213-1/Cleaned_msCam/msCam104_rig__d1_304_d2_404_d3_1_order_F_frames_1000_.mmap\n",
            "/content/gdrive/My Drive/H8_M55_S48 PP213-1/Cleaned_msCam/msCam103_rig__d1_304_d2_404_d3_1_order_F_frames_1000_.mmap\n",
            "/content/gdrive/My Drive/H8_M55_S48 PP213-1/Cleaned_msCam/msCam106_rig__d1_304_d2_404_d3_1_order_F_frames_1000_.mmap\n",
            "/content/gdrive/My Drive/H8_M55_S48 PP213-1/Cleaned_msCam/msCam105_rig__d1_304_d2_404_d3_1_order_F_frames_1000_.mmap\n",
            "/content/gdrive/My Drive/H8_M55_S48 PP213-1/Cleaned_msCam/msCam107_rig__d1_304_d2_404_d3_1_order_F_frames_1000_.mmap\n",
            "/content/gdrive/My Drive/H8_M55_S48 PP213-1/Cleaned_msCam/msCam109_rig__d1_304_d2_404_d3_1_order_F_frames_1000_.mmap\n",
            "/content/gdrive/My Drive/H8_M55_S48 PP213-1/Cleaned_msCam/msCam108_rig__d1_304_d2_404_d3_1_order_F_frames_1000_.mmap\n",
            "/content/gdrive/My Drive/H8_M55_S48 PP213-1/Cleaned_msCam/msCam110_rig__d1_304_d2_404_d3_1_order_F_frames_1000_.mmap\n",
            "/content/gdrive/My Drive/H8_M55_S48 PP213-1/Cleaned_msCam/msCam111_rig__d1_304_d2_404_d3_1_order_F_frames_1000_.mmap\n",
            "/content/gdrive/My Drive/H8_M55_S48 PP213-1/Cleaned_msCam/msCam113_rig__d1_304_d2_404_d3_1_order_F_frames_1000_.mmap\n",
            "/content/gdrive/My Drive/H8_M55_S48 PP213-1/Cleaned_msCam/msCam112_rig__d1_304_d2_404_d3_1_order_F_frames_1000_.mmap\n",
            "/content/gdrive/My Drive/H8_M55_S48 PP213-1/Cleaned_msCam/msCam115_rig__d1_304_d2_404_d3_1_order_F_frames_1000_.mmap\n",
            "/content/gdrive/My Drive/H8_M55_S48 PP213-1/Cleaned_msCam/msCam114_rig__d1_304_d2_404_d3_1_order_F_frames_1000_.mmap\n",
            "/content/gdrive/My Drive/H8_M55_S48 PP213-1/Cleaned_msCam/msCam116_rig__d1_304_d2_404_d3_1_order_F_frames_1000_.mmap\n",
            "/content/gdrive/My Drive/H8_M55_S48 PP213-1/Cleaned_msCam/msCam117_rig__d1_304_d2_404_d3_1_order_F_frames_1000_.mmap\n",
            "/content/gdrive/My Drive/H8_M55_S48 PP213-1/Cleaned_msCam/msCam118_rig__d1_304_d2_404_d3_1_order_F_frames_1000_.mmap\n",
            "/content/gdrive/My Drive/H8_M55_S48 PP213-1/Cleaned_msCam/msCam119_rig__d1_304_d2_404_d3_1_order_F_frames_1000_.mmap\n",
            "/content/gdrive/My Drive/H8_M55_S48 PP213-1/Cleaned_msCam/msCam120_rig__d1_304_d2_404_d3_1_order_F_frames_1000_.mmap\n",
            "/content/gdrive/My Drive/H8_M55_S48 PP213-1/Cleaned_msCam/msCam122_rig__d1_304_d2_404_d3_1_order_F_frames_1000_.mmap\n",
            "/content/gdrive/My Drive/H8_M55_S48 PP213-1/Cleaned_msCam/msCam121_rig__d1_304_d2_404_d3_1_order_F_frames_1000_.mmap\n",
            "/content/gdrive/My Drive/H8_M55_S48 PP213-1/Cleaned_msCam/msCam123_rig__d1_304_d2_404_d3_1_order_F_frames_1000_.mmap\n",
            "/content/gdrive/My Drive/H8_M55_S48 PP213-1/Cleaned_msCam/msCam125_rig__d1_304_d2_404_d3_1_order_F_frames_1000_.mmap\n",
            "/content/gdrive/My Drive/H8_M55_S48 PP213-1/Cleaned_msCam/msCam124_rig__d1_304_d2_404_d3_1_order_F_frames_1000_.mmap\n",
            "/content/gdrive/My Drive/H8_M55_S48 PP213-1/Cleaned_msCam/memmap_0000_d1_304_d2_404_d3_1_order_C_frames_1000_.mmap\n",
            "/content/gdrive/My Drive/H8_M55_S48 PP213-1/Cleaned_msCam/memmap_0001_d1_304_d2_404_d3_1_order_C_frames_1000_.mmap\n",
            "/content/gdrive/My Drive/H8_M55_S48 PP213-1/Cleaned_msCam/memmap_0002_d1_304_d2_404_d3_1_order_C_frames_1000_.mmap\n",
            "/content/gdrive/My Drive/H8_M55_S48 PP213-1/Cleaned_msCam/memmap_0003_d1_304_d2_404_d3_1_order_C_frames_1000_.mmap\n",
            "/content/gdrive/My Drive/H8_M55_S48 PP213-1/Cleaned_msCam/memmap_0004_d1_304_d2_404_d3_1_order_C_frames_1000_.mmap\n",
            "/content/gdrive/My Drive/H8_M55_S48 PP213-1/Cleaned_msCam/memmap_0005_d1_304_d2_404_d3_1_order_C_frames_1000_.mmap\n",
            "/content/gdrive/My Drive/H8_M55_S48 PP213-1/Cleaned_msCam/memmap_0006_d1_304_d2_404_d3_1_order_C_frames_1000_.mmap\n",
            "/content/gdrive/My Drive/H8_M55_S48 PP213-1/Cleaned_msCam/memmap_0007_d1_304_d2_404_d3_1_order_C_frames_1000_.mmap\n",
            "/content/gdrive/My Drive/H8_M55_S48 PP213-1/Cleaned_msCam/memmap_0008_d1_304_d2_404_d3_1_order_C_frames_1000_.mmap\n",
            "/content/gdrive/My Drive/H8_M55_S48 PP213-1/Cleaned_msCam/memmap_0009_d1_304_d2_404_d3_1_order_C_frames_1000_.mmap\n",
            "/content/gdrive/My Drive/H8_M55_S48 PP213-1/Cleaned_msCam/memmap_0010_d1_304_d2_404_d3_1_order_C_frames_1000_.mmap\n",
            "/content/gdrive/My Drive/H8_M55_S48 PP213-1/Cleaned_msCam/memmap_0011_d1_304_d2_404_d3_1_order_C_frames_1000_.mmap\n",
            "/content/gdrive/My Drive/H8_M55_S48 PP213-1/Cleaned_msCam/memmap_0012_d1_304_d2_404_d3_1_order_C_frames_1000_.mmap\n",
            "/content/gdrive/My Drive/H8_M55_S48 PP213-1/Cleaned_msCam/memmap_0013_d1_304_d2_404_d3_1_order_C_frames_1000_.mmap\n",
            "/content/gdrive/My Drive/H8_M55_S48 PP213-1/Cleaned_msCam/memmap_0014_d1_304_d2_404_d3_1_order_C_frames_1000_.mmap\n",
            "/content/gdrive/My Drive/H8_M55_S48 PP213-1/Cleaned_msCam/memmap_0015_d1_304_d2_404_d3_1_order_C_frames_1000_.mmap\n",
            "/content/gdrive/My Drive/H8_M55_S48 PP213-1/Cleaned_msCam/memmap_0016_d1_304_d2_404_d3_1_order_C_frames_1000_.mmap\n",
            "/content/gdrive/My Drive/H8_M55_S48 PP213-1/Cleaned_msCam/memmap_0017_d1_304_d2_404_d3_1_order_C_frames_1000_.mmap\n",
            "/content/gdrive/My Drive/H8_M55_S48 PP213-1/Cleaned_msCam/memmap_0018_d1_304_d2_404_d3_1_order_C_frames_1000_.mmap\n",
            "/content/gdrive/My Drive/H8_M55_S48 PP213-1/Cleaned_msCam/memmap_0019_d1_304_d2_404_d3_1_order_C_frames_1000_.mmap\n",
            "/content/gdrive/My Drive/H8_M55_S48 PP213-1/Cleaned_msCam/memmap_0020_d1_304_d2_404_d3_1_order_C_frames_1000_.mmap\n",
            "/content/gdrive/My Drive/H8_M55_S48 PP213-1/Cleaned_msCam/memmap_0021_d1_304_d2_404_d3_1_order_C_frames_1000_.mmap\n",
            "/content/gdrive/My Drive/H8_M55_S48 PP213-1/Cleaned_msCam/memmap_0022_d1_304_d2_404_d3_1_order_C_frames_1000_.mmap\n",
            "/content/gdrive/My Drive/H8_M55_S48 PP213-1/Cleaned_msCam/memmap_0023_d1_304_d2_404_d3_1_order_C_frames_1000_.mmap\n",
            "/content/gdrive/My Drive/H8_M55_S48 PP213-1/Cleaned_msCam/memmap_0024_d1_304_d2_404_d3_1_order_C_frames_1000_.mmap\n",
            "/content/gdrive/My Drive/H8_M55_S48 PP213-1/Cleaned_msCam/memmap_0025_d1_304_d2_404_d3_1_order_C_frames_1000_.mmap\n",
            "/content/gdrive/My Drive/H8_M55_S48 PP213-1/Cleaned_msCam/memmap_0026_d1_304_d2_404_d3_1_order_C_frames_1000_.mmap\n",
            "/content/gdrive/My Drive/H8_M55_S48 PP213-1/Cleaned_msCam/memmap_0027_d1_304_d2_404_d3_1_order_C_frames_1000_.mmap\n",
            "/content/gdrive/My Drive/H8_M55_S48 PP213-1/Cleaned_msCam/memmap_0028_d1_304_d2_404_d3_1_order_C_frames_1000_.mmap\n",
            "/content/gdrive/My Drive/H8_M55_S48 PP213-1/Cleaned_msCam/memmap_0029_d1_304_d2_404_d3_1_order_C_frames_1000_.mmap\n",
            "/content/gdrive/My Drive/H8_M55_S48 PP213-1/Cleaned_msCam/memmap_0030_d1_304_d2_404_d3_1_order_C_frames_1000_.mmap\n",
            "/content/gdrive/My Drive/H8_M55_S48 PP213-1/Cleaned_msCam/memmap_0031_d1_304_d2_404_d3_1_order_C_frames_1000_.mmap\n",
            "/content/gdrive/My Drive/H8_M55_S48 PP213-1/Cleaned_msCam/memmap_0032_d1_304_d2_404_d3_1_order_C_frames_1000_.mmap\n",
            "/content/gdrive/My Drive/H8_M55_S48 PP213-1/Cleaned_msCam/memmap_0033_d1_304_d2_404_d3_1_order_C_frames_1000_.mmap\n",
            "/content/gdrive/My Drive/H8_M55_S48 PP213-1/Cleaned_msCam/memmap_0034_d1_304_d2_404_d3_1_order_C_frames_1000_.mmap\n",
            "/content/gdrive/My Drive/H8_M55_S48 PP213-1/Cleaned_msCam/memmap_0035_d1_304_d2_404_d3_1_order_C_frames_1000_.mmap\n",
            "/content/gdrive/My Drive/H8_M55_S48 PP213-1/Cleaned_msCam/memmap_0036_d1_304_d2_404_d3_1_order_C_frames_1000_.mmap\n",
            "/content/gdrive/My Drive/H8_M55_S48 PP213-1/Cleaned_msCam/memmap_0037_d1_304_d2_404_d3_1_order_C_frames_1000_.mmap\n",
            "/content/gdrive/My Drive/H8_M55_S48 PP213-1/Cleaned_msCam/memmap_0038_d1_304_d2_404_d3_1_order_C_frames_1000_.mmap\n",
            "/content/gdrive/My Drive/H8_M55_S48 PP213-1/Cleaned_msCam/memmap_0039_d1_304_d2_404_d3_1_order_C_frames_1000_.mmap\n",
            "/content/gdrive/My Drive/H8_M55_S48 PP213-1/Cleaned_msCam/memmap_0040_d1_304_d2_404_d3_1_order_C_frames_1000_.mmap\n",
            "/content/gdrive/My Drive/H8_M55_S48 PP213-1/Cleaned_msCam/memmap_0041_d1_304_d2_404_d3_1_order_C_frames_1000_.mmap\n",
            "/content/gdrive/My Drive/H8_M55_S48 PP213-1/Cleaned_msCam/memmap_0042_d1_304_d2_404_d3_1_order_C_frames_1000_.mmap\n",
            "/content/gdrive/My Drive/H8_M55_S48 PP213-1/Cleaned_msCam/memmap_0043_d1_304_d2_404_d3_1_order_C_frames_1000_.mmap\n",
            "/content/gdrive/My Drive/H8_M55_S48 PP213-1/Cleaned_msCam/memmap_0044_d1_304_d2_404_d3_1_order_C_frames_1000_.mmap\n",
            "/content/gdrive/My Drive/H8_M55_S48 PP213-1/Cleaned_msCam/memmap_0045_d1_304_d2_404_d3_1_order_C_frames_1000_.mmap\n",
            "/content/gdrive/My Drive/H8_M55_S48 PP213-1/Cleaned_msCam/memmap_0046_d1_304_d2_404_d3_1_order_C_frames_1000_.mmap\n",
            "/content/gdrive/My Drive/H8_M55_S48 PP213-1/Cleaned_msCam/memmap_0047_d1_304_d2_404_d3_1_order_C_frames_1000_.mmap\n",
            "/content/gdrive/My Drive/H8_M55_S48 PP213-1/Cleaned_msCam/memmap_0048_d1_304_d2_404_d3_1_order_C_frames_1000_.mmap\n",
            "/content/gdrive/My Drive/H8_M55_S48 PP213-1/Cleaned_msCam/memmap_0049_d1_304_d2_404_d3_1_order_C_frames_1000_.mmap\n",
            "/content/gdrive/My Drive/H8_M55_S48 PP213-1/Cleaned_msCam/memmap_0050_d1_304_d2_404_d3_1_order_C_frames_1000_.mmap\n",
            "/content/gdrive/My Drive/H8_M55_S48 PP213-1/Cleaned_msCam/memmap_0051_d1_304_d2_404_d3_1_order_C_frames_1000_.mmap\n",
            "/content/gdrive/My Drive/H8_M55_S48 PP213-1/Cleaned_msCam/memmap_0052_d1_304_d2_404_d3_1_order_C_frames_1000_.mmap\n",
            "/content/gdrive/My Drive/H8_M55_S48 PP213-1/Cleaned_msCam/memmap_0053_d1_304_d2_404_d3_1_order_C_frames_1000_.mmap\n",
            "/content/gdrive/My Drive/H8_M55_S48 PP213-1/Cleaned_msCam/memmap_0054_d1_304_d2_404_d3_1_order_C_frames_1000_.mmap\n",
            "/content/gdrive/My Drive/H8_M55_S48 PP213-1/Cleaned_msCam/memmap_0055_d1_304_d2_404_d3_1_order_C_frames_1000_.mmap\n",
            "/content/gdrive/My Drive/H8_M55_S48 PP213-1/Cleaned_msCam/memmap_0056_d1_304_d2_404_d3_1_order_C_frames_1000_.mmap\n",
            "/content/gdrive/My Drive/H8_M55_S48 PP213-1/Cleaned_msCam/memmap_0057_d1_304_d2_404_d3_1_order_C_frames_1000_.mmap\n",
            "/content/gdrive/My Drive/H8_M55_S48 PP213-1/Cleaned_msCam/memmap_0058_d1_304_d2_404_d3_1_order_C_frames_1000_.mmap\n",
            "/content/gdrive/My Drive/H8_M55_S48 PP213-1/Cleaned_msCam/memmap_0059_d1_304_d2_404_d3_1_order_C_frames_1000_.mmap\n",
            "/content/gdrive/My Drive/H8_M55_S48 PP213-1/Cleaned_msCam/memmap_0060_d1_304_d2_404_d3_1_order_C_frames_1000_.mmap\n",
            "/content/gdrive/My Drive/H8_M55_S48 PP213-1/Cleaned_msCam/memmap_0061_d1_304_d2_404_d3_1_order_C_frames_1000_.mmap\n",
            "/content/gdrive/My Drive/H8_M55_S48 PP213-1/Cleaned_msCam/memmap_0062_d1_304_d2_404_d3_1_order_C_frames_1000_.mmap\n",
            "/content/gdrive/My Drive/H8_M55_S48 PP213-1/Cleaned_msCam/memmap_0063_d1_304_d2_404_d3_1_order_C_frames_1000_.mmap\n",
            "/content/gdrive/My Drive/H8_M55_S48 PP213-1/Cleaned_msCam/memmap_0064_d1_304_d2_404_d3_1_order_C_frames_1000_.mmap\n",
            "/content/gdrive/My Drive/H8_M55_S48 PP213-1/Cleaned_msCam/memmap_0065_d1_304_d2_404_d3_1_order_C_frames_1000_.mmap\n",
            "/content/gdrive/My Drive/H8_M55_S48 PP213-1/Cleaned_msCam/memmap_0066_d1_304_d2_404_d3_1_order_C_frames_1000_.mmap\n",
            "/content/gdrive/My Drive/H8_M55_S48 PP213-1/Cleaned_msCam/memmap_0067_d1_304_d2_404_d3_1_order_C_frames_1000_.mmap\n",
            "/content/gdrive/My Drive/H8_M55_S48 PP213-1/Cleaned_msCam/memmap_0068_d1_304_d2_404_d3_1_order_C_frames_1000_.mmap\n",
            "/content/gdrive/My Drive/H8_M55_S48 PP213-1/Cleaned_msCam/memmap_0069_d1_304_d2_404_d3_1_order_C_frames_1000_.mmap\n",
            "/content/gdrive/My Drive/H8_M55_S48 PP213-1/Cleaned_msCam/memmap_0070_d1_304_d2_404_d3_1_order_C_frames_1000_.mmap\n",
            "/content/gdrive/My Drive/H8_M55_S48 PP213-1/Cleaned_msCam/memmap_0071_d1_304_d2_404_d3_1_order_C_frames_1000_.mmap\n",
            "/content/gdrive/My Drive/H8_M55_S48 PP213-1/Cleaned_msCam/memmap_0072_d1_304_d2_404_d3_1_order_C_frames_1000_.mmap\n",
            "/content/gdrive/My Drive/H8_M55_S48 PP213-1/Cleaned_msCam/memmap_0073_d1_304_d2_404_d3_1_order_C_frames_1000_.mmap\n",
            "/content/gdrive/My Drive/H8_M55_S48 PP213-1/Cleaned_msCam/memmap_0074_d1_304_d2_404_d3_1_order_C_frames_1000_.mmap\n",
            "/content/gdrive/My Drive/H8_M55_S48 PP213-1/Cleaned_msCam/memmap_0075_d1_304_d2_404_d3_1_order_C_frames_1000_.mmap\n",
            "/content/gdrive/My Drive/H8_M55_S48 PP213-1/Cleaned_msCam/memmap_0076_d1_304_d2_404_d3_1_order_C_frames_1000_.mmap\n",
            "/content/gdrive/My Drive/H8_M55_S48 PP213-1/Cleaned_msCam/memmap_0077_d1_304_d2_404_d3_1_order_C_frames_1000_.mmap\n",
            "/content/gdrive/My Drive/H8_M55_S48 PP213-1/Cleaned_msCam/memmap_0078_d1_304_d2_404_d3_1_order_C_frames_1000_.mmap\n",
            "/content/gdrive/My Drive/H8_M55_S48 PP213-1/Cleaned_msCam/memmap_0079_d1_304_d2_404_d3_1_order_C_frames_1000_.mmap\n",
            "/content/gdrive/My Drive/H8_M55_S48 PP213-1/Cleaned_msCam/memmap_0080_d1_304_d2_404_d3_1_order_C_frames_1000_.mmap\n",
            "/content/gdrive/My Drive/H8_M55_S48 PP213-1/Cleaned_msCam/memmap_0081_d1_304_d2_404_d3_1_order_C_frames_1000_.mmap\n",
            "/content/gdrive/My Drive/H8_M55_S48 PP213-1/Cleaned_msCam/memmap_0082_d1_304_d2_404_d3_1_order_C_frames_1000_.mmap\n",
            "/content/gdrive/My Drive/H8_M55_S48 PP213-1/Cleaned_msCam/memmap_0083_d1_304_d2_404_d3_1_order_C_frames_1000_.mmap\n",
            "/content/gdrive/My Drive/H8_M55_S48 PP213-1/Cleaned_msCam/memmap_0084_d1_304_d2_404_d3_1_order_C_frames_1000_.mmap\n",
            "/content/gdrive/My Drive/H8_M55_S48 PP213-1/Cleaned_msCam/memmap_0085_d1_304_d2_404_d3_1_order_C_frames_1000_.mmap\n",
            "/content/gdrive/My Drive/H8_M55_S48 PP213-1/Cleaned_msCam/memmap_0086_d1_304_d2_404_d3_1_order_C_frames_1000_.mmap\n",
            "/content/gdrive/My Drive/H8_M55_S48 PP213-1/Cleaned_msCam/memmap_0087_d1_304_d2_404_d3_1_order_C_frames_1000_.mmap\n",
            "/content/gdrive/My Drive/H8_M55_S48 PP213-1/Cleaned_msCam/memmap_0088_d1_304_d2_404_d3_1_order_C_frames_1000_.mmap\n",
            "/content/gdrive/My Drive/H8_M55_S48 PP213-1/Cleaned_msCam/memmap_0089_d1_304_d2_404_d3_1_order_C_frames_1000_.mmap\n",
            "/content/gdrive/My Drive/H8_M55_S48 PP213-1/Cleaned_msCam/memmap_0090_d1_304_d2_404_d3_1_order_C_frames_1000_.mmap\n",
            "/content/gdrive/My Drive/H8_M55_S48 PP213-1/Cleaned_msCam/memmap_0091_d1_304_d2_404_d3_1_order_C_frames_1000_.mmap\n",
            "/content/gdrive/My Drive/H8_M55_S48 PP213-1/Cleaned_msCam/memmap_0092_d1_304_d2_404_d3_1_order_C_frames_1000_.mmap\n",
            "/content/gdrive/My Drive/H8_M55_S48 PP213-1/Cleaned_msCam/memmap_0093_d1_304_d2_404_d3_1_order_C_frames_1000_.mmap\n",
            "/content/gdrive/My Drive/H8_M55_S48 PP213-1/Cleaned_msCam/memmap_0094_d1_304_d2_404_d3_1_order_C_frames_1000_.mmap\n",
            "/content/gdrive/My Drive/H8_M55_S48 PP213-1/Cleaned_msCam/memmap_0095_d1_304_d2_404_d3_1_order_C_frames_1000_.mmap\n",
            "/content/gdrive/My Drive/H8_M55_S48 PP213-1/Cleaned_msCam/memmap_0096_d1_304_d2_404_d3_1_order_C_frames_1000_.mmap\n",
            "/content/gdrive/My Drive/H8_M55_S48 PP213-1/Cleaned_msCam/memmap_0097_d1_304_d2_404_d3_1_order_C_frames_1000_.mmap\n",
            "/content/gdrive/My Drive/H8_M55_S48 PP213-1/Cleaned_msCam/memmap_0098_d1_304_d2_404_d3_1_order_C_frames_1000_.mmap\n",
            "/content/gdrive/My Drive/H8_M55_S48 PP213-1/Cleaned_msCam/memmap_0099_d1_304_d2_404_d3_1_order_C_frames_1000_.mmap\n",
            "/content/gdrive/My Drive/H8_M55_S48 PP213-1/Cleaned_msCam/memmap_0100_d1_304_d2_404_d3_1_order_C_frames_1000_.mmap\n",
            "/content/gdrive/My Drive/H8_M55_S48 PP213-1/Cleaned_msCam/memmap_0101_d1_304_d2_404_d3_1_order_C_frames_1000_.mmap\n",
            "/content/gdrive/My Drive/H8_M55_S48 PP213-1/Cleaned_msCam/memmap_0102_d1_304_d2_404_d3_1_order_C_frames_1000_.mmap\n",
            "/content/gdrive/My Drive/H8_M55_S48 PP213-1/Cleaned_msCam/memmap_0103_d1_304_d2_404_d3_1_order_C_frames_1000_.mmap\n",
            "/content/gdrive/My Drive/H8_M55_S48 PP213-1/Cleaned_msCam/memmap_0104_d1_304_d2_404_d3_1_order_C_frames_1000_.mmap\n",
            "/content/gdrive/My Drive/H8_M55_S48 PP213-1/Cleaned_msCam/memmap_0105_d1_304_d2_404_d3_1_order_C_frames_1000_.mmap\n",
            "/content/gdrive/My Drive/H8_M55_S48 PP213-1/Cleaned_msCam/memmap_0106_d1_304_d2_404_d3_1_order_C_frames_1000_.mmap\n",
            "/content/gdrive/My Drive/H8_M55_S48 PP213-1/Cleaned_msCam/memmap_0107_d1_304_d2_404_d3_1_order_C_frames_1000_.mmap\n",
            "/content/gdrive/My Drive/H8_M55_S48 PP213-1/Cleaned_msCam/memmap_0108_d1_304_d2_404_d3_1_order_C_frames_1000_.mmap\n",
            "/content/gdrive/My Drive/H8_M55_S48 PP213-1/Cleaned_msCam/memmap_0109_d1_304_d2_404_d3_1_order_C_frames_1000_.mmap\n",
            "/content/gdrive/My Drive/H8_M55_S48 PP213-1/Cleaned_msCam/memmap_0110_d1_304_d2_404_d3_1_order_C_frames_1000_.mmap\n",
            "/content/gdrive/My Drive/H8_M55_S48 PP213-1/Cleaned_msCam/memmap_0111_d1_304_d2_404_d3_1_order_C_frames_1000_.mmap\n",
            "/content/gdrive/My Drive/H8_M55_S48 PP213-1/Cleaned_msCam/memmap_0112_d1_304_d2_404_d3_1_order_C_frames_1000_.mmap\n",
            "/content/gdrive/My Drive/H8_M55_S48 PP213-1/Cleaned_msCam/memmap_0113_d1_304_d2_404_d3_1_order_C_frames_1000_.mmap\n",
            "/content/gdrive/My Drive/H8_M55_S48 PP213-1/Cleaned_msCam/memmap_0114_d1_304_d2_404_d3_1_order_C_frames_1000_.mmap\n",
            "/content/gdrive/My Drive/H8_M55_S48 PP213-1/Cleaned_msCam/memmap_0115_d1_304_d2_404_d3_1_order_C_frames_1000_.mmap\n",
            "/content/gdrive/My Drive/H8_M55_S48 PP213-1/Cleaned_msCam/memmap_0116_d1_304_d2_404_d3_1_order_C_frames_1000_.mmap\n",
            "/content/gdrive/My Drive/H8_M55_S48 PP213-1/Cleaned_msCam/memmap_0117_d1_304_d2_404_d3_1_order_C_frames_1000_.mmap\n",
            "/content/gdrive/My Drive/H8_M55_S48 PP213-1/Cleaned_msCam/memmap_0118_d1_304_d2_404_d3_1_order_C_frames_1000_.mmap\n",
            "/content/gdrive/My Drive/H8_M55_S48 PP213-1/Cleaned_msCam/memmap_0119_d1_304_d2_404_d3_1_order_C_frames_1000_.mmap\n",
            "/content/gdrive/My Drive/H8_M55_S48 PP213-1/Cleaned_msCam/memmap_0120_d1_304_d2_404_d3_1_order_C_frames_1000_.mmap\n",
            "/content/gdrive/My Drive/H8_M55_S48 PP213-1/Cleaned_msCam/memmap_0121_d1_304_d2_404_d3_1_order_C_frames_1000_.mmap\n",
            "/content/gdrive/My Drive/H8_M55_S48 PP213-1/Cleaned_msCam/memmap_0122_d1_304_d2_404_d3_1_order_C_frames_1000_.mmap\n",
            "/content/gdrive/My Drive/H8_M55_S48 PP213-1/Cleaned_msCam/memmap_0123_d1_304_d2_404_d3_1_order_C_frames_1000_.mmap\n",
            "/content/gdrive/My Drive/H8_M55_S48 PP213-1/Cleaned_msCam/memmap_0124_d1_304_d2_404_d3_1_order_C_frames_1000_.mmap\n"
          ],
          "name": "stdout"
        }
      ]
    },
    {
      "cell_type": "markdown",
      "metadata": {
        "id": "p7TtscoSYpN1"
      },
      "source": [
        "Set Parameters for Motion Correction\n"
      ]
    },
    {
      "cell_type": "code",
      "metadata": {
        "id": "jNQ2Yr59Sox8",
        "colab": {
          "base_uri": "https://localhost:8080/"
        },
        "outputId": "2785f32f-f030-43a3-f158-957348afd9d7"
      },
      "source": [
        "# dataset dependent parameters\n",
        "frate = 20                       # movie frame rate\n",
        "decay_time = 0.4                 # length of a typical transient in seconds\n",
        "\n",
        "# motion correction parameters\n",
        "motion_correct = True    # flag for performing motion correction\n",
        "pw_rigid = False         # flag for performing piecewise-rigid motion correction (otherwise just rigid)\n",
        "gSig_filt = (3, 3)       # size of high pass spatial filtering, used in 1p data\n",
        "max_shifts = (5, 5)      # maximum allowed rigid shift\n",
        "strides = (24, 24)       # start a new patch for pw-rigid motion correction every x pixels\n",
        "overlaps = (12, 12)      # overlap between patches (size of patch strides+overlaps)\n",
        "max_deviation_rigid = 3  # maximum deviation allowed for patch with respect to rigid shifts\n",
        "border_nan = 'copy'      # replicate values along the boundaries\n",
        "use_cuda = True         # Set to True in order to use GPU\n",
        "only_init_patch = True\n",
        "memory_fact = 0.8\n",
        "\n",
        "mc_dict = {\n",
        "    #'fnames': fnames,\n",
        "    'fr': frate,\n",
        "    'niter_rig': 1,\n",
        "    'splits_rig': 20,  # for parallelization split the movies in  num_splits chuncks across time\n",
        "    # if none all the splits are processed and the movie is saved\n",
        "    'num_splits_to_process_rig': None, # intervals at which patches are laid out for motion correction            \n",
        "    'decay_time': decay_time,\n",
        "    'pw_rigid': pw_rigid,\n",
        "    'max_shifts': max_shifts,\n",
        "    'gSig_filt': gSig_filt,\n",
        "    'strides': strides,\n",
        "    'overlaps': overlaps,\n",
        "    'max_deviation_rigid': max_deviation_rigid,\n",
        "    'border_nan': border_nan,\n",
        "    'use_cuda' : use_cuda,\n",
        "    'only_init_patch' : only_init_patch,\n",
        "    'memory_fact': memory_fact\n",
        "}\n",
        "\n",
        "opts = params.CNMFParams(params_dict=mc_dict)"
      ],
      "execution_count": null,
      "outputs": [
        {
          "output_type": "stream",
          "text": [
            "WARNING:root:Changing key fr in group data from 30 to 20\n",
            "WARNING:root:Changing key memory_fact in group patch from 1 to 0.8\n",
            "WARNING:root:Changing key splits_rig in group motion from 14 to 20\n",
            "WARNING:root:Changing key max_shifts in group motion from (6, 6) to (5, 5)\n",
            "WARNING:root:Changing key gSig_filt in group motion from None to (3, 3)\n",
            "WARNING:root:Changing key strides in group motion from (96, 96) to (24, 24)\n",
            "WARNING:root:Changing key overlaps in group motion from (32, 32) to (12, 12)\n",
            "WARNING:root:Changing key use_cuda in group motion from False to True\n",
            "WARNING:root:No parameter only_init_patch found!\n"
          ],
          "name": "stderr"
        }
      ]
    },
    {
      "cell_type": "markdown",
      "metadata": {
        "id": "U2O-ok6tYx2H"
      },
      "source": [
        "Perform motion correction (might take a while)"
      ]
    },
    {
      "cell_type": "code",
      "metadata": {
        "id": "s9kisXvGYxRG",
        "colab": {
          "base_uri": "https://localhost:8080/"
        },
        "outputId": "ab0419f3-a218-4ba0-d9ed-fe2b20f4cc02"
      },
      "source": [
        "start = time.time() # This is to keep track of how long the analysis is running\n",
        "if motion_correct:\n",
        "    # do motion correction rigid\n",
        "    mc = MotionCorrect(fnames, dview=dview, **opts.get_group('motion'))\n",
        "    mc.motion_correct(save_movie=True)\n",
        "    fname_mc = mc.fname_tot_els if pw_rigid else mc.fname_tot_rig\n",
        "    \n",
        "end = time.time()\n",
        "\n",
        "print(end - start)\n",
        "print('Motion correction has been done!')"
      ],
      "execution_count": null,
      "outputs": [
        {
          "output_type": "stream",
          "text": [
            "WARNING:root:Movie average is negative. Removing 1st percentile.\n",
            "WARNING:root:Movie average is negative. Removing 1st percentile.\n",
            "WARNING:root:Movie average is negative. Removing 1st percentile.\n"
          ],
          "name": "stderr"
        },
        {
          "output_type": "stream",
          "text": [
            "4897.967100858688\n",
            "Motion correction has been done!\n"
          ],
          "name": "stdout"
        }
      ]
    },
    {
      "cell_type": "markdown",
      "metadata": {
        "id": "X7NOcpFMZG-A"
      },
      "source": [
        "# Plot the motion corrected template and associated shifts\n"
      ]
    },
    {
      "cell_type": "code",
      "metadata": {
        "id": "UUdhbdZ_ZGfy",
        "colab": {
          "base_uri": "https://localhost:8080/",
          "height": 1000
        },
        "outputId": "7117c291-ea11-4bef-bd45-09d6a5d57127"
      },
      "source": [
        "%matplotlib inline\n",
        "if motion_correct and not pw_rigid:\n",
        "  plt.figure(figsize=(10,20))\n",
        "  plt.subplot(2, 1, 1); plt.imshow(mc.total_template_rig);  # % plot template\n",
        "  plt.subplot(2, 1, 2); plt.plot(mc.shifts_rig)  # % plot rigid shifts\n",
        "  plt.legend(['x shifts', 'y shifts'])\n",
        "  plt.xlabel('frames')\n",
        "  plt.ylabel('pixels')"
      ],
      "execution_count": null,
      "outputs": [
        {
          "output_type": "display_data",
          "data": {
            "image/png": "[encoded data removed]",
            "text/plain": [
              "<Figure size 720x1440 with 2 Axes>"
            ]
          },
          "metadata": {
            "tags": [],
            "needs_background": "light"
          }
        }
      ]
    },
    {
      "cell_type": "markdown",
      "metadata": {
        "id": "XKvQ8MPQZLuT"
      },
      "source": [
        "# Map the motion corrected video to memory\n",
        "\n",
        "---"
      ]
    },
    {
      "cell_type": "code",
      "metadata": {
        "id": "Fbkss2_7ZOJu"
      },
      "source": [
        "if motion_correct:  \n",
        "    if pw_rigid:\n",
        "        bord_px = np.ceil(np.maximum(np.max(np.abs(mc.x_shifts_els)),\n",
        "                                     np.max(np.abs(mc.y_shifts_els)))).astype(np.int)\n",
        "    else:\n",
        "        bord_px = np.ceil(np.max(np.abs(mc.shifts_rig))).astype(np.int)\n",
        "\n",
        "    bord_px = 0 if border_nan is 'copy' else bord_px\n",
        "    fname_new = cm.save_memmap(fname_mc, base_name='memmap_', order='C',\n",
        "                               border_to_0=bord_px)\n",
        "    \n",
        "else:  # if no motion correction just memory map the file\n",
        "    fname_new = cm.save_memmap(fnames, base_name='memmap_',\n",
        "                               order='C', border_to_0=0, dview=dview)\n",
        "    \n",
        "print('Motion corrected video has been mapped to memory')"
      ],
      "execution_count": null,
      "outputs": []
    },
    {
      "cell_type": "code",
      "metadata": {
        "id": "DOaoM-x_RH4G"
      },
      "source": [
        "# load memory mappable file\n",
        "Yr, dims, T = cm.load_memmap(fname_new)\n",
        "images = Yr.T.reshape((T,) + dims, order='F')"
      ],
      "execution_count": null,
      "outputs": []
    },
    {
      "cell_type": "code",
      "metadata": {
        "id": "hwLnsmUKRKAB"
      },
      "source": [
        "#%% restart cluster to clean up memory\n",
        "cm.stop_server(dview=dview)\n",
        "c, dview, n_processes = cm.cluster.setup_cluster(\n",
        "    backend='local', n_processes=None, single_thread=False)"
      ],
      "execution_count": null,
      "outputs": []
    },
    {
      "cell_type": "markdown",
      "metadata": {
        "id": "l914_mJ04lj6"
      },
      "source": [
        "# Perform a projection of correlated pixels (and associated signal-to-noise ratio) in motion corrected video\n",
        "This is important to assess the amounts of local correlations and peak-to-noise ratio as well as seed/initialize CNMFe\n"
      ]
    },
    {
      "cell_type": "code",
      "metadata": {
        "id": "Ya_CV0sH4qqH"
      },
      "source": [
        "# Compute some summary images (correlation and peak to noise) while downsampling temporally 5x to speedup the process and avoid memory overflow\n",
        "cn_filter, pnr = cm.summary_images.correlation_pnr(images[::5], gSig=3, swap_dim=False) # change swap dim if output looks weird, it is a problem with tiffile"
      ],
      "execution_count": null,
      "outputs": []
    },
    {
      "cell_type": "code",
      "metadata": {
        "id": "9sUuY1Cc4skJ"
      },
      "source": [
        "#Plot the results of the correlation/PNR projection\n",
        "plt.figure(figsize=(20,10))\n",
        "plt.subplot(2, 2, 1); plt.imshow(cn_filter); plt.colorbar(); plt.title('Correlation projection')\n",
        "plt.subplot(2, 2, 2); plt.imshow(pnr); plt.colorbar(); plt.title('PNR')"
      ],
      "execution_count": null,
      "outputs": []
    },
    {
      "cell_type": "code",
      "metadata": {
        "id": "hYtRgfDM4v_N"
      },
      "source": [
        "# Parameters for source extraction and deconvolution\n",
        "p = 1               # order of the autoregressive system\n",
        "K = None            # upper bound on number of components per patch, in general None\n",
        "gSig = (3, 3)       # gaussian width of a 2D gaussian kernel, which approximates a neuron\n",
        "gSiz = (15, 15)     # average diameter of a neuron, in general 4*gSig+1\n",
        "Ain = None          # possibility to seed with predetermined binary masks\n",
        "merge_thr = .65     # merging threshold, max correlation allowed\n",
        "rf = 40             # half-size of the patches in pixels. e.g., if rf=40, patches are 80x80\n",
        "stride_cnmf = 20    # amount of overlap between the patches in pixels\n",
        "#                     (keep it at least large as gSiz, i.e 4 times the neuron size gSig)\n",
        "tsub = 1            # downsampling factor in time for initialization,\n",
        "#                     increase if you have memory problems\n",
        "ssub = 1            # downsampling factor in space for initialization,\n",
        "#                     increase if you have memory problems\n",
        "#                     you can pass them here as boolean vectors\n",
        "low_rank_background = None  # None leaves background of each patch intact,\n",
        "#                     True performs global low-rank approximation if gnb>0\n",
        "gnb = 1             # number of background components (rank) if positive,\n",
        "#                     else exact ring model with following settings\n",
        "#                         gnb= 0: Return background as b and W\n",
        "#                         gnb=-1: Return full rank background B\n",
        "#                         gnb<-1: Don't return background\n",
        "nb_patch = 0        # number of background components (rank) per patch if gnb>0,\n",
        "#                     else it is set automatically\n",
        "min_corr = .8      # min peak value from correlation image\n",
        "min_pnr = 8        # min peak to noise ration from PNR image\n",
        "ssub_B = 2          # additional downsampling factor in space for background\n",
        "ring_size_factor = 1.4  # radius of ring is gSiz*ring_size_factor\n",
        "memory_fact = 0.8 # How much memory to allocate. 1 works for 16Gb, so 0.8 show be optimized for 12Gb.\n",
        "\n",
        "opts.change_params(params_dict={'method_init': 'corr_pnr',  # use this for 1 photon\n",
        "                                'K': K,\n",
        "                                'gSig': gSig,\n",
        "                                'gSiz': gSiz,\n",
        "                                'merge_thr': merge_thr,\n",
        "                                'p': p,\n",
        "                                'tsub': tsub,\n",
        "                                'ssub': ssub,\n",
        "                                'rf': rf,\n",
        "                                'stride': stride_cnmf,\n",
        "                                'only_init': True,    # set it to True to run CNMF-E\n",
        "                                'nb': gnb,\n",
        "                                'nb_patch': nb_patch,\n",
        "                                'method_deconvolution': 'oasis',       # could use 'cvxpy' alternatively\n",
        "                                'low_rank_background': low_rank_background,\n",
        "                                'update_background_components': True,  # sometimes setting to False improve the results\n",
        "                                'min_corr': min_corr,\n",
        "                                'min_pnr': min_pnr,\n",
        "                                'normalize_init': False,               # just leave as is\n",
        "                                'center_psf': True,                    # leave as is for 1 photon\n",
        "                                'ssub_B': ssub_B,\n",
        "                                'memory_fact': memory_fact,\n",
        "                                'ring_size_factor': ring_size_factor,\n",
        "                                'del_duplicates': True,                # whether to remove duplicates from initialization\n",
        "                                'border_pix': bord_px})                # number of pixels to not consider in the borders)"
      ],
      "execution_count": null,
      "outputs": []
    },
    {
      "cell_type": "markdown",
      "metadata": {
        "id": "oz6nxOUB439d"
      },
      "source": [
        "# Perform CNMFe extraction\n",
        "This will take a while. Coffee time!"
      ]
    },
    {
      "cell_type": "code",
      "metadata": {
        "id": "ZEcVzHLA4wtX"
      },
      "source": [
        "start = time.time()\n",
        "# Perform CNMF\n",
        "cnm = cnmf.CNMF(n_processes=n_processes, dview=dview, Ain=Ain, params=opts)\n",
        "cnm.fit(images)\n",
        "\n",
        "end = time.time()\n",
        "print(end - start)"
      ],
      "execution_count": null,
      "outputs": []
    },
    {
      "cell_type": "markdown",
      "metadata": {
        "id": "sVWwINvL4-4a"
      },
      "source": [
        "# Evaluate components"
      ]
    },
    {
      "cell_type": "code",
      "metadata": {
        "id": "F9ctlUoM5AyU"
      },
      "source": [
        "#%% COMPONENT EVALUATION\n",
        "# the components are evaluated in three ways:\n",
        "#   a) the shape of each component must be correlated with the data\n",
        "#   b) a minimum peak SNR is required over the length of a transient\n",
        "#   c) each shape passes a CNN based classifier\n",
        "\n",
        "min_SNR = 3            # adaptive way to set threshold on the transient size\n",
        "r_values_min = 0.85    # threshold on space consistency (if you lower more components\n",
        "#                        will be accepted, potentially with worst quality)\n",
        "cnm.params.set('quality', {'min_SNR': min_SNR,\n",
        "                           'rval_thr': r_values_min,\n",
        "                           'use_cnn': False})\n",
        "cnm.estimates.evaluate_components(images, cnm.params, dview=dview)\n",
        "\n",
        "print(' ***** ')\n",
        "print('Number of total components: ', len(cnm.estimates.C))\n",
        "print('Number of accepted components: ', len(cnm.estimates.idx_components))"
      ],
      "execution_count": null,
      "outputs": []
    },
    {
      "cell_type": "markdown",
      "metadata": {
        "id": "lyKipX1Z5C6v"
      },
      "source": [
        "# Plot the results for inspection"
      ]
    },
    {
      "cell_type": "code",
      "metadata": {
        "id": "vEMuXjPK5PlA"
      },
      "source": [
        "%matplotlib inline\n",
        "\n",
        "#How many neurons to plot\n",
        "neuronsToPlot = 20\n",
        "\n",
        "DeconvTraces = cnm.estimates.S\n",
        "RawTraces = cnm.estimates.C\n",
        "SFP = cnm.estimates.A\n",
        "SFP_dims = list(dims)\n",
        "SFP_dims.append(SFP.shape[1]) \n",
        "print('Spatial foootprints dimensions (height x width x neurons): ' + str(SFP_dims))\n",
        "\n",
        "numNeurons = SFP_dims[2]\n",
        "\n",
        "SFP = np.reshape(SFP.toarray(), SFP_dims, order='F')\n",
        "\n",
        "maxRawTraces = np.amax(RawTraces)\n",
        "\n",
        "plt.figure(figsize=(30,15))\n",
        "plt.subplot(341);\n",
        "plt.subplot(345); plt.plot(mc.shifts_rig); plt.title('Motion corrected shifts')\n",
        "plt.subplot(3,4,9);\n",
        "plt.subplot(3,4,2); plt.imshow(cn_filter); plt.colorbar(); plt.title('Correlation projection')\n",
        "plt.subplot(3,4,6); plt.imshow(pnr); plt.colorbar(); plt.title('PNR')\n",
        "plt.subplot(3,4,10); plt.imshow(np.amax(SFP,axis=2)); plt.colorbar(); plt.title('Spatial footprints')\n",
        "\n",
        "plt.subplot(2,2,2); plt.figure; plt.title('Example traces (first 50 cells)')\n",
        "plot_gain = 10 # To change the value gain of traces\n",
        "if numNeurons >= neuronsToPlot:\n",
        "  for i in range(neuronsToPlot):\n",
        "    if i == 0:\n",
        "      plt.plot(RawTraces[i,:],'k')\n",
        "    else:\n",
        "      trace = RawTraces[i,:] + maxRawTraces*i/plot_gain\n",
        "      plt.plot(trace,'k')\n",
        "else:\n",
        "  for i in range(numNeurons):\n",
        "    if i == 0:\n",
        "      plt.plot(RawTraces[i,:],'k')\n",
        "    else:\n",
        "      trace = RawTraces[i,:] + maxRawTraces*i/plot_gain\n",
        "      plt.plot(trace,'k')\n",
        "\n",
        "plt.subplot(2,2,4); plt.figure; plt.title('Deconvolved traces (first 50 cells)')\n",
        "plot_gain = 20 # To change the value gain of traces\n",
        "if numNeurons >= neuronsToPlot:\n",
        "  for i in range(neuronsToPlot):\n",
        "    if i == 0:\n",
        "      plt.plot(DeconvTraces[i,:],'k')\n",
        "    else:\n",
        "      trace = DeconvTraces[i,:] + maxRawTraces*i/plot_gain\n",
        "      plt.plot(trace,'k')\n",
        "else:\n",
        "  for i in range(numNeurons):\n",
        "    if i == 0:\n",
        "      plt.plot(DeconvTraces[i,:],'k')\n",
        "    else:\n",
        "      trace = DeconvTraces[i,:] + maxRawTraces*i/plot_gain\n",
        "      plt.plot(trace,'k')      \n",
        "\n",
        "# Save summary figure\n",
        "plt.savefig(dirExperimentName + '/' + 'summary_figure.svg', edgecolor='w', format='svg', transparent=True)"
      ],
      "execution_count": null,
      "outputs": []
    },
    {
      "cell_type": "markdown",
      "metadata": {
        "id": "M3MRwRav5WNx"
      },
      "source": [
        "# Register the timestamps for analysis\n"
      ]
    },
    {
      "cell_type": "code",
      "metadata": {
        "id": "ie8GfR5H5Wo8"
      },
      "source": [
        "\n",
        "with open(path + '/timestamp.dat') as f:\n",
        "  camNum, frameNum, sysClock, buffer = np.loadtxt(f, dtype='float', comments='#', skiprows=1, unpack = True)\n",
        "  \n",
        "cameraMatched = False\n",
        "for j in range(int(max(camNum))+1):\n",
        "  if sum(camNum==j) != 0:\n",
        "    camFrameList, = np.where(camNum == j)\n",
        "    camLastFrame = camFrameList[-1]\n",
        "    LastFrame = frameNum[camLastFrame]\n",
        "    if (sum(camNum==j) == len(RawTraces[1])) and (LastFrame == len(RawTraces[1])):\n",
        "      camNumber = j\n",
        "      mstime_idx = np.where(camNum == j)\n",
        "      mstime=sysClock[mstime_idx]\n",
        "      mstime[0] = 0\n",
        "      maxBufferUsed = max(buffer[mstime_idx])\n",
        "      cameraMatched = True\n",
        "      \n",
        "if cameraMatched is not True:\n",
        "  print('Problem matching up timestamps for ' + experimentName)\n",
        "else:\n",
        "  print('Successfully registered timestamps for ' + experimentName)"
      ],
      "execution_count": null,
      "outputs": []
    },
    {
      "cell_type": "code",
      "metadata": {
        "id": "JolMj8qk5neF"
      },
      "source": [
        "# Stop counter and register analysis time\n",
        "analysis_end = time.time()\n",
        "\n",
        "analysis_duration = analysis_end - analysis_start\n",
        "\n",
        "print('Done analyzing. This took a total ' + str(analysis_duration) + ' s')"
      ],
      "execution_count": null,
      "outputs": []
    },
    {
      "cell_type": "markdown",
      "metadata": {
        "id": "O9Yo2NFa5pJY"
      },
      "source": [
        "# Save the results in HDF5 format"
      ]
    },
    {
      "cell_type": "code",
      "metadata": {
        "id": "K_Qa6yfq5tY1"
      },
      "source": [
        "if save_hdf5: \n",
        "  cnm.save(dirExperimentName + '/analysis_results.hdf5')"
      ],
      "execution_count": null,
      "outputs": []
    },
    {
      "cell_type": "markdown",
      "metadata": {
        "id": "y6OTwXn-6GJX"
      },
      "source": [
        "# Save the results in Matlab format\n"
      ]
    },
    {
      "cell_type": "code",
      "metadata": {
        "id": "5yRnjiUx6WQD"
      },
      "source": [
        "if save_mat:\n",
        "  from scipy.io import savemat\n",
        "  \n",
        "  results_dict = {\n",
        "                'dirName': path_to_analyze,\n",
        "                'numFiles': len(msFileList),\n",
        "                'framesNum': len(RawTraces[1]),\n",
        "                'maxFramesPerFile': 1000,\n",
        "                'height': dims[0],\n",
        "                'width': dims[1],\n",
        "                'Experiment': experimentName,\n",
        "                'ExperimentTimestamp': experiment_timestamp,\n",
        "                'camNumber': 0,\n",
        "                'time': mstime,\n",
        "                'analysis_time': analysis_time,\n",
        "                'ds': spatial_downsampling,\n",
        "                'shifts': mc.shifts_rig,\n",
        "                'meanFrame': [], #TO DO\n",
        "                'Centroids': [], #TO DO\n",
        "                'CorrProj': cn_filter,\n",
        "                'PeakToNoiseProj': pnr,\n",
        "                'FiltTraces': [], #TO DO\n",
        "                'RawTraces': RawTraces.conj().transpose(), #swap time x neurons dimensions\n",
        "                'SFP': SFP,\n",
        "                'numNeurons': SFP_dims[2],\n",
        "                'analysis_duration': analysis_duration\n",
        "                }\n",
        "\n",
        "  SFPperm = np.transpose(SFP,[2,0,1])\n",
        "  sio.savemat(dirExperimentName + '/SFP.mat', {'SFP': SFPperm})\n",
        "  sio.savemat(dirExperimentName + '/ms.mat', {'ms': results_dict})"
      ],
      "execution_count": null,
      "outputs": []
    }
  ]
}